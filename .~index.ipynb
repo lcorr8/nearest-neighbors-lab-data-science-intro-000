{
 "cells": [
  {
   "cell_type": "markdown",
   "metadata": {},
   "source": [
    "# Nearest Neighbors Lab"
   ]
  },
  {
   "cell_type": "markdown",
   "metadata": {},
   "source": [
    "### Introduction\n",
    "\n",
    "In this lab, you apply nearest neighbors technique to help a taxi company predict the length of their rides.  Imagine that we are hired to consult for LiftOff, a limo and taxi service that is just opening up in NYC.  Liftoff wants it's taxi drivers to target longer rides, as the longer the ride the more money it makes.  LiftOff has the following theory:\n",
    "\n",
    "* the pickup location of a taxi ride can help predict the length of the ride.  \n",
    "\n",
    "\n",
    "\n",
    "LiftOff asks us to do some analysis to write a function that will allow it to **predict the length of a taxi ride for any given location **.\n",
    "\n",
    "Our technique will be the following:\n",
    "  * **Collect** Obtain the data containing all of the taxi information, and only select the attributes of taxi trips that we need \n",
    "  * ** Explore ** Examine the attributes of our data, and plot some of our data on a map\n",
    "  * ** Train ** Write our nearest neighbors formula, and change the number of nearby trips to predict the length of a new trip\n",
    "  * ** Predict ** Use our function to predict trip lengths of new locations"
   ]
  },
  {
   "cell_type": "markdown",
   "metadata": {},
   "source": [
    "### Collect and Explore the data"
   ]
  },
  {
   "cell_type": "markdown",
   "metadata": {},
   "source": [
    "#### Collect the Data"
   ]
  },
  {
   "cell_type": "markdown",
   "metadata": {},
   "source": [
    "Luckily for us, [NYC Open Data](https://opendata.cityofnewyork.us/) collects information about NYC taxi trips and provides this data on [its website](https://data.cityofnewyork.us/Transportation/2014-Yellow-Taxi-Trip-Data/gn7m-em8n)."
   ]
  },
  {
   "cell_type": "markdown",
   "metadata": {},
   "source": [
    "![](./nyc-taxi.png)"
   ]
  },
  {
   "cell_type": "markdown",
   "metadata": {},
   "source": [
    "For your reading pleasure, the data has already been downloaded into the [trips.json](https://github.com/learn-co-curriculum/nearest-neighbors-lab/blob/master/trips.json) file in this lab which you can find here.  We'll use Python's `json` library to take the data from the `trips.json` file and store it as a variable in our notebook."
   ]
  },
  {
   "cell_type": "code",
   "execution_count": 1,
   "metadata": {},
   "outputs": [],
   "source": [
    "import json\n",
    "# First, read the file\n",
    "trips_file = open('trips.json')\n",
    "# Then, convert contents to list of dictionaries \n",
    "trips = json.load(trips_file)"
   ]
  },
  {
   "cell_type": "markdown",
   "metadata": {},
   "source": [
    "> Press shift + enter"
   ]
  },
  {
   "cell_type": "markdown",
   "metadata": {},
   "source": [
    "#### Explore the data"
   ]
  },
  {
   "cell_type": "markdown",
   "metadata": {},
   "source": [
    "The next step is to explore the data.  First, let's see how many trips we have."
   ]
  },
  {
   "cell_type": "code",
   "execution_count": 2,
   "metadata": {},
   "outputs": [
    {
     "data": {
      "text/plain": [
       "1000"
      ]
     },
     "execution_count": 2,
     "metadata": {},
     "output_type": "execute_result"
    }
   ],
   "source": [
    "len(trips)"
   ]
  },
  {
   "cell_type": "markdown",
   "metadata": {},
   "source": [
    "Not bad at all.  Now let's see what each individual trip looks like.  Each trip is a dictionary, so we can see the attributes of each trip with the `keys` function."
   ]
  },
  {
   "cell_type": "code",
   "execution_count": 3,
   "metadata": {
    "scrolled": true
   },
   "outputs": [
    {
     "data": {
      "text/plain": [
       "dict_keys(['dropoff_datetime', 'dropoff_latitude', 'dropoff_longitude', 'fare_amount', 'imp_surcharge', 'mta_tax', 'passenger_count', 'payment_type', 'pickup_datetime', 'pickup_latitude', 'pickup_longitude', 'rate_code', 'tip_amount', 'tolls_amount', 'total_amount', 'trip_distance', 'vendor_id'])"
      ]
     },
     "execution_count": 3,
     "metadata": {},
     "output_type": "execute_result"
    }
   ],
   "source": [
    "trips[0].keys()"
   ]
  },
  {
   "cell_type": "markdown",
   "metadata": {},
   "source": [
    "#### Limit our data"
   ]
  },
  {
   "cell_type": "markdown",
   "metadata": {},
   "source": [
    "Ok, now that we have explored some of our data, let's begin to think through what data is relevant for our task."
   ]
  },
  {
   "cell_type": "markdown",
   "metadata": {
    "collapsed": true
   },
   "source": [
    "Remember that our task is to **use the trip location to predict the length of a trip**.  So let's select the `pickup_latitude`, `pickup_longitude`, and `trip_distance` from each trip.  That will give us the trip location and related `trip_distance` for each trip.  Then based on these **actual** trip distances we can use nearest neighbors to predict an **expected** trip distance for a trip, provided an **actual** location."
   ]
  },
  {
   "cell_type": "markdown",
   "metadata": {},
   "source": [
    "** Add in about trip distance ** "
   ]
  },
  {
   "cell_type": "markdown",
   "metadata": {},
   "source": [
    "Write a function called `parse_trips(trips)` that returns a list of the trips with only the following attributes: \n",
    "* `trip_distance`\n",
    "* `pickup_latitude`\n",
    "* `pickup_longitude`"
   ]
  },
  {
   "cell_type": "code",
   "execution_count": 11,
   "metadata": {},
   "outputs": [],
   "source": [
    "def parse_trips(trips):\n",
    "    return list(map(lambda trip: {'trip_distance': trip['trip_distance'], 'pickup_latitude': trip['pickup_latitude'], 'pickup_longitude': trip['pickup_longitude']}, trips))\n",
    "\n"
   ]
  },
  {
   "cell_type": "code",
   "execution_count": 15,
   "metadata": {},
   "outputs": [
    {
     "data": {
      "text/plain": [
       "{'trip_distance': '18.379999999999999',\n",
       " 'pickup_latitude': '40.64499',\n",
       " 'pickup_longitude': '-73.781149999999997'}"
      ]
     },
     "execution_count": 15,
     "metadata": {},
     "output_type": "execute_result"
    }
   ],
   "source": [
    "parsed_trips = parse_trips(trips)\n",
    "\n",
    "parsed_trips and parsed_trips[0]\n",
    "\n",
    "# {'pickup_latitude': '40.64499',\n",
    "#  'pickup_longitude': '-73.78115',\n",
    "#  'trip_distance': '18.38'}"
   ]
  },
  {
   "cell_type": "markdown",
   "metadata": {},
   "source": [
    "Now, there's just one change to make.  If you look at one of the trips, all of the values are strings.  Let's change them to be floats."
   ]
  },
  {
   "cell_type": "code",
   "execution_count": 17,
   "metadata": {},
   "outputs": [],
   "source": [
    "def float_values(trips):    \n",
    "    for trip in trips:\n",
    "        trip['pickup_latitude'] = float(trip['pickup_latitude'])\n",
    "        trip['pickup_longitude'] = float(trip['pickup_longitude'])\n",
    "        trip['trip_distance'] = float(trip['trip_distance'])\n",
    "    return trips"
   ]
  },
  {
   "cell_type": "code",
   "execution_count": 18,
   "metadata": {},
   "outputs": [],
   "source": [
    "cleaned_trips = float_values(parsed_trips)"
   ]
  },
  {
   "cell_type": "code",
   "execution_count": 19,
   "metadata": {},
   "outputs": [
    {
     "data": {
      "text/plain": [
       "{'trip_distance': 18.38,\n",
       " 'pickup_latitude': 40.64499,\n",
       " 'pickup_longitude': -73.78115}"
      ]
     },
     "execution_count": 19,
     "metadata": {},
     "output_type": "execute_result"
    }
   ],
   "source": [
    "cleaned_trips[0]\n",
    "\n",
    "# {'pickup_latitude': 40.64499,\n",
    "#  'pickup_longitude': -73.78115,\n",
    "#  'trip_distance': 18.38}"
   ]
  },
  {
   "cell_type": "markdown",
   "metadata": {},
   "source": [
    "### Exploring the Data"
   ]
  },
  {
   "cell_type": "markdown",
   "metadata": {},
   "source": [
    "Now that we have paired down our data, let's get a sense of our trip data.  We can use the `folium` Python library to plot a map of Manhattan, and our data.  First we must import `folium`, and then use the `Map` function to pass through a `location`, and `zoom_start`.  If a map isn't showing up below, copy and paste the command `pip install -r requirements.txt` into your terminal to install `folium` then try again."
   ]
  },
  {
   "cell_type": "code",
   "execution_count": 20,
   "metadata": {},
   "outputs": [],
   "source": [
    "import folium\n",
    "manhattan_map = folium.Map(location=[40.7589, -73.9851], zoom_start=11)"
   ]
  },
  {
   "cell_type": "code",
   "execution_count": 21,
   "metadata": {
    "scrolled": true
   },
   "outputs": [
    {
     "data": {
      "text/html": [
       "<div style=\"width:100%;\"><div style=\"position:relative;width:100%;height:0;padding-bottom:60%;\"><iframe src=\"data:text/html;charset=utf-8;base64,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\" style=\"position:absolute;width:100%;height:100%;left:0;top:0;border:none !important;\" allowfullscreen webkitallowfullscreen mozallowfullscreen></iframe></div></div>"
      ],
      "text/plain": [
       "<folium.folium.Map at 0x7f9f7472eb38>"
      ]
     },
     "execution_count": 21,
     "metadata": {},
     "output_type": "execute_result"
    }
   ],
   "source": [
    "manhattan_map"
   ]
  },
  {
   "cell_type": "markdown",
   "metadata": {},
   "source": [
    "Ok, now let's see how we could add a dot to mark a specific location.  We'll start with Times Square."
   ]
  },
  {
   "cell_type": "code",
   "execution_count": 22,
   "metadata": {},
   "outputs": [
    {
     "data": {
      "text/plain": [
       "<folium.features.CircleMarker at 0x7f9f4be56e48>"
      ]
     },
     "execution_count": 22,
     "metadata": {},
     "output_type": "execute_result"
    }
   ],
   "source": [
    "marker = folium.CircleMarker(location = [40.7589, -73.9851], radius=10)\n",
    "marker.add_to(manhattan_map)"
   ]
  },
  {
   "cell_type": "markdown",
   "metadata": {},
   "source": [
    "Above, we first create a marker.  Then we add that circle marker to the `manhattan_map` we created earlier. "
   ]
  },
  {
   "cell_type": "code",
   "execution_count": 23,
   "metadata": {
    "scrolled": false
   },
   "outputs": [
    {
     "data": {
      "text/html": [
       "<div style=\"width:100%;\"><div style=\"position:relative;width:100%;height:0;padding-bottom:60%;\"><iframe src=\"data:text/html;charset=utf-8;base64,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\" style=\"position:absolute;width:100%;height:100%;left:0;top:0;border:none !important;\" allowfullscreen webkitallowfullscreen mozallowfullscreen></iframe></div></div>"
      ],
      "text/plain": [
       "<folium.folium.Map at 0x7f9f7472eb38>"
      ]
     },
     "execution_count": 23,
     "metadata": {},
     "output_type": "execute_result"
    }
   ],
   "source": [
    "manhattan_map"
   ]
  },
  {
   "cell_type": "markdown",
   "metadata": {},
   "source": [
    "Do you see that blue dot near Time's Square?  That is our marker.  \n",
    "\n",
    "So now that we can plot one marker on a map, we should have a sense of how we can plot many markers on a map to display our taxi ride data.  We simply plot a map, and then we add a marker for each location of a taxi trip.\n",
    "\n",
    "Now let's write some functions to allow us to plot maps and add markers a little more easily.  "
   ]
  },
  {
   "cell_type": "markdown",
   "metadata": {},
   "source": [
    "#### Writing some map plotting functions"
   ]
  },
  {
   "cell_type": "markdown",
   "metadata": {},
   "source": [
    "As a first step towards this, note that the functions to create both a marker and map each take in a location as two element list, representing the latitude and longitude values.  Take another look:\n",
    "\n",
    "```python\n",
    "marker = folium.CircleMarker(location = [40.7589, -73.9851])\n",
    "manhattan_map = folium.Map(location=[40.7589, -73.9851])\n",
    "```\n",
    "\n",
    "So let's write a function called to create this two element list from a trip.  Write a function called `location` that  takes in a trip as an argument and returns a list where the first element is the latitude and the second is the longitude.  Remember that a location looks like the following:"
   ]
  },
  {
   "cell_type": "code",
   "execution_count": 24,
   "metadata": {},
   "outputs": [
    {
     "data": {
      "text/plain": [
       "{'pickup_latitude': 40.64499,\n",
       " 'pickup_longitude': -73.78115,\n",
       " 'trip_distance': 18.38}"
      ]
     },
     "execution_count": 24,
     "metadata": {},
     "output_type": "execute_result"
    }
   ],
   "source": [
    "first_trip = {'pickup_latitude': 40.64499, 'pickup_longitude': -73.78115,  'trip_distance': 18.38}\n",
    "first_trip"
   ]
  },
  {
   "cell_type": "code",
   "execution_count": 29,
   "metadata": {},
   "outputs": [],
   "source": [
    "def location(trip):\n",
    "    return [trip['pickup_latitude'], trip['pickup_longitude']]"
   ]
  },
  {
   "cell_type": "code",
   "execution_count": 30,
   "metadata": {},
   "outputs": [
    {
     "data": {
      "text/plain": [
       "[40.64499, -73.78115]"
      ]
     },
     "execution_count": 30,
     "metadata": {},
     "output_type": "execute_result"
    }
   ],
   "source": [
    "first_location = location(first_trip) # [40.64499, -73.78115]\n",
    "first_location # [40.64499, -73.78115]"
   ]
  },
  {
   "cell_type": "markdown",
   "metadata": {},
   "source": [
    "Ok, now that we can turn a trip into a location, let's turn a location into a marker.  Write a function called `to_marker` that takes in a location (in the form of a list) as an argument, and returns a folium `circleMarker` for that location.  The radius of the marker should always equal 6."
   ]
  },
  {
   "cell_type": "code",
   "execution_count": 35,
   "metadata": {},
   "outputs": [],
   "source": [
    "def to_marker(location_list):\n",
    "    circleMarker = folium.CircleMarker(location = location_list, radius=6)\n",
    "    return circleMarker"
   ]
  },
  {
   "cell_type": "code",
   "execution_count": 38,
   "metadata": {},
   "outputs": [
    {
     "data": {
      "text/plain": [
       "6"
      ]
     },
     "execution_count": 38,
     "metadata": {},
     "output_type": "execute_result"
    }
   ],
   "source": [
    "import json\n",
    "times_square_marker = to_marker([40.7589, -73.9851])\n",
    "\n",
    "times_square_marker and times_square_marker.location # [40.7589, -73.9851]\n",
    "times_square_marker and json.loads(times_square_marker.options)['radius'] # 6"
   ]
  },
  {
   "cell_type": "markdown",
   "metadata": {},
   "source": [
    "Ok, now that we know how to produce a single marker, let's write a function to produce lots.  We can write a function called `markers_from_trips` that takes in a list of trips, and returns a marker object for each trip.  "
   ]
  },
  {
   "cell_type": "code",
   "execution_count": 44,
   "metadata": {},
   "outputs": [
    {
     "data": {
      "text/plain": [
       "[<folium.features.CircleMarker at 0x7f9f4b9d60f0>,\n",
       " <folium.features.CircleMarker at 0x7f9f4b9d67b8>,\n",
       " <folium.features.CircleMarker at 0x7f9f4b9d6908>,\n",
       " <folium.features.CircleMarker at 0x7f9f4b9d66d8>,\n",
       " <folium.features.CircleMarker at 0x7f9f4b9d67f0>,\n",
       " <folium.features.CircleMarker at 0x7f9f4b9d6128>,\n",
       " <folium.features.CircleMarker at 0x7f9f4b9fc278>,\n",
       " <folium.features.CircleMarker at 0x7f9f4b9fce80>,\n",
       " <folium.features.CircleMarker at 0x7f9f4b9fcb00>,\n",
       " <folium.features.CircleMarker at 0x7f9f4b9d6588>,\n",
       " <folium.features.CircleMarker at 0x7f9f4ba22240>,\n",
       " <folium.features.CircleMarker at 0x7f9f4b9fc2b0>,\n",
       " <folium.features.CircleMarker at 0x7f9f4ba2b438>,\n",
       " <folium.features.CircleMarker at 0x7f9f4ba2b4e0>,\n",
       " <folium.features.CircleMarker at 0x7f9f4ba2b400>,\n",
       " <folium.features.CircleMarker at 0x7f9f4ba2b898>,\n",
       " <folium.features.CircleMarker at 0x7f9f4ba2b8d0>,\n",
       " <folium.features.CircleMarker at 0x7f9f4ba2be10>,\n",
       " <folium.features.CircleMarker at 0x7f9f4b9fca90>,\n",
       " <folium.features.CircleMarker at 0x7f9f4ba73710>,\n",
       " <folium.features.CircleMarker at 0x7f9f4b9d6828>,\n",
       " <folium.features.CircleMarker at 0x7f9f4ba221d0>,\n",
       " <folium.features.CircleMarker at 0x7f9f4ba22a20>,\n",
       " <folium.features.CircleMarker at 0x7f9f4b9fc860>,\n",
       " <folium.features.CircleMarker at 0x7f9f4b9fc3c8>,\n",
       " <folium.features.CircleMarker at 0x7f9f4b9db518>,\n",
       " <folium.features.CircleMarker at 0x7f9f4b9db1d0>,\n",
       " <folium.features.CircleMarker at 0x7f9f4b9dbf60>,\n",
       " <folium.features.CircleMarker at 0x7f9f4b9dbb38>,\n",
       " <folium.features.CircleMarker at 0x7f9f4b9dbcc0>,\n",
       " <folium.features.CircleMarker at 0x7f9f4b9db2b0>,\n",
       " <folium.features.CircleMarker at 0x7f9f4ba2bb00>,\n",
       " <folium.features.CircleMarker at 0x7f9f4b9d6320>,\n",
       " <folium.features.CircleMarker at 0x7f9f4b9fcac8>,\n",
       " <folium.features.CircleMarker at 0x7f9f4b9fcc50>,\n",
       " <folium.features.CircleMarker at 0x7f9f4b9fc828>,\n",
       " <folium.features.CircleMarker at 0x7f9f4b9fc908>,\n",
       " <folium.features.CircleMarker at 0x7f9f4b9fcb38>,\n",
       " <folium.features.CircleMarker at 0x7f9f4b9db128>,\n",
       " <folium.features.CircleMarker at 0x7f9f4b9fceb8>,\n",
       " <folium.features.CircleMarker at 0x7f9f4b99aeb8>,\n",
       " <folium.features.CircleMarker at 0x7f9f4b99a7f0>,\n",
       " <folium.features.CircleMarker at 0x7f9f4b99a4e0>,\n",
       " <folium.features.CircleMarker at 0x7f9f4b99aac8>,\n",
       " <folium.features.CircleMarker at 0x7f9f4b99a550>,\n",
       " <folium.features.CircleMarker at 0x7f9f4b99a5c0>,\n",
       " <folium.features.CircleMarker at 0x7f9f4b99a2b0>,\n",
       " <folium.features.CircleMarker at 0x7f9f4b9db400>,\n",
       " <folium.features.CircleMarker at 0x7f9f4b9dbb00>,\n",
       " <folium.features.CircleMarker at 0x7f9f4b9db630>,\n",
       " <folium.features.CircleMarker at 0x7f9f4b9db278>,\n",
       " <folium.features.CircleMarker at 0x7f9f4b9db828>,\n",
       " <folium.features.CircleMarker at 0x7f9f4b9dba90>,\n",
       " <folium.features.CircleMarker at 0x7f9f4b9db048>,\n",
       " <folium.features.CircleMarker at 0x7f9f4b99d0b8>,\n",
       " <folium.features.CircleMarker at 0x7f9f4b9fc160>,\n",
       " <folium.features.CircleMarker at 0x7f9f4b99d518>,\n",
       " <folium.features.CircleMarker at 0x7f9f4b9db208>,\n",
       " <folium.features.CircleMarker at 0x7f9f4b99da90>,\n",
       " <folium.features.CircleMarker at 0x7f9f4b99d828>,\n",
       " <folium.features.CircleMarker at 0x7f9f4b99d898>,\n",
       " <folium.features.CircleMarker at 0x7f9f4b99d358>,\n",
       " <folium.features.CircleMarker at 0x7f9f4b99a940>,\n",
       " <folium.features.CircleMarker at 0x7f9f4b99a400>,\n",
       " <folium.features.CircleMarker at 0x7f9f4b99add8>,\n",
       " <folium.features.CircleMarker at 0x7f9f4b99a390>,\n",
       " <folium.features.CircleMarker at 0x7f9f4b99a8d0>,\n",
       " <folium.features.CircleMarker at 0x7f9f4b99ad30>,\n",
       " <folium.features.CircleMarker at 0x7f9f4b99d9b0>,\n",
       " <folium.features.CircleMarker at 0x7f9f4b99d7f0>,\n",
       " <folium.features.CircleMarker at 0x7f9f4b99d470>,\n",
       " <folium.features.CircleMarker at 0x7f9f4b99d630>,\n",
       " <folium.features.CircleMarker at 0x7f9f4b99dc18>,\n",
       " <folium.features.CircleMarker at 0x7f9f4b99d160>,\n",
       " <folium.features.CircleMarker at 0x7f9f4b99d2b0>,\n",
       " <folium.features.CircleMarker at 0x7f9f4b9d29b0>,\n",
       " <folium.features.CircleMarker at 0x7f9f4b9d2d68>,\n",
       " <folium.features.CircleMarker at 0x7f9f4b9d2278>,\n",
       " <folium.features.CircleMarker at 0x7f9f4b9d2240>,\n",
       " <folium.features.CircleMarker at 0x7f9f4b9d2e80>,\n",
       " <folium.features.CircleMarker at 0x7f9f4b99d208>,\n",
       " <folium.features.CircleMarker at 0x7f9f4b99df28>,\n",
       " <folium.features.CircleMarker at 0x7f9f4b9db240>,\n",
       " <folium.features.CircleMarker at 0x7f9f4b9db748>,\n",
       " <folium.features.CircleMarker at 0x7f9f4b9db908>,\n",
       " <folium.features.CircleMarker at 0x7f9f4b99d240>,\n",
       " <folium.features.CircleMarker at 0x7f9f4b99d400>,\n",
       " <folium.features.CircleMarker at 0x7f9f4b9d2f28>,\n",
       " <folium.features.CircleMarker at 0x7f9f4b9d25c0>,\n",
       " <folium.features.CircleMarker at 0x7f9f4b99b438>,\n",
       " <folium.features.CircleMarker at 0x7f9f4b99b128>,\n",
       " <folium.features.CircleMarker at 0x7f9f4b99b9e8>,\n",
       " <folium.features.CircleMarker at 0x7f9f4b99b908>,\n",
       " <folium.features.CircleMarker at 0x7f9f4b99a128>,\n",
       " <folium.features.CircleMarker at 0x7f9f4b99b550>,\n",
       " <folium.features.CircleMarker at 0x7f9f4b99bbe0>,\n",
       " <folium.features.CircleMarker at 0x7f9f4b99bf28>,\n",
       " <folium.features.CircleMarker at 0x7f9f4b9d21d0>,\n",
       " <folium.features.CircleMarker at 0x7f9f4b9d2d30>,\n",
       " <folium.features.CircleMarker at 0x7f9f4b9d2550>,\n",
       " <folium.features.CircleMarker at 0x7f9f4b9d2780>,\n",
       " <folium.features.CircleMarker at 0x7f9f4b9d26a0>,\n",
       " <folium.features.CircleMarker at 0x7f9f4b9d2048>,\n",
       " <folium.features.CircleMarker at 0x7f9f4b9d2fd0>,\n",
       " <folium.features.CircleMarker at 0x7f9f4b99bf98>,\n",
       " <folium.features.CircleMarker at 0x7f9f4b99bdd8>,\n",
       " <folium.features.CircleMarker at 0x7f9f4b99b470>,\n",
       " <folium.features.CircleMarker at 0x7f9f4b99b0b8>,\n",
       " <folium.features.CircleMarker at 0x7f9f4b99b358>,\n",
       " <folium.features.CircleMarker at 0x7f9f4b99b6d8>,\n",
       " <folium.features.CircleMarker at 0x7f9f4b979f98>,\n",
       " <folium.features.CircleMarker at 0x7f9f4b979358>,\n",
       " <folium.features.CircleMarker at 0x7f9f4b979cf8>,\n",
       " <folium.features.CircleMarker at 0x7f9f4b979390>,\n",
       " <folium.features.CircleMarker at 0x7f9f4b979240>,\n",
       " <folium.features.CircleMarker at 0x7f9f4b979400>,\n",
       " <folium.features.CircleMarker at 0x7f9f4b99bb38>,\n",
       " <folium.features.CircleMarker at 0x7f9f4b99be80>,\n",
       " <folium.features.CircleMarker at 0x7f9f4b979588>,\n",
       " <folium.features.CircleMarker at 0x7f9f4b979550>,\n",
       " <folium.features.CircleMarker at 0x7f9f4b9795c0>,\n",
       " <folium.features.CircleMarker at 0x7f9f4b99a780>,\n",
       " <folium.features.CircleMarker at 0x7f9f4b9799b0>,\n",
       " <folium.features.CircleMarker at 0x7f9f4b979208>,\n",
       " <folium.features.CircleMarker at 0x7f9f4b967668>,\n",
       " <folium.features.CircleMarker at 0x7f9f4b967240>,\n",
       " <folium.features.CircleMarker at 0x7f9f4b967dd8>,\n",
       " <folium.features.CircleMarker at 0x7f9f4b9674e0>,\n",
       " <folium.features.CircleMarker at 0x7f9f4b967f28>,\n",
       " <folium.features.CircleMarker at 0x7f9f4b979940>,\n",
       " <folium.features.CircleMarker at 0x7f9f4b967470>,\n",
       " <folium.features.CircleMarker at 0x7f9f4b9678d0>,\n",
       " <folium.features.CircleMarker at 0x7f9f4b979c88>,\n",
       " <folium.features.CircleMarker at 0x7f9f4b9674a8>,\n",
       " <folium.features.CircleMarker at 0x7f9f4b9672e8>,\n",
       " <folium.features.CircleMarker at 0x7f9f4b967438>,\n",
       " <folium.features.CircleMarker at 0x7f9f4b979978>,\n",
       " <folium.features.CircleMarker at 0x7f9f4b979f60>,\n",
       " <folium.features.CircleMarker at 0x7f9f4b979ba8>,\n",
       " <folium.features.CircleMarker at 0x7f9f4b967160>,\n",
       " <folium.features.CircleMarker at 0x7f9f4b9db860>,\n",
       " <folium.features.CircleMarker at 0x7f9f4b9fc470>,\n",
       " <folium.features.CircleMarker at 0x7f9f4b9d2ef0>,\n",
       " <folium.features.CircleMarker at 0x7f9f4b967e48>,\n",
       " <folium.features.CircleMarker at 0x7f9f4b9676d8>,\n",
       " <folium.features.CircleMarker at 0x7f9f4b967518>,\n",
       " <folium.features.CircleMarker at 0x7f9f4b99ae80>,\n",
       " <folium.features.CircleMarker at 0x7f9f4b967748>,\n",
       " <folium.features.CircleMarker at 0x7f9f4b960128>,\n",
       " <folium.features.CircleMarker at 0x7f9f4b960358>,\n",
       " <folium.features.CircleMarker at 0x7f9f4b960f60>,\n",
       " <folium.features.CircleMarker at 0x7f9f4b960588>,\n",
       " <folium.features.CircleMarker at 0x7f9f4b960470>,\n",
       " <folium.features.CircleMarker at 0x7f9f4b9d2518>,\n",
       " <folium.features.CircleMarker at 0x7f9f4b9fcda0>,\n",
       " <folium.features.CircleMarker at 0x7f9f4b99a0b8>,\n",
       " <folium.features.CircleMarker at 0x7f9f4b99b518>,\n",
       " <folium.features.CircleMarker at 0x7f9f4b99bc18>,\n",
       " <folium.features.CircleMarker at 0x7f9f4b99bba8>,\n",
       " <folium.features.CircleMarker at 0x7f9f4b99b080>,\n",
       " <folium.features.CircleMarker at 0x7f9f4b99bd68>,\n",
       " <folium.features.CircleMarker at 0x7f9f4b960c18>,\n",
       " <folium.features.CircleMarker at 0x7f9f4b960ac8>,\n",
       " <folium.features.CircleMarker at 0x7f9f4b932e48>,\n",
       " <folium.features.CircleMarker at 0x7f9f4b932f98>,\n",
       " <folium.features.CircleMarker at 0x7f9f4b967320>,\n",
       " <folium.features.CircleMarker at 0x7f9f4b99dbe0>,\n",
       " <folium.features.CircleMarker at 0x7f9f4b932080>,\n",
       " <folium.features.CircleMarker at 0x7f9f4b9324e0>,\n",
       " <folium.features.CircleMarker at 0x7f9f4b932dd8>,\n",
       " <folium.features.CircleMarker at 0x7f9f4b960be0>,\n",
       " <folium.features.CircleMarker at 0x7f9f4b932588>,\n",
       " <folium.features.CircleMarker at 0x7f9f4b932550>,\n",
       " <folium.features.CircleMarker at 0x7f9f4b9324a8>,\n",
       " <folium.features.CircleMarker at 0x7f9f4b932160>,\n",
       " <folium.features.CircleMarker at 0x7f9f4b9328d0>,\n",
       " <folium.features.CircleMarker at 0x7f9f4b960898>,\n",
       " <folium.features.CircleMarker at 0x7f9f4b99aa90>,\n",
       " <folium.features.CircleMarker at 0x7f9f4b932f60>,\n",
       " <folium.features.CircleMarker at 0x7f9f4b932320>,\n",
       " <folium.features.CircleMarker at 0x7f9f4b9329b0>,\n",
       " <folium.features.CircleMarker at 0x7f9f4b932ba8>,\n",
       " <folium.features.CircleMarker at 0x7f9f4b932240>,\n",
       " <folium.features.CircleMarker at 0x7f9f4b932a20>,\n",
       " <folium.features.CircleMarker at 0x7f9f4b945080>,\n",
       " <folium.features.CircleMarker at 0x7f9f4b945f60>,\n",
       " <folium.features.CircleMarker at 0x7f9f4b945710>,\n",
       " <folium.features.CircleMarker at 0x7f9f4b945048>,\n",
       " <folium.features.CircleMarker at 0x7f9f4b945b70>,\n",
       " <folium.features.CircleMarker at 0x7f9f4b979be0>,\n",
       " <folium.features.CircleMarker at 0x7f9f4b979128>,\n",
       " <folium.features.CircleMarker at 0x7f9f4b960b38>,\n",
       " <folium.features.CircleMarker at 0x7f9f4b960550>,\n",
       " <folium.features.CircleMarker at 0x7f9f4b9601d0>,\n",
       " <folium.features.CircleMarker at 0x7f9f4b960208>,\n",
       " <folium.features.CircleMarker at 0x7f9f4b960f28>,\n",
       " <folium.features.CircleMarker at 0x7f9f4b945d68>,\n",
       " <folium.features.CircleMarker at 0x7f9f4b9450b8>,\n",
       " <folium.features.CircleMarker at 0x7f9f4b914e48>,\n",
       " <folium.features.CircleMarker at 0x7f9f4b914630>,\n",
       " <folium.features.CircleMarker at 0x7f9f4b960c50>,\n",
       " <folium.features.CircleMarker at 0x7f9f4b914080>,\n",
       " <folium.features.CircleMarker at 0x7f9f4b932668>,\n",
       " <folium.features.CircleMarker at 0x7f9f4b932b70>,\n",
       " <folium.features.CircleMarker at 0x7f9f4b914358>,\n",
       " <folium.features.CircleMarker at 0x7f9f4b945208>,\n",
       " <folium.features.CircleMarker at 0x7f9f4b9144e0>,\n",
       " <folium.features.CircleMarker at 0x7f9f4b914940>,\n",
       " <folium.features.CircleMarker at 0x7f9f4b914780>,\n",
       " <folium.features.CircleMarker at 0x7f9f4b9146d8>,\n",
       " <folium.features.CircleMarker at 0x7f9f4b914198>,\n",
       " <folium.features.CircleMarker at 0x7f9f4b914908>,\n",
       " <folium.features.CircleMarker at 0x7f9f4b9607f0>,\n",
       " <folium.features.CircleMarker at 0x7f9f4b960160>,\n",
       " <folium.features.CircleMarker at 0x7f9f4b914e80>,\n",
       " <folium.features.CircleMarker at 0x7f9f4b914438>,\n",
       " <folium.features.CircleMarker at 0x7f9f4b914240>,\n",
       " <folium.features.CircleMarker at 0x7f9f4b914550>,\n",
       " <folium.features.CircleMarker at 0x7f9f4b914128>,\n",
       " <folium.features.CircleMarker at 0x7f9f4b8d62e8>,\n",
       " <folium.features.CircleMarker at 0x7f9f4b8d69e8>,\n",
       " <folium.features.CircleMarker at 0x7f9f4b8d6d30>,\n",
       " <folium.features.CircleMarker at 0x7f9f4b8d6978>,\n",
       " <folium.features.CircleMarker at 0x7f9f4b8d6908>,\n",
       " <folium.features.CircleMarker at 0x7f9f4b8d6cc0>,\n",
       " <folium.features.CircleMarker at 0x7f9f4b8d6ac8>,\n",
       " <folium.features.CircleMarker at 0x7f9f4b945cc0>,\n",
       " <folium.features.CircleMarker at 0x7f9f4b945b00>,\n",
       " <folium.features.CircleMarker at 0x7f9f4b945240>,\n",
       " <folium.features.CircleMarker at 0x7f9f4b945dd8>,\n",
       " <folium.features.CircleMarker at 0x7f9f4b9457f0>,\n",
       " <folium.features.CircleMarker at 0x7f9f4b945d30>,\n",
       " <folium.features.CircleMarker at 0x7f9f4b945198>,\n",
       " <folium.features.CircleMarker at 0x7f9f4b8f8518>,\n",
       " <folium.features.CircleMarker at 0x7f9f4b8f82b0>,\n",
       " <folium.features.CircleMarker at 0x7f9f4b8f8128>,\n",
       " <folium.features.CircleMarker at 0x7f9f4b8f8c88>,\n",
       " <folium.features.CircleMarker at 0x7f9f4b914b70>,\n",
       " <folium.features.CircleMarker at 0x7f9f4b8f80b8>,\n",
       " <folium.features.CircleMarker at 0x7f9f4b8f8fd0>,\n",
       " <folium.features.CircleMarker at 0x7f9f4b8d68d0>,\n",
       " <folium.features.CircleMarker at 0x7f9f4b8f8ac8>,\n",
       " <folium.features.CircleMarker at 0x7f9f4b8f8c18>,\n",
       " <folium.features.CircleMarker at 0x7f9f4b8f8748>,\n",
       " <folium.features.CircleMarker at 0x7f9f4b8f8630>,\n",
       " <folium.features.CircleMarker at 0x7f9f4b8f82e8>,\n",
       " <folium.features.CircleMarker at 0x7f9f4b8f8eb8>,\n",
       " <folium.features.CircleMarker at 0x7f9f4b902d30>,\n",
       " <folium.features.CircleMarker at 0x7f9f4b902208>,\n",
       " <folium.features.CircleMarker at 0x7f9f4b902470>,\n",
       " <folium.features.CircleMarker at 0x7f9f4b902278>,\n",
       " <folium.features.CircleMarker at 0x7f9f4b945c18>,\n",
       " <folium.features.CircleMarker at 0x7f9f4b902b70>,\n",
       " <folium.features.CircleMarker at 0x7f9f4b8d61d0>,\n",
       " <folium.features.CircleMarker at 0x7f9f4b8d65f8>,\n",
       " <folium.features.CircleMarker at 0x7f9f4b8f8a20>,\n",
       " <folium.features.CircleMarker at 0x7f9f4b8f8c50>,\n",
       " <folium.features.CircleMarker at 0x7f9f4b8f80f0>,\n",
       " <folium.features.CircleMarker at 0x7f9f4b8f8550>,\n",
       " <folium.features.CircleMarker at 0x7f9f4b8f8470>,\n",
       " <folium.features.CircleMarker at 0x7f9f4b8f8978>,\n",
       " <folium.features.CircleMarker at 0x7f9f4b902ef0>,\n",
       " <folium.features.CircleMarker at 0x7f9f4b8d6dd8>,\n",
       " <folium.features.CircleMarker at 0x7f9f4b8d6a20>,\n",
       " <folium.features.CircleMarker at 0x7f9f4b8d6588>,\n",
       " <folium.features.CircleMarker at 0x7f9f4b8d6828>,\n",
       " <folium.features.CircleMarker at 0x7f9f4b902940>,\n",
       " <folium.features.CircleMarker at 0x7f9f4b902198>,\n",
       " <folium.features.CircleMarker at 0x7f9f4b89b940>,\n",
       " <folium.features.CircleMarker at 0x7f9f4b89bac8>,\n",
       " <folium.features.CircleMarker at 0x7f9f4b89b748>,\n",
       " <folium.features.CircleMarker at 0x7f9f4b89bb70>,\n",
       " <folium.features.CircleMarker at 0x7f9f4b89b518>,\n",
       " <folium.features.CircleMarker at 0x7f9f4b89bb00>,\n",
       " <folium.features.CircleMarker at 0x7f9f4b89b588>,\n",
       " <folium.features.CircleMarker at 0x7f9f4b89b550>,\n",
       " <folium.features.CircleMarker at 0x7f9f4b945438>,\n",
       " <folium.features.CircleMarker at 0x7f9f4b8d6780>,\n",
       " <folium.features.CircleMarker at 0x7f9f4b8d6b38>,\n",
       " <folium.features.CircleMarker at 0x7f9f4b932438>,\n",
       " <folium.features.CircleMarker at 0x7f9f4b9146a0>,\n",
       " <folium.features.CircleMarker at 0x7f9f4b89be48>,\n",
       " <folium.features.CircleMarker at 0x7f9f4b89beb8>,\n",
       " <folium.features.CircleMarker at 0x7f9f4b914c88>,\n",
       " <folium.features.CircleMarker at 0x7f9f4b902ba8>,\n",
       " <folium.features.CircleMarker at 0x7f9f4b960630>,\n",
       " <folium.features.CircleMarker at 0x7f9f4b89ac50>,\n",
       " <folium.features.CircleMarker at 0x7f9f4b89a7f0>,\n",
       " <folium.features.CircleMarker at 0x7f9f4b89a2b0>,\n",
       " <folium.features.CircleMarker at 0x7f9f4b89af98>,\n",
       " <folium.features.CircleMarker at 0x7f9f4b89a0f0>,\n",
       " <folium.features.CircleMarker at 0x7f9f4b902048>,\n",
       " <folium.features.CircleMarker at 0x7f9f4b89aa20>,\n",
       " <folium.features.CircleMarker at 0x7f9f4b89aac8>,\n",
       " <folium.features.CircleMarker at 0x7f9f4b89b2e8>,\n",
       " <folium.features.CircleMarker at 0x7f9f4b9020f0>,\n",
       " <folium.features.CircleMarker at 0x7f9f4b9021d0>,\n",
       " <folium.features.CircleMarker at 0x7f9f4b89b438>,\n",
       " <folium.features.CircleMarker at 0x7f9f4b89b860>,\n",
       " <folium.features.CircleMarker at 0x7f9f4b89b0f0>,\n",
       " <folium.features.CircleMarker at 0x7f9f4b902be0>,\n",
       " <folium.features.CircleMarker at 0x7f9f4b89a6d8>,\n",
       " <folium.features.CircleMarker at 0x7f9f4b89a5f8>,\n",
       " <folium.features.CircleMarker at 0x7f9f4b89ac18>,\n",
       " <folium.features.CircleMarker at 0x7f9f4b89a8d0>,\n",
       " <folium.features.CircleMarker at 0x7f9f4b89ae10>,\n",
       " <folium.features.CircleMarker at 0x7f9f4b89a898>,\n",
       " <folium.features.CircleMarker at 0x7f9f4b8b3d68>,\n",
       " <folium.features.CircleMarker at 0x7f9f4b8b36a0>,\n",
       " <folium.features.CircleMarker at 0x7f9f4b8b3e48>,\n",
       " <folium.features.CircleMarker at 0x7f9f4b8b39e8>,\n",
       " <folium.features.CircleMarker at 0x7f9f4b89b4e0>,\n",
       " <folium.features.CircleMarker at 0x7f9f4b89bcc0>,\n",
       " <folium.features.CircleMarker at 0x7f9f4b960940>,\n",
       " <folium.features.CircleMarker at 0x7f9f4b89a5c0>,\n",
       " <folium.features.CircleMarker at 0x7f9f4b89aba8>,\n",
       " <folium.features.CircleMarker at 0x7f9f4b89aeb8>,\n",
       " <folium.features.CircleMarker at 0x7f9f4b89a1d0>,\n",
       " <folium.features.CircleMarker at 0x7f9f4b89afd0>,\n",
       " <folium.features.CircleMarker at 0x7f9f4b89abe0>,\n",
       " <folium.features.CircleMarker at 0x7f9f4b902b38>,\n",
       " <folium.features.CircleMarker at 0x7f9f4b89ab38>,\n",
       " <folium.features.CircleMarker at 0x7f9f4b8b3be0>,\n",
       " <folium.features.CircleMarker at 0x7f9f4b8b3048>,\n",
       " <folium.features.CircleMarker at 0x7f9f4b8b3d30>,\n",
       " <folium.features.CircleMarker at 0x7f9f4b8b3b38>,\n",
       " <folium.features.CircleMarker at 0x7f9f4b8b3208>,\n",
       " <folium.features.CircleMarker at 0x7f9f4b8b33c8>,\n",
       " <folium.features.CircleMarker at 0x7f9f4b8a2f60>,\n",
       " <folium.features.CircleMarker at 0x7f9f4b8a2780>,\n",
       " <folium.features.CircleMarker at 0x7f9f4b8a28d0>,\n",
       " <folium.features.CircleMarker at 0x7f9f4b8a2240>,\n",
       " <folium.features.CircleMarker at 0x7f9f4b8a2668>,\n",
       " <folium.features.CircleMarker at 0x7f9f4b8a2eb8>,\n",
       " <folium.features.CircleMarker at 0x7f9f4b8a2cc0>,\n",
       " <folium.features.CircleMarker at 0x7f9f4b8b3240>,\n",
       " <folium.features.CircleMarker at 0x7f9f4b8a2e80>,\n",
       " <folium.features.CircleMarker at 0x7f9f4b8a2320>,\n",
       " <folium.features.CircleMarker at 0x7f9f4b8a2da0>,\n",
       " <folium.features.CircleMarker at 0x7f9f4b8a2160>,\n",
       " <folium.features.CircleMarker at 0x7f9f4b8a27b8>,\n",
       " <folium.features.CircleMarker at 0x7f9f4b8a2390>,\n",
       " <folium.features.CircleMarker at 0x7f9f4b86c630>,\n",
       " <folium.features.CircleMarker at 0x7f9f4b86c208>,\n",
       " <folium.features.CircleMarker at 0x7f9f4b86ce48>,\n",
       " <folium.features.CircleMarker at 0x7f9f4b86cef0>,\n",
       " <folium.features.CircleMarker at 0x7f9f4b86ca90>,\n",
       " <folium.features.CircleMarker at 0x7f9f4b86c710>,\n",
       " <folium.features.CircleMarker at 0x7f9f4b8b3a58>,\n",
       " <folium.features.CircleMarker at 0x7f9f4b86c9e8>,\n",
       " <folium.features.CircleMarker at 0x7f9f4b8a2b00>,\n",
       " <folium.features.CircleMarker at 0x7f9f4b8a2e48>,\n",
       " <folium.features.CircleMarker at 0x7f9f4b8a2a58>,\n",
       " <folium.features.CircleMarker at 0x7f9f4b8a2518>,\n",
       " <folium.features.CircleMarker at 0x7f9f4b8a2550>,\n",
       " <folium.features.CircleMarker at 0x7f9f4b86c1d0>,\n",
       " <folium.features.CircleMarker at 0x7f9f4b8648d0>,\n",
       " <folium.features.CircleMarker at 0x7f9f4b902eb8>,\n",
       " <folium.features.CircleMarker at 0x7f9f4b902e10>,\n",
       " <folium.features.CircleMarker at 0x7f9f4b8b3828>,\n",
       " <folium.features.CircleMarker at 0x7f9f4b8b3a20>,\n",
       " <folium.features.CircleMarker at 0x7f9f4b8b39b0>,\n",
       " <folium.features.CircleMarker at 0x7f9f4b86c438>,\n",
       " <folium.features.CircleMarker at 0x7f9f4b86c5f8>,\n",
       " <folium.features.CircleMarker at 0x7f9f4b864278>,\n",
       " <folium.features.CircleMarker at 0x7f9f4b8649b0>,\n",
       " <folium.features.CircleMarker at 0x7f9f4b864f28>,\n",
       " <folium.features.CircleMarker at 0x7f9f4b864198>,\n",
       " <folium.features.CircleMarker at 0x7f9f4b864208>,\n",
       " <folium.features.CircleMarker at 0x7f9f4b864860>,\n",
       " <folium.features.CircleMarker at 0x7f9f4b86c7b8>,\n",
       " <folium.features.CircleMarker at 0x7f9f4b864080>,\n",
       " <folium.features.CircleMarker at 0x7f9f4b864eb8>,\n",
       " <folium.features.CircleMarker at 0x7f9f4b864710>,\n",
       " <folium.features.CircleMarker at 0x7f9f4b864f60>,\n",
       " <folium.features.CircleMarker at 0x7f9f4b864390>,\n",
       " <folium.features.CircleMarker at 0x7f9f4b864358>,\n",
       " <folium.features.CircleMarker at 0x7f9f4b867c50>,\n",
       " <folium.features.CircleMarker at 0x7f9f4b867ac8>,\n",
       " <folium.features.CircleMarker at 0x7f9f4b867e48>,\n",
       " <folium.features.CircleMarker at 0x7f9f4b867ef0>,\n",
       " <folium.features.CircleMarker at 0x7f9f4b8f8e48>,\n",
       " <folium.features.CircleMarker at 0x7f9f4b8678d0>,\n",
       " <folium.features.CircleMarker at 0x7f9f4b86c470>,\n",
       " <folium.features.CircleMarker at 0x7f9f4b8679e8>,\n",
       " <folium.features.CircleMarker at 0x7f9f4b864438>,\n",
       " <folium.features.CircleMarker at 0x7f9f4b864400>,\n",
       " <folium.features.CircleMarker at 0x7f9f4b864a90>,\n",
       " <folium.features.CircleMarker at 0x7f9f4b864c50>,\n",
       " <folium.features.CircleMarker at 0x7f9f4b8672e8>,\n",
       " <folium.features.CircleMarker at 0x7f9f4b867668>,\n",
       " <folium.features.CircleMarker at 0x7f9f4b81e7b8>,\n",
       " <folium.features.CircleMarker at 0x7f9f4b81e748>,\n",
       " <folium.features.CircleMarker at 0x7f9f4b81eef0>,\n",
       " <folium.features.CircleMarker at 0x7f9f4b8b3ef0>,\n",
       " <folium.features.CircleMarker at 0x7f9f4b81ed68>,\n",
       " <folium.features.CircleMarker at 0x7f9f4b86c278>,\n",
       " <folium.features.CircleMarker at 0x7f9f4b86c7f0>,\n",
       " <folium.features.CircleMarker at 0x7f9f4b86c4e0>,\n",
       " <folium.features.CircleMarker at 0x7f9f4b86c240>,\n",
       " <folium.features.CircleMarker at 0x7f9f4b867be0>,\n",
       " <folium.features.CircleMarker at 0x7f9f4b8679b0>,\n",
       " <folium.features.CircleMarker at 0x7f9f4b8673c8>,\n",
       " <folium.features.CircleMarker at 0x7f9f4b867898>,\n",
       " <folium.features.CircleMarker at 0x7f9f4b8672b0>,\n",
       " <folium.features.CircleMarker at 0x7f9f4b8b3ba8>,\n",
       " <folium.features.CircleMarker at 0x7f9f4b81e240>,\n",
       " <folium.features.CircleMarker at 0x7f9f4b81e208>,\n",
       " <folium.features.CircleMarker at 0x7f9f4b81e710>,\n",
       " <folium.features.CircleMarker at 0x7f9f4b81e5f8>,\n",
       " <folium.features.CircleMarker at 0x7f9f4b81e9b0>,\n",
       " <folium.features.CircleMarker at 0x7f9f4b81e0f0>,\n",
       " <folium.features.CircleMarker at 0x7f9f4b817e10>,\n",
       " <folium.features.CircleMarker at 0x7f9f4b817358>,\n",
       " <folium.features.CircleMarker at 0x7f9f4b817b00>,\n",
       " <folium.features.CircleMarker at 0x7f9f4b817080>,\n",
       " <folium.features.CircleMarker at 0x7f9f4b817198>,\n",
       " <folium.features.CircleMarker at 0x7f9f4b8179e8>,\n",
       " <folium.features.CircleMarker at 0x7f9f4b8177b8>,\n",
       " <folium.features.CircleMarker at 0x7f9f4b81e278>,\n",
       " <folium.features.CircleMarker at 0x7f9f4b81ec50>,\n",
       " <folium.features.CircleMarker at 0x7f9f4b81e828>,\n",
       " <folium.features.CircleMarker at 0x7f9f4b8a2198>,\n",
       " <folium.features.CircleMarker at 0x7f9f4b8b3e10>,\n",
       " <folium.features.CircleMarker at 0x7f9f4b89add8>,\n",
       " <folium.features.CircleMarker at 0x7f9f4b86cc18>,\n",
       " <folium.features.CircleMarker at 0x7f9f4b867f28>,\n",
       " <folium.features.CircleMarker at 0x7f9f4b867dd8>,\n",
       " <folium.features.CircleMarker at 0x7f9f4b81e978>,\n",
       " <folium.features.CircleMarker at 0x7f9f4b81e128>,\n",
       " <folium.features.CircleMarker at 0x7f9f4b84fdd8>,\n",
       " <folium.features.CircleMarker at 0x7f9f4b902f28>,\n",
       " <folium.features.CircleMarker at 0x7f9f4b817160>,\n",
       " <folium.features.CircleMarker at 0x7f9f4b86cdd8>,\n",
       " <folium.features.CircleMarker at 0x7f9f4b817518>,\n",
       " <folium.features.CircleMarker at 0x7f9f4b817278>,\n",
       " <folium.features.CircleMarker at 0x7f9f4b8174e0>,\n",
       " <folium.features.CircleMarker at 0x7f9f4b817860>,\n",
       " <folium.features.CircleMarker at 0x7f9f4b84f470>,\n",
       " <folium.features.CircleMarker at 0x7f9f4b84f9e8>,\n",
       " <folium.features.CircleMarker at 0x7f9f4b84f940>,\n",
       " <folium.features.CircleMarker at 0x7f9f4b84f978>,\n",
       " <folium.features.CircleMarker at 0x7f9f4b84f160>,\n",
       " <folium.features.CircleMarker at 0x7f9f4b84fd30>,\n",
       " <folium.features.CircleMarker at 0x7f9f4b817668>,\n",
       " <folium.features.CircleMarker at 0x7f9f4b8641d0>,\n",
       " <folium.features.CircleMarker at 0x7f9f4b84fcf8>,\n",
       " <folium.features.CircleMarker at 0x7f9f4b84f080>,\n",
       " <folium.features.CircleMarker at 0x7f9f4b84fc18>,\n",
       " <folium.features.CircleMarker at 0x7f9f4b84f0f0>,\n",
       " <folium.features.CircleMarker at 0x7f9f4b84f390>,\n",
       " <folium.features.CircleMarker at 0x7f9f4b84ff98>,\n",
       " <folium.features.CircleMarker at 0x7f9f4b7e4da0>,\n",
       " <folium.features.CircleMarker at 0x7f9f4b7e44e0>,\n",
       " <folium.features.CircleMarker at 0x7f9f4b7e4dd8>,\n",
       " <folium.features.CircleMarker at 0x7f9f4b864470>,\n",
       " <folium.features.CircleMarker at 0x7f9f4b7e49e8>,\n",
       " <folium.features.CircleMarker at 0x7f9f4b817da0>,\n",
       " <folium.features.CircleMarker at 0x7f9f4b7e4518>,\n",
       " <folium.features.CircleMarker at 0x7f9f4b7e4710>,\n",
       " <folium.features.CircleMarker at 0x7f9f4b84f438>,\n",
       " <folium.features.CircleMarker at 0x7f9f4b84f240>,\n",
       " <folium.features.CircleMarker at 0x7f9f4b84f358>,\n",
       " <folium.features.CircleMarker at 0x7f9f4b84fef0>,\n",
       " <folium.features.CircleMarker at 0x7f9f4b84f9b0>,\n",
       " <folium.features.CircleMarker at 0x7f9f4b84fa58>,\n",
       " <folium.features.CircleMarker at 0x7f9f4b817cc0>,\n",
       " <folium.features.CircleMarker at 0x7f9f4b7e47b8>,\n",
       " <folium.features.CircleMarker at 0x7f9f4b7e4ba8>,\n",
       " <folium.features.CircleMarker at 0x7f9f4b7e4550>,\n",
       " <folium.features.CircleMarker at 0x7f9f4b7e4f98>,\n",
       " <folium.features.CircleMarker at 0x7f9f4b7e48d0>,\n",
       " <folium.features.CircleMarker at 0x7f9f4b7e4400>,\n",
       " <folium.features.CircleMarker at 0x7f9f4b7e8f98>,\n",
       " <folium.features.CircleMarker at 0x7f9f4b7e8588>,\n",
       " <folium.features.CircleMarker at 0x7f9f4b7e8cf8>,\n",
       " <folium.features.CircleMarker at 0x7f9f4b7e8390>,\n",
       " <folium.features.CircleMarker at 0x7f9f4b7e8048>,\n",
       " <folium.features.CircleMarker at 0x7f9f4b7e8ef0>,\n",
       " <folium.features.CircleMarker at 0x7f9f4b81e3c8>,\n",
       " <folium.features.CircleMarker at 0x7f9f4b7e8ba8>,\n",
       " <folium.features.CircleMarker at 0x7f9f4b7e4d68>,\n",
       " <folium.features.CircleMarker at 0x7f9f4b7e4e10>,\n",
       " <folium.features.CircleMarker at 0x7f9f4b7e41d0>,\n",
       " <folium.features.CircleMarker at 0x7f9f4b7e4898>,\n",
       " <folium.features.CircleMarker at 0x7f9f4b7e83c8>,\n",
       " <folium.features.CircleMarker at 0x7f9f4b7e8978>,\n",
       " <folium.features.CircleMarker at 0x7f9f4b80a668>,\n",
       " <folium.features.CircleMarker at 0x7f9f4b80a240>,\n",
       " <folium.features.CircleMarker at 0x7f9f4b80add8>,\n",
       " <folium.features.CircleMarker at 0x7f9f4b80a4e0>,\n",
       " <folium.features.CircleMarker at 0x7f9f4b81e7f0>,\n",
       " <folium.features.CircleMarker at 0x7f9f4b7e4198>,\n",
       " <folium.features.CircleMarker at 0x7f9f4b80af28>,\n",
       " <folium.features.CircleMarker at 0x7f9f4b80ac18>,\n",
       " <folium.features.CircleMarker at 0x7f9f4b7e8b38>,\n",
       " <folium.features.CircleMarker at 0x7f9f4b7e8668>,\n",
       " <folium.features.CircleMarker at 0x7f9f4b7e88d0>,\n",
       " <folium.features.CircleMarker at 0x7f9f4b7e8208>,\n",
       " <folium.features.CircleMarker at 0x7f9f4b7e86a0>,\n",
       " <folium.features.CircleMarker at 0x7f9f4b7e8240>,\n",
       " <folium.features.CircleMarker at 0x7f9f4b7a6cf8>,\n",
       " <folium.features.CircleMarker at 0x7f9f4b7e89b0>,\n",
       " <folium.features.CircleMarker at 0x7f9f4b7e84a8>,\n",
       " <folium.features.CircleMarker at 0x7f9f4b817ac8>,\n",
       " <folium.features.CircleMarker at 0x7f9f4b8176d8>,\n",
       " <folium.features.CircleMarker at 0x7f9f4b80a160>,\n",
       " <folium.features.CircleMarker at 0x7f9f4b80a550>,\n",
       " <folium.features.CircleMarker at 0x7f9f4b80aac8>,\n",
       " <folium.features.CircleMarker at 0x7f9f4b7a67b8>,\n",
       " <folium.features.CircleMarker at 0x7f9f4b7a69e8>,\n",
       " <folium.features.CircleMarker at 0x7f9f4b7a6128>,\n",
       " <folium.features.CircleMarker at 0x7f9f4b7a6400>,\n",
       " <folium.features.CircleMarker at 0x7f9f4b7a6550>,\n",
       " <folium.features.CircleMarker at 0x7f9f4b7a6940>,\n",
       " <folium.features.CircleMarker at 0x7f9f4b80a080>,\n",
       " <folium.features.CircleMarker at 0x7f9f4b7a6470>,\n",
       " <folium.features.CircleMarker at 0x7f9f4b7a69b0>,\n",
       " <folium.features.CircleMarker at 0x7f9f4b7a61d0>,\n",
       " <folium.features.CircleMarker at 0x7f9f4b7a6da0>,\n",
       " <folium.features.CircleMarker at 0x7f9f4b7a65f8>,\n",
       " <folium.features.CircleMarker at 0x7f9f4b7a65c0>,\n",
       " <folium.features.CircleMarker at 0x7f9f4b7b6c88>,\n",
       " <folium.features.CircleMarker at 0x7f9f4b7b6b00>,\n",
       " <folium.features.CircleMarker at 0x7f9f4b7b6dd8>,\n",
       " <folium.features.CircleMarker at 0x7f9f4b7b6860>,\n",
       " <folium.features.CircleMarker at 0x7f9f4b7b62b0>,\n",
       " <folium.features.CircleMarker at 0x7f9f4b867438>,\n",
       " <folium.features.CircleMarker at 0x7f9f4b867630>,\n",
       " <folium.features.CircleMarker at 0x7f9f4b7b6f98>,\n",
       " <folium.features.CircleMarker at 0x7f9f4b7a64a8>,\n",
       " <folium.features.CircleMarker at 0x7f9f4b7a6908>,\n",
       " <folium.features.CircleMarker at 0x7f9f4b7a6898>,\n",
       " <folium.features.CircleMarker at 0x7f9f4b7a6b38>,\n",
       " <folium.features.CircleMarker at 0x7f9f4b7b61d0>,\n",
       " <folium.features.CircleMarker at 0x7f9f4b7b6550>,\n",
       " <folium.features.CircleMarker at 0x7f9f4b799cf8>,\n",
       " <folium.features.CircleMarker at 0x7f9f4b799390>,\n",
       " <folium.features.CircleMarker at 0x7f9f4b799f28>,\n",
       " <folium.features.CircleMarker at 0x7f9f4b799588>,\n",
       " <folium.features.CircleMarker at 0x7f9f4b799e80>,\n",
       " <folium.features.CircleMarker at 0x7f9f4b80ada0>,\n",
       " <folium.features.CircleMarker at 0x7f9f4b80a208>,\n",
       " <folium.features.CircleMarker at 0x7f9f4b80af98>,\n",
       " <folium.features.CircleMarker at 0x7f9f4b7b6898>,\n",
       " <folium.features.CircleMarker at 0x7f9f4b7b6e80>,\n",
       " <folium.features.CircleMarker at 0x7f9f4b7b6400>,\n",
       " <folium.features.CircleMarker at 0x7f9f4b7b6358>,\n",
       " <folium.features.CircleMarker at 0x7f9f4b7b64a8>,\n",
       " <folium.features.CircleMarker at 0x7f9f4b7b6be0>,\n",
       " <folium.features.CircleMarker at 0x7f9f4b7b6128>,\n",
       " <folium.features.CircleMarker at 0x7f9f4b7991d0>,\n",
       " <folium.features.CircleMarker at 0x7f9f4b799978>,\n",
       " <folium.features.CircleMarker at 0x7f9f4b799940>,\n",
       " <folium.features.CircleMarker at 0x7f9f4b799b38>,\n",
       " <folium.features.CircleMarker at 0x7f9f4b799a90>,\n",
       " <folium.features.CircleMarker at 0x7f9f4b7997b8>,\n",
       " <folium.features.CircleMarker at 0x7f9f4b7c3e48>,\n",
       " <folium.features.CircleMarker at 0x7f9f4b7c3390>,\n",
       " <folium.features.CircleMarker at 0x7f9f4b7c3748>,\n",
       " <folium.features.CircleMarker at 0x7f9f4b7c3128>,\n",
       " <folium.features.CircleMarker at 0x7f9f4b7c3dd8>,\n",
       " <folium.features.CircleMarker at 0x7f9f4b7c38d0>,\n",
       " <folium.features.CircleMarker at 0x7f9f4b7c3e10>,\n",
       " <folium.features.CircleMarker at 0x7f9f4b799ac8>,\n",
       " <folium.features.CircleMarker at 0x7f9f4b799780>,\n",
       " <folium.features.CircleMarker at 0x7f9f4b7e4e48>,\n",
       " <folium.features.CircleMarker at 0x7f9f4b7e8278>,\n",
       " <folium.features.CircleMarker at 0x7f9f4b7e8160>,\n",
       " <folium.features.CircleMarker at 0x7f9f4b7c3cc0>,\n",
       " <folium.features.CircleMarker at 0x7f9f4b80a438>,\n",
       " <folium.features.CircleMarker at 0x7f9f4b7c3198>,\n",
       " <folium.features.CircleMarker at 0x7f9f4b7c35f8>,\n",
       " <folium.features.CircleMarker at 0x7f9f4b7c31d0>,\n",
       " <folium.features.CircleMarker at 0x7f9f4b775208>,\n",
       " <folium.features.CircleMarker at 0x7f9f4b775d30>,\n",
       " <folium.features.CircleMarker at 0x7f9f4b7759e8>,\n",
       " <folium.features.CircleMarker at 0x7f9f4b80ac50>,\n",
       " <folium.features.CircleMarker at 0x7f9f4b7a6cc0>,\n",
       " <folium.features.CircleMarker at 0x7f9f4b80a630>,\n",
       " <folium.features.CircleMarker at 0x7f9f4b775dd8>,\n",
       " <folium.features.CircleMarker at 0x7f9f4b799550>,\n",
       " <folium.features.CircleMarker at 0x7f9f4b799630>,\n",
       " <folium.features.CircleMarker at 0x7f9f4b775400>,\n",
       " <folium.features.CircleMarker at 0x7f9f4b775a58>,\n",
       " <folium.features.CircleMarker at 0x7f9f4b7757f0>,\n",
       " <folium.features.CircleMarker at 0x7f9f4b7754a8>,\n",
       " <folium.features.CircleMarker at 0x7f9f4b7c3cf8>,\n",
       " <folium.features.CircleMarker at 0x7f9f4b7c3518>,\n",
       " <folium.features.CircleMarker at 0x7f9f4b775c18>,\n",
       " <folium.features.CircleMarker at 0x7f9f4b775ef0>,\n",
       " <folium.features.CircleMarker at 0x7f9f4b775828>,\n",
       " <folium.features.CircleMarker at 0x7f9f4b7b6c18>,\n",
       " <folium.features.CircleMarker at 0x7f9f4b7751d0>,\n",
       " <folium.features.CircleMarker at 0x7f9f4b775240>,\n",
       " <folium.features.CircleMarker at 0x7f9f4b775630>,\n",
       " <folium.features.CircleMarker at 0x7f9f4b757ef0>,\n",
       " <folium.features.CircleMarker at 0x7f9f4b757f60>,\n",
       " <folium.features.CircleMarker at 0x7f9f4b757518>,\n",
       " <folium.features.CircleMarker at 0x7f9f4b757cf8>,\n",
       " <folium.features.CircleMarker at 0x7f9f4b775da0>,\n",
       " <folium.features.CircleMarker at 0x7f9f4b775a20>,\n",
       " <folium.features.CircleMarker at 0x7f9f4b757b00>,\n",
       " <folium.features.CircleMarker at 0x7f9f4b7b67f0>,\n",
       " <folium.features.CircleMarker at 0x7f9f4b80afd0>,\n",
       " <folium.features.CircleMarker at 0x7f9f4b775898>,\n",
       " <folium.features.CircleMarker at 0x7f9f4b7992b0>,\n",
       " <folium.features.CircleMarker at 0x7f9f4b799208>,\n",
       " <folium.features.CircleMarker at 0x7f9f4b757d30>,\n",
       " <folium.features.CircleMarker at 0x7f9f4b757710>,\n",
       " <folium.features.CircleMarker at 0x7f9f4b782e48>,\n",
       " <folium.features.CircleMarker at 0x7f9f4b799048>,\n",
       " <folium.features.CircleMarker at 0x7f9f4b782128>,\n",
       " <folium.features.CircleMarker at 0x7f9f4b7c3ac8>,\n",
       " <folium.features.CircleMarker at 0x7f9f4b7b6a90>,\n",
       " <folium.features.CircleMarker at 0x7f9f4b7822b0>,\n",
       " <folium.features.CircleMarker at 0x7f9f4b782cc0>,\n",
       " <folium.features.CircleMarker at 0x7f9f4b757e10>,\n",
       " <folium.features.CircleMarker at 0x7f9f4b782ba8>,\n",
       " <folium.features.CircleMarker at 0x7f9f4b7826a0>,\n",
       " <folium.features.CircleMarker at 0x7f9f4b782f60>,\n",
       " <folium.features.CircleMarker at 0x7f9f4b782d68>,\n",
       " <folium.features.CircleMarker at 0x7f9f4b7822e8>,\n",
       " <folium.features.CircleMarker at 0x7f9f4b757cc0>,\n",
       " <folium.features.CircleMarker at 0x7f9f4b782828>,\n",
       " <folium.features.CircleMarker at 0x7f9f4b782630>,\n",
       " <folium.features.CircleMarker at 0x7f9f4b7829b0>,\n",
       " <folium.features.CircleMarker at 0x7f9f4b7820f0>,\n",
       " <folium.features.CircleMarker at 0x7f9f4b782da0>,\n",
       " <folium.features.CircleMarker at 0x7f9f4b782588>,\n",
       " <folium.features.CircleMarker at 0x7f9f4b782b70>,\n",
       " <folium.features.CircleMarker at 0x7f9f4b715080>,\n",
       " <folium.features.CircleMarker at 0x7f9f4b715f60>,\n",
       " <folium.features.CircleMarker at 0x7f9f4b715710>,\n",
       " <folium.features.CircleMarker at 0x7f9f4b715048>,\n",
       " <folium.features.CircleMarker at 0x7f9f4b715b70>,\n",
       " <folium.features.CircleMarker at 0x7f9f4b775cf8>,\n",
       " <folium.features.CircleMarker at 0x7f9f4b7158d0>,\n",
       " <folium.features.CircleMarker at 0x7f9f4b757a20>,\n",
       " <folium.features.CircleMarker at 0x7f9f4b7578d0>,\n",
       " <folium.features.CircleMarker at 0x7f9f4b757400>,\n",
       " <folium.features.CircleMarker at 0x7f9f4b7577f0>,\n",
       " <folium.features.CircleMarker at 0x7f9f4b7570f0>,\n",
       " <folium.features.CircleMarker at 0x7f9f4b715d68>,\n",
       " <folium.features.CircleMarker at 0x7f9f4b715a20>,\n",
       " <folium.features.CircleMarker at 0x7f9f4b735e48>,\n",
       " <folium.features.CircleMarker at 0x7f9f4b735630>,\n",
       " <folium.features.CircleMarker at 0x7f9f4b757e48>,\n",
       " <folium.features.CircleMarker at 0x7f9f4b7c33c8>,\n",
       " <folium.features.CircleMarker at 0x7f9f4b782c18>,\n",
       " <folium.features.CircleMarker at 0x7f9f4b735128>,\n",
       " <folium.features.CircleMarker at 0x7f9f4b735588>,\n",
       " <folium.features.CircleMarker at 0x7f9f4b7157f0>,\n",
       " <folium.features.CircleMarker at 0x7f9f4b735320>,\n",
       " <folium.features.CircleMarker at 0x7f9f4b735a58>,\n",
       " <folium.features.CircleMarker at 0x7f9f4b735780>,\n",
       " <folium.features.CircleMarker at 0x7f9f4b735ac8>,\n",
       " <folium.features.CircleMarker at 0x7f9f4b7150b8>,\n",
       " <folium.features.CircleMarker at 0x7f9f4b735358>,\n",
       " <folium.features.CircleMarker at 0x7f9f4b782240>,\n",
       " <folium.features.CircleMarker at 0x7f9f4b7354e0>,\n",
       " <folium.features.CircleMarker at 0x7f9f4b735cc0>,\n",
       " <folium.features.CircleMarker at 0x7f9f4b735550>,\n",
       " <folium.features.CircleMarker at 0x7f9f4b735860>,\n",
       " <folium.features.CircleMarker at 0x7f9f4b735828>,\n",
       " <folium.features.CircleMarker at 0x7f9f4b735be0>,\n",
       " <folium.features.CircleMarker at 0x7f9f4b71b2e8>,\n",
       " <folium.features.CircleMarker at 0x7f9f4b71b9e8>,\n",
       " <folium.features.CircleMarker at 0x7f9f4b71bd30>,\n",
       " <folium.features.CircleMarker at 0x7f9f4b71b978>,\n",
       " <folium.features.CircleMarker at 0x7f9f4b71b908>,\n",
       " <folium.features.CircleMarker at 0x7f9f4b71bcc0>,\n",
       " <folium.features.CircleMarker at 0x7f9f4b71b710>,\n",
       " <folium.features.CircleMarker at 0x7f9f4b7155c0>,\n",
       " <folium.features.CircleMarker at 0x7f9f4b7153c8>,\n",
       " <folium.features.CircleMarker at 0x7f9f4b715ac8>,\n",
       " <folium.features.CircleMarker at 0x7f9f4b715908>,\n",
       " <folium.features.CircleMarker at 0x7f9f4b715dd8>,\n",
       " <folium.features.CircleMarker at 0x7f9f4b715240>,\n",
       " <folium.features.CircleMarker at 0x7f9f4b715cc0>,\n",
       " <folium.features.CircleMarker at 0x7f9f4b6ea518>,\n",
       " <folium.features.CircleMarker at 0x7f9f4b6ea2b0>,\n",
       " <folium.features.CircleMarker at 0x7f9f4b6ea128>,\n",
       " <folium.features.CircleMarker at 0x7f9f4b757b70>,\n",
       " <folium.features.CircleMarker at 0x7f9f4b7c3908>,\n",
       " <folium.features.CircleMarker at 0x7f9f4b6ea978>,\n",
       " <folium.features.CircleMarker at 0x7f9f4b6eac50>,\n",
       " <folium.features.CircleMarker at 0x7f9f4b71bcf8>,\n",
       " <folium.features.CircleMarker at 0x7f9f4b6eaac8>,\n",
       " <folium.features.CircleMarker at 0x7f9f4b6ea8d0>,\n",
       " <folium.features.CircleMarker at 0x7f9f4b6ea940>,\n",
       " <folium.features.CircleMarker at 0x7f9f4b6eae10>,\n",
       " <folium.features.CircleMarker at 0x7f9f4b6eaeb8>,\n",
       " <folium.features.CircleMarker at 0x7f9f4b6eaf60>,\n",
       " <folium.features.CircleMarker at 0x7f9f4b6dad30>,\n",
       " <folium.features.CircleMarker at 0x7f9f4b71b0b8>,\n",
       " <folium.features.CircleMarker at 0x7f9f4b71b1d0>,\n",
       " <folium.features.CircleMarker at 0x7f9f4b71b9b0>,\n",
       " <folium.features.CircleMarker at 0x7f9f4b71bb38>,\n",
       " <folium.features.CircleMarker at 0x7f9f4b71bb70>,\n",
       " <folium.features.CircleMarker at 0x7f9f4b71bf98>,\n",
       " <folium.features.CircleMarker at 0x7f9f4b71b198>,\n",
       " <folium.features.CircleMarker at 0x7f9f4b6da9e8>,\n",
       " <folium.features.CircleMarker at 0x7f9f4b6da908>,\n",
       " <folium.features.CircleMarker at 0x7f9f4b6dac18>,\n",
       " <folium.features.CircleMarker at 0x7f9f4b6da400>,\n",
       " <folium.features.CircleMarker at 0x7f9f4b6da7f0>,\n",
       " <folium.features.CircleMarker at 0x7f9f4b6dacf8>,\n",
       " <folium.features.CircleMarker at 0x7f9f4b6eaa90>,\n",
       " <folium.features.CircleMarker at 0x7f9f4b782438>,\n",
       " <folium.features.CircleMarker at 0x7f9f4b715390>,\n",
       " <folium.features.CircleMarker at 0x7f9f4b757f28>,\n",
       " <folium.features.CircleMarker at 0x7f9f4b757588>,\n",
       " <folium.features.CircleMarker at 0x7f9f4b6eab00>,\n",
       " <folium.features.CircleMarker at 0x7f9f4b6eaa20>,\n",
       " <folium.features.CircleMarker at 0x7f9f4b6ea860>,\n",
       " <folium.features.CircleMarker at 0x7f9f4b6ea278>,\n",
       " <folium.features.CircleMarker at 0x7f9f4b6da5c0>,\n",
       " <folium.features.CircleMarker at 0x7f9f4b70e1d0>,\n",
       " <folium.features.CircleMarker at 0x7f9f4b70e710>,\n",
       " <folium.features.CircleMarker at 0x7f9f4b70efd0>,\n",
       " <folium.features.CircleMarker at 0x7f9f4b70e358>,\n",
       " <folium.features.CircleMarker at 0x7f9f4b735a90>,\n",
       " <folium.features.CircleMarker at 0x7f9f4b6ea198>,\n",
       " <folium.features.CircleMarker at 0x7f9f4b71b4a8>,\n",
       " <folium.features.CircleMarker at 0x7f9f4b70e518>,\n",
       " <folium.features.CircleMarker at 0x7f9f4b70e160>,\n",
       " <folium.features.CircleMarker at 0x7f9f4b6da978>,\n",
       " <folium.features.CircleMarker at 0x7f9f4b6da5f8>,\n",
       " <folium.features.CircleMarker at 0x7f9f4b6da630>,\n",
       " <folium.features.CircleMarker at 0x7f9f4b6da7b8>,\n",
       " <folium.features.CircleMarker at 0x7f9f4b6dada0>,\n",
       " <folium.features.CircleMarker at 0x7f9f4b6da048>,\n",
       " <folium.features.CircleMarker at 0x7f9f4b735c50>,\n",
       " <folium.features.CircleMarker at 0x7f9f4b775c50>,\n",
       " <folium.features.CircleMarker at 0x7f9f4b735470>,\n",
       " <folium.features.CircleMarker at 0x7f9f4b70e860>,\n",
       " <folium.features.CircleMarker at 0x7f9f4b70ee80>,\n",
       " <folium.features.CircleMarker at 0x7f9f4b70e978>,\n",
       " <folium.features.CircleMarker at 0x7f9f4b70e0b8>,\n",
       " <folium.features.CircleMarker at 0x7f9f4b70ef60>,\n",
       " <folium.features.CircleMarker at 0x7f9f4b697ef0>,\n",
       " <folium.features.CircleMarker at 0x7f9f4b697f60>,\n",
       " <folium.features.CircleMarker at 0x7f9f4b6970f0>,\n",
       " <folium.features.CircleMarker at 0x7f9f4b697a20>,\n",
       " <folium.features.CircleMarker at 0x7f9f4b697198>,\n",
       " <folium.features.CircleMarker at 0x7f9f4b70ea58>,\n",
       " <folium.features.CircleMarker at 0x7f9f4b71b240>,\n",
       " <folium.features.CircleMarker at 0x7f9f4b6daac8>,\n",
       " <folium.features.CircleMarker at 0x7f9f4b697668>,\n",
       " <folium.features.CircleMarker at 0x7f9f4b697860>,\n",
       " <folium.features.CircleMarker at 0x7f9f4b6976d8>,\n",
       " <folium.features.CircleMarker at 0x7f9f4b6972b0>,\n",
       " <folium.features.CircleMarker at 0x7f9f4b697ac8>,\n",
       " <folium.features.CircleMarker at 0x7f9f4b697828>,\n",
       " <folium.features.CircleMarker at 0x7f9f4b6bde80>,\n",
       " <folium.features.CircleMarker at 0x7f9f4b6da1d0>,\n",
       " <folium.features.CircleMarker at 0x7f9f4b6bdf98>,\n",
       " <folium.features.CircleMarker at 0x7f9f4b71b208>,\n",
       " <folium.features.CircleMarker at 0x7f9f4b6bd128>,\n",
       " <folium.features.CircleMarker at 0x7f9f4b70eb00>,\n",
       " <folium.features.CircleMarker at 0x7f9f4b70e0f0>,\n",
       " <folium.features.CircleMarker at 0x7f9f4b70e940>,\n",
       " <folium.features.CircleMarker at 0x7f9f4b6bde48>,\n",
       " <folium.features.CircleMarker at 0x7f9f4b6bd278>,\n",
       " <folium.features.CircleMarker at 0x7f9f4b6bdef0>,\n",
       " <folium.features.CircleMarker at 0x7f9f4b6bdcf8>,\n",
       " <folium.features.CircleMarker at 0x7f9f4b6bd550>,\n",
       " <folium.features.CircleMarker at 0x7f9f4b70eac8>,\n",
       " <folium.features.CircleMarker at 0x7f9f4b6bd898>,\n",
       " <folium.features.CircleMarker at 0x7f9f4b6bd080>,\n",
       " <folium.features.CircleMarker at 0x7f9f4b6bd780>,\n",
       " <folium.features.CircleMarker at 0x7f9f4b6bd198>,\n",
       " <folium.features.CircleMarker at 0x7f9f4b6bd470>,\n",
       " <folium.features.CircleMarker at 0x7f9f4b6bdb00>,\n",
       " <folium.features.CircleMarker at 0x7f9f4b6bd978>,\n",
       " <folium.features.CircleMarker at 0x7f9f4b6cef28>,\n",
       " <folium.features.CircleMarker at 0x7f9f4b6ceef0>,\n",
       " <folium.features.CircleMarker at 0x7f9f4b6ce780>,\n",
       " <folium.features.CircleMarker at 0x7f9f4b6ce5f8>,\n",
       " <folium.features.CircleMarker at 0x7f9f4b6ce518>,\n",
       " <folium.features.CircleMarker at 0x7f9f4b7c3a90>,\n",
       " <folium.features.CircleMarker at 0x7f9f4b6cecf8>,\n",
       " <folium.features.CircleMarker at 0x7f9f4b697550>,\n",
       " <folium.features.CircleMarker at 0x7f9f4b70eef0>,\n",
       " <folium.features.CircleMarker at 0x7f9f4b697898>,\n",
       " <folium.features.CircleMarker at 0x7f9f4b697eb8>,\n",
       " <folium.features.CircleMarker at 0x7f9f4b6974a8>,\n",
       " <folium.features.CircleMarker at 0x7f9f4b6ce748>,\n",
       " <folium.features.CircleMarker at 0x7f9f4b6ce7b8>,\n",
       " <folium.features.CircleMarker at 0x7f9f4b6c4e80>,\n",
       " <folium.features.CircleMarker at 0x7f9f4b6c4b00>,\n",
       " <folium.features.CircleMarker at 0x7f9f4b697358>,\n",
       " <folium.features.CircleMarker at 0x7f9f4b6c4e10>,\n",
       " <folium.features.CircleMarker at 0x7f9f4b6c48d0>,\n",
       " <folium.features.CircleMarker at 0x7f9f4b6c4160>,\n",
       " <folium.features.CircleMarker at 0x7f9f4b6ce9e8>,\n",
       " <folium.features.CircleMarker at 0x7f9f4b6c42b0>,\n",
       " <folium.features.CircleMarker at 0x7f9f4b6cedd8>,\n",
       " <folium.features.CircleMarker at 0x7f9f4b6ce0b8>,\n",
       " <folium.features.CircleMarker at 0x7f9f4b6ce860>,\n",
       " <folium.features.CircleMarker at 0x7f9f4b6ceb00>,\n",
       " <folium.features.CircleMarker at 0x7f9f4b6ce278>,\n",
       " <folium.features.CircleMarker at 0x7f9f4b6ce128>,\n",
       " <folium.features.CircleMarker at 0x7f9f4b6bddd8>,\n",
       " <folium.features.CircleMarker at 0x7f9f4b6bd390>,\n",
       " <folium.features.CircleMarker at 0x7f9f4b6bda58>,\n",
       " <folium.features.CircleMarker at 0x7f9f4b6ce550>,\n",
       " <folium.features.CircleMarker at 0x7f9f4b6ce080>,\n",
       " <folium.features.CircleMarker at 0x7f9f4b6c4a90>,\n",
       " <folium.features.CircleMarker at 0x7f9f4b6c46a0>,\n",
       " <folium.features.CircleMarker at 0x7f9f4b6644a8>,\n",
       " <folium.features.CircleMarker at 0x7f9f4b6649b0>,\n",
       " <folium.features.CircleMarker at 0x7f9f4b664908>,\n",
       " <folium.features.CircleMarker at 0x7f9f4b664a20>,\n",
       " <folium.features.CircleMarker at 0x7f9f4b6640f0>,\n",
       " <folium.features.CircleMarker at 0x7f9f4b664710>,\n",
       " <folium.features.CircleMarker at 0x7f9f4b664b38>,\n",
       " <folium.features.CircleMarker at 0x7f9f4b6c41d0>,\n",
       " <folium.features.CircleMarker at 0x7f9f4b6c4358>,\n",
       " <folium.features.CircleMarker at 0x7f9f4b6c4470>,\n",
       " <folium.features.CircleMarker at 0x7f9f4b6c4550>,\n",
       " <folium.features.CircleMarker at 0x7f9f4b6c4f98>,\n",
       " <folium.features.CircleMarker at 0x7f9f4b6c4668>,\n",
       " <folium.features.CircleMarker at 0x7f9f4b6c4be0>,\n",
       " <folium.features.CircleMarker at 0x7f9f4b686550>,\n",
       " <folium.features.CircleMarker at 0x7f9f4b6867b8>,\n",
       " <folium.features.CircleMarker at 0x7f9f4b686780>,\n",
       " <folium.features.CircleMarker at 0x7f9f4b6da390>,\n",
       " <folium.features.CircleMarker at 0x7f9f4b6c4588>,\n",
       " <folium.features.CircleMarker at 0x7f9f4b6c4978>,\n",
       " <folium.features.CircleMarker at 0x7f9f4b686cf8>,\n",
       " <folium.features.CircleMarker at 0x7f9f4b664278>,\n",
       " <folium.features.CircleMarker at 0x7f9f4b686278>,\n",
       " <folium.features.CircleMarker at 0x7f9f4b686978>,\n",
       " <folium.features.CircleMarker at 0x7f9f4b686198>,\n",
       " <folium.features.CircleMarker at 0x7f9f4b686940>,\n",
       " <folium.features.CircleMarker at 0x7f9f4b6869b0>,\n",
       " <folium.features.CircleMarker at 0x7f9f4b686a58>,\n",
       " <folium.features.CircleMarker at 0x7f9f4b65d080>,\n",
       " <folium.features.CircleMarker at 0x7f9f4b65d240>,\n",
       " <folium.features.CircleMarker at 0x7f9f4b65df28>,\n",
       " <folium.features.CircleMarker at 0x7f9f4b65dfd0>,\n",
       " <folium.features.CircleMarker at 0x7f9f4b70e320>,\n",
       " <folium.features.CircleMarker at 0x7f9f4b664048>,\n",
       " <folium.features.CircleMarker at 0x7f9f4b664d68>,\n",
       " <folium.features.CircleMarker at 0x7f9f4b664c18>,\n",
       " <folium.features.CircleMarker at 0x7f9f4b686128>,\n",
       " <folium.features.CircleMarker at 0x7f9f4b686b38>,\n",
       " <folium.features.CircleMarker at 0x7f9f4b686f98>,\n",
       " <folium.features.CircleMarker at 0x7f9f4b686908>,\n",
       " <folium.features.CircleMarker at 0x7f9f4b686160>,\n",
       " <folium.features.CircleMarker at 0x7f9f4b65d828>,\n",
       " <folium.features.CircleMarker at 0x7f9f4b65db38>,\n",
       " <folium.features.CircleMarker at 0x7f9f4b65d630>,\n",
       " <folium.features.CircleMarker at 0x7f9f4b6640b8>,\n",
       " <folium.features.CircleMarker at 0x7f9f4b6ce2e8>,\n",
       " <folium.features.CircleMarker at 0x7f9f4b65d0f0>,\n",
       " <folium.features.CircleMarker at 0x7f9f4b65d4a8>,\n",
       " <folium.features.CircleMarker at 0x7f9f4b65d6d8>,\n",
       " <folium.features.CircleMarker at 0x7f9f4b65dc18>,\n",
       " <folium.features.CircleMarker at 0x7f9f4b65da58>,\n",
       " <folium.features.CircleMarker at 0x7f9f4b65d908>,\n",
       " <folium.features.CircleMarker at 0x7f9f4b615ef0>,\n",
       " <folium.features.CircleMarker at 0x7f9f4b6155c0>,\n",
       " <folium.features.CircleMarker at 0x7f9f4b615358>,\n",
       " <folium.features.CircleMarker at 0x7f9f4b6ce048>,\n",
       " <folium.features.CircleMarker at 0x7f9f4b6bd748>,\n",
       " <folium.features.CircleMarker at 0x7f9f4b6c4940>,\n",
       " <folium.features.CircleMarker at 0x7f9f4b686860>,\n",
       " <folium.features.CircleMarker at 0x7f9f4b6868d0>,\n",
       " <folium.features.CircleMarker at 0x7f9f4b686e80>,\n",
       " <folium.features.CircleMarker at 0x7f9f4b664828>,\n",
       " <folium.features.CircleMarker at 0x7f9f4b65d940>,\n",
       " <folium.features.CircleMarker at 0x7f9f4b65d518>,\n",
       " <folium.features.CircleMarker at 0x7f9f4b65de10>,\n",
       " <folium.features.CircleMarker at 0x7f9f4b615d30>,\n",
       " <folium.features.CircleMarker at 0x7f9f4b65d1d0>,\n",
       " <folium.features.CircleMarker at 0x7f9f4b697dd8>,\n",
       " <folium.features.CircleMarker at 0x7f9f4b6154e0>,\n",
       " <folium.features.CircleMarker at 0x7f9f4b615da0>,\n",
       " <folium.features.CircleMarker at 0x7f9f4b6159b0>,\n",
       " <folium.features.CircleMarker at 0x7f9f4b615c50>,\n",
       " <folium.features.CircleMarker at 0x7f9f4b615860>,\n",
       " <folium.features.CircleMarker at 0x7f9f4b646ef0>,\n",
       " <folium.features.CircleMarker at 0x7f9f4b646908>,\n",
       " <folium.features.CircleMarker at 0x7f9f4b646898>,\n",
       " <folium.features.CircleMarker at 0x7f9f4b646be0>,\n",
       " <folium.features.CircleMarker at 0x7f9f4b646400>,\n",
       " <folium.features.CircleMarker at 0x7f9f4b646080>,\n",
       " <folium.features.CircleMarker at 0x7f9f4b6468d0>,\n",
       " <folium.features.CircleMarker at 0x7f9f4b646fd0>,\n",
       " <folium.features.CircleMarker at 0x7f9f4b6158d0>,\n",
       " <folium.features.CircleMarker at 0x7f9f4b615f28>,\n",
       " <folium.features.CircleMarker at 0x7f9f4b615a90>,\n",
       " <folium.features.CircleMarker at 0x7f9f4b615b70>,\n",
       " <folium.features.CircleMarker at 0x7f9f4b615f98>,\n",
       " <folium.features.CircleMarker at 0x7f9f4b6157b8>,\n",
       " <folium.features.CircleMarker at 0x7f9f4b651cf8>,\n",
       " <folium.features.CircleMarker at 0x7f9f4b651240>,\n",
       " <folium.features.CircleMarker at 0x7f9f4b651f28>,\n",
       " <folium.features.CircleMarker at 0x7f9f4b651748>,\n",
       " <folium.features.CircleMarker at 0x7f9f4b6153c8>,\n",
       " <folium.features.CircleMarker at 0x7f9f4b651e80>,\n",
       " <folium.features.CircleMarker at 0x7f9f4b651d68>,\n",
       " <folium.features.CircleMarker at 0x7f9f4b6510b8>,\n",
       " <folium.features.CircleMarker at 0x7f9f4b646748>,\n",
       " <folium.features.CircleMarker at 0x7f9f4b646e80>,\n",
       " <folium.features.CircleMarker at 0x7f9f4b6467f0>,\n",
       " <folium.features.CircleMarker at 0x7f9f4b646d30>,\n",
       " <folium.features.CircleMarker at 0x7f9f4b6465f8>,\n",
       " <folium.features.CircleMarker at 0x7f9f4b646c18>,\n",
       " <folium.features.CircleMarker at 0x7f9f4b646860>,\n",
       " <folium.features.CircleMarker at 0x7f9f4b646b00>,\n",
       " <folium.features.CircleMarker at 0x7f9f4b615cc0>,\n",
       " <folium.features.CircleMarker at 0x7f9f4b664940>,\n",
       " <folium.features.CircleMarker at 0x7f9f4b646e48>,\n",
       " <folium.features.CircleMarker at 0x7f9f4b646e10>,\n",
       " <folium.features.CircleMarker at 0x7f9f4b651a58>,\n",
       " <folium.features.CircleMarker at 0x7f9f4b6511d0>,\n",
       " <folium.features.CircleMarker at 0x7f9f4b5d62b0>,\n",
       " <folium.features.CircleMarker at 0x7f9f4b5d62e8>,\n",
       " <folium.features.CircleMarker at 0x7f9f4b5d6a58>,\n",
       " <folium.features.CircleMarker at 0x7f9f4b5d6208>,\n",
       " <folium.features.CircleMarker at 0x7f9f4b5d6dd8>,\n",
       " <folium.features.CircleMarker at 0x7f9f4b5d6160>,\n",
       " <folium.features.CircleMarker at 0x7f9f4b5d6710>,\n",
       " <folium.features.CircleMarker at 0x7f9f4b651da0>,\n",
       " <folium.features.CircleMarker at 0x7f9f4b6516a0>,\n",
       " <folium.features.CircleMarker at 0x7f9f4b651b38>,\n",
       " <folium.features.CircleMarker at 0x7f9f4b651048>,\n",
       " <folium.features.CircleMarker at 0x7f9f4b651668>,\n",
       " <folium.features.CircleMarker at 0x7f9f4b651470>,\n",
       " <folium.features.CircleMarker at 0x7f9f4b5fe5f8>,\n",
       " <folium.features.CircleMarker at 0x7f9f4b5fe208>,\n",
       " <folium.features.CircleMarker at 0x7f9f4b5fef28>,\n",
       " <folium.features.CircleMarker at 0x7f9f4b5febe0>,\n",
       " <folium.features.CircleMarker at 0x7f9f4b5feeb8>,\n",
       " <folium.features.CircleMarker at 0x7f9f4b5fe550>,\n",
       " <folium.features.CircleMarker at 0x7f9f4b5fe588>,\n",
       " <folium.features.CircleMarker at 0x7f9f4b5fe7b8>,\n",
       " <folium.features.CircleMarker at 0x7f9f4b5d6e80>,\n",
       " <folium.features.CircleMarker at 0x7f9f4b5d61d0>,\n",
       " <folium.features.CircleMarker at 0x7f9f4b5d69e8>,\n",
       " <folium.features.CircleMarker at 0x7f9f4b5d6fd0>,\n",
       " <folium.features.CircleMarker at 0x7f9f4b5d6b00>,\n",
       " <folium.features.CircleMarker at 0x7f9f4b5d64e0>,\n",
       " <folium.features.CircleMarker at 0x7f9f4b5d6a90>,\n",
       " <folium.features.CircleMarker at 0x7f9f4b5daeb8>,\n",
       " <folium.features.CircleMarker at 0x7f9f4b5dab38>,\n",
       " <folium.features.CircleMarker at 0x7f9f4b5d6748>,\n",
       " <folium.features.CircleMarker at 0x7f9f4b651be0>,\n",
       " <folium.features.CircleMarker at 0x7f9f4b5dac88>,\n",
       " <folium.features.CircleMarker at 0x7f9f4b5dac18>,\n",
       " <folium.features.CircleMarker at 0x7f9f4b5da0f0>,\n",
       " <folium.features.CircleMarker at 0x7f9f4b5fec18>,\n",
       " <folium.features.CircleMarker at 0x7f9f4b5fe390>,\n",
       " <folium.features.CircleMarker at 0x7f9f4b5fef60>,\n",
       " <folium.features.CircleMarker at 0x7f9f4b5fea58>,\n",
       " <folium.features.CircleMarker at 0x7f9f4b5fea90>,\n",
       " <folium.features.CircleMarker at 0x7f9f4b5fe358>,\n",
       " <folium.features.CircleMarker at 0x7f9f4b5fe5c0>,\n",
       " <folium.features.CircleMarker at 0x7f9f4b5dacc0>,\n",
       " <folium.features.CircleMarker at 0x7f9f4b5da1d0>,\n",
       " <folium.features.CircleMarker at 0x7f9f4b5dac50>,\n",
       " <folium.features.CircleMarker at 0x7f9f4b5da940>,\n",
       " <folium.features.CircleMarker at 0x7f9f4b5da2b0>,\n",
       " <folium.features.CircleMarker at 0x7f9f4b5daac8>,\n",
       " <folium.features.CircleMarker at 0x7f9f4b5daa90>,\n",
       " <folium.features.CircleMarker at 0x7f9f4b60ff60>,\n",
       " <folium.features.CircleMarker at 0x7f9f4b60ff28>,\n",
       " <folium.features.CircleMarker at 0x7f9f4b60f7f0>,\n",
       " <folium.features.CircleMarker at 0x7f9f4b60f7b8>,\n",
       " <folium.features.CircleMarker at 0x7f9f4b60f748>,\n",
       " <folium.features.CircleMarker at 0x7f9f4b5da6a0>,\n",
       " <folium.features.CircleMarker at 0x7f9f4b5d6a20>,\n",
       " <folium.features.CircleMarker at 0x7f9f4b5fe630>,\n",
       " <folium.features.CircleMarker at 0x7f9f4b60f470>,\n",
       " <folium.features.CircleMarker at 0x7f9f4b5da320>,\n",
       " <folium.features.CircleMarker at 0x7f9f4b60fc18>,\n",
       " <folium.features.CircleMarker at 0x7f9f4b60f828>,\n",
       " <folium.features.CircleMarker at 0x7f9f4b60fd30>,\n",
       " <folium.features.CircleMarker at 0x7f9f4b60fc88>,\n",
       " <folium.features.CircleMarker at 0x7f9f4b5bbeb8>,\n",
       " <folium.features.CircleMarker at 0x7f9f4b5bbb38>,\n",
       " <folium.features.CircleMarker at 0x7f9f4b5d6cc0>,\n",
       " <folium.features.CircleMarker at 0x7f9f4b651390>,\n",
       " <folium.features.CircleMarker at 0x7f9f4b5bbc18>,\n",
       " <folium.features.CircleMarker at 0x7f9f4b5da208>,\n",
       " <folium.features.CircleMarker at 0x7f9f4b5bb7b8>,\n",
       " <folium.features.CircleMarker at 0x7f9f4b60fa58>,\n",
       " <folium.features.CircleMarker at 0x7f9f4b60f0f0>,\n",
       " <folium.features.CircleMarker at 0x7f9f4b60f2e8>,\n",
       " <folium.features.CircleMarker at 0x7f9f4b60fe10>,\n",
       " <folium.features.CircleMarker at 0x7f9f4b60f208>,\n",
       " <folium.features.CircleMarker at 0x7f9f4b60f6a0>,\n",
       " <folium.features.CircleMarker at 0x7f9f4b5bb080>,\n",
       " <folium.features.CircleMarker at 0x7f9f4b5bb390>,\n",
       " <folium.features.CircleMarker at 0x7f9f4b5dad30>,\n",
       " <folium.features.CircleMarker at 0x7f9f4b5da080>]"
      ]
     },
     "execution_count": 44,
     "metadata": {},
     "output_type": "execute_result"
    }
   ],
   "source": [
    "def markers_from_trips(trips):\n",
    "    #to_marker(trips)\n",
    "    return list(map(lambda trip: to_marker(location(trip)), trips))\n",
    "    \n",
    "        \n",
    "\n",
    "    \n",
    "\n",
    "markers_from_trips(cleaned_trips)\n",
    "#cleaned_trips[0]"
   ]
  },
  {
   "cell_type": "code",
   "execution_count": 45,
   "metadata": {},
   "outputs": [],
   "source": [
    "trip_markers = markers_from_trips(cleaned_trips)"
   ]
  },
  {
   "cell_type": "code",
   "execution_count": 46,
   "metadata": {},
   "outputs": [
    {
     "data": {
      "text/plain": [
       "[{'trip_distance': 18.38,\n",
       "  'pickup_latitude': 40.64499,\n",
       "  'pickup_longitude': -73.78115},\n",
       " {'trip_distance': 1.3,\n",
       "  'pickup_latitude': 40.766931,\n",
       "  'pickup_longitude': -73.982098},\n",
       " {'trip_distance': 4.5,\n",
       "  'pickup_latitude': 40.77773,\n",
       "  'pickup_longitude': -73.951902},\n",
       " {'trip_distance': 2.4,\n",
       "  'pickup_latitude': 40.795678,\n",
       "  'pickup_longitude': -73.971049}]"
      ]
     },
     "execution_count": 46,
     "metadata": {},
     "output_type": "execute_result"
    }
   ],
   "source": [
    "cleaned_trips[0:4]"
   ]
  },
  {
   "cell_type": "code",
   "execution_count": 49,
   "metadata": {},
   "outputs": [
    {
     "data": {
      "text/plain": [
       "[[40.64499, -73.78115],\n",
       " [40.766931, -73.982098],\n",
       " [40.77773, -73.951902],\n",
       " [40.795678, -73.971049]]"
      ]
     },
     "execution_count": 49,
     "metadata": {},
     "output_type": "execute_result"
    }
   ],
   "source": [
    "trip_markers and len(trip_markers) # 1000\n",
    "\n",
    "list(map(lambda marker: marker.location, trip_markers[0:4]))\n",
    "# [[40.64499, -73.78115],\n",
    "#  [40.766931, -73.982098],\n",
    "#  [40.77773, -73.951902],\n",
    "#  [40.795678, -73.971049]]"
   ]
  },
  {
   "cell_type": "markdown",
   "metadata": {},
   "source": [
    "Ok, now that we have a function that creates locations, and a function that creates markers, it is time to write a function to plot a map. \n",
    "\n",
    "Write a function called `map_from` that, provided the first argument of a list location and second argument an integer representing the `zoom_start`, returns a `folium` map the corresponding location and `zoom_start` attributes.\n",
    "\n",
    "> Hint: The following is how to write a map with folium:\n",
    "> ```python \n",
    "    folium.Map(location=location, zoom_start=zoom_amount)\n",
    "> ```"
   ]
  },
  {
   "cell_type": "code",
   "execution_count": 50,
   "metadata": {},
   "outputs": [],
   "source": [
    "            #list      #integer\n",
    "def map_from(location, zoom_amount):\n",
    "    return folium.Map(location=location, zoom_start=zoom_amount)"
   ]
  },
  {
   "cell_type": "code",
   "execution_count": 53,
   "metadata": {},
   "outputs": [
    {
     "data": {
      "text/plain": [
       "15"
      ]
     },
     "execution_count": 53,
     "metadata": {},
     "output_type": "execute_result"
    }
   ],
   "source": [
    "times_square_map = map_from([40.7589, -73.9851], 15)\n",
    "times_square_map and times_square_map.location # [40.7589, -73.9851]\n",
    "times_square_map and times_square_map.zoom_start # 15"
   ]
  },
  {
   "cell_type": "code",
   "execution_count": 55,
   "metadata": {
    "scrolled": true
   },
   "outputs": [
    {
     "data": {
      "text/html": [
       "<div style=\"width:100%;\"><div style=\"position:relative;width:100%;height:0;padding-bottom:60%;\"><iframe src=\"data:text/html;charset=utf-8;base64,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\" style=\"position:absolute;width:100%;height:100%;left:0;top:0;border:none !important;\" allowfullscreen webkitallowfullscreen mozallowfullscreen></iframe></div></div>"
      ],
      "text/plain": [
       "<folium.folium.Map at 0x7f9f4b146908>"
      ]
     },
     "execution_count": 55,
     "metadata": {},
     "output_type": "execute_result"
    }
   ],
   "source": [
    "times_square_marker and times_square_marker.add_to(times_square_map)\n",
    "times_square_map"
   ]
  },
  {
   "cell_type": "markdown",
   "metadata": {},
   "source": [
    "Now that we have a marker and a map, now let's write a function that adds a lot of markers to a map.  This function should add each marker in the list to the map object then return the updated map object."
   ]
  },
  {
   "cell_type": "code",
   "execution_count": 60,
   "metadata": {},
   "outputs": [],
   "source": [
    "manhattan_map = map_from([40.7589, -73.9851], 13)"
   ]
  },
  {
   "cell_type": "code",
   "execution_count": 61,
   "metadata": {},
   "outputs": [],
   "source": [
    "def add_markers(markers, map_obj):\n",
    "    for marker in markers:\n",
    "        \n",
    "        marker and marker.add_to(manhattan_map)\n",
    "        return manhattan_map"
   ]
  },
  {
   "cell_type": "code",
   "execution_count": 62,
   "metadata": {
    "scrolled": false
   },
   "outputs": [],
   "source": [
    "map_with_markers = add_markers(trip_markers, manhattan_map)"
   ]
  },
  {
   "cell_type": "code",
   "execution_count": 63,
   "metadata": {},
   "outputs": [
    {
     "data": {
      "text/html": [
       "<div style=\"width:100%;\"><div style=\"position:relative;width:100%;height:0;padding-bottom:60%;\"><iframe src=\"data:text/html;charset=utf-8;base64,PCFET0NUWVBFIGh0bWw+CjxoZWFkPiAgICAKICAgIDxtZXRhIGh0dHAtZXF1aXY9ImNvbnRlbnQtdHlwZSIgY29udGVudD0idGV4dC9odG1sOyBjaGFyc2V0PVVURi04IiAvPgogICAgPHNjcmlwdD5MX1BSRUZFUl9DQU5WQVMgPSBmYWxzZTsgTF9OT19UT1VDSCA9IGZhbHNlOyBMX0RJU0FCTEVfM0QgPSBmYWxzZTs8L3NjcmlwdD4KICAgIDxzY3JpcHQgc3JjPSJodHRwczovL2Nkbi5qc2RlbGl2ci5uZXQvbnBtL2xlYWZsZXRAMS4yLjAvZGlzdC9sZWFmbGV0LmpzIj48L3NjcmlwdD4KICAgIDxzY3JpcHQgc3JjPSJodHRwczovL2FqYXguZ29vZ2xlYXBpcy5jb20vYWpheC9saWJzL2pxdWVyeS8xLjExLjEvanF1ZXJ5Lm1pbi5qcyI+PC9zY3JpcHQ+CiAgICA8c2NyaXB0IHNyYz0iaHR0cHM6Ly9tYXhjZG4uYm9vdHN0cmFwY2RuLmNvbS9ib290c3RyYXAvMy4yLjAvanMvYm9vdHN0cmFwLm1pbi5qcyI+PC9zY3JpcHQ+CiAgICA8c2NyaXB0IHNyYz0iaHR0cHM6Ly9jZG5qcy5jbG91ZGZsYXJlLmNvbS9hamF4L2xpYnMvTGVhZmxldC5hd2Vzb21lLW1hcmtlcnMvMi4wLjIvbGVhZmxldC5hd2Vzb21lLW1hcmtlcnMuanMiPjwvc2NyaXB0PgogICAgPGxpbmsgcmVsPSJzdHlsZXNoZWV0IiBocmVmPSJodHRwczovL2Nkbi5qc2RlbGl2ci5uZXQvbnBtL2xlYWZsZXRAMS4yLjAvZGlzdC9sZWFmbGV0LmNzcyIvPgogICAgPGxpbmsgcmVsPSJzdHlsZXNoZWV0IiBocmVmPSJodHRwczovL21heGNkbi5ib290c3RyYXBjZG4uY29tL2Jvb3RzdHJhcC8zLjIuMC9jc3MvYm9vdHN0cmFwLm1pbi5jc3MiLz4KICAgIDxsaW5rIHJlbD0ic3R5bGVzaGVldCIgaHJlZj0iaHR0cHM6Ly9tYXhjZG4uYm9vdHN0cmFwY2RuLmNvbS9ib290c3RyYXAvMy4yLjAvY3NzL2Jvb3RzdHJhcC10aGVtZS5taW4uY3NzIi8+CiAgICA8bGluayByZWw9InN0eWxlc2hlZXQiIGhyZWY9Imh0dHBzOi8vbWF4Y2RuLmJvb3RzdHJhcGNkbi5jb20vZm9udC1hd2Vzb21lLzQuNi4zL2Nzcy9mb250LWF3ZXNvbWUubWluLmNzcyIvPgogICAgPGxpbmsgcmVsPSJzdHlsZXNoZWV0IiBocmVmPSJodHRwczovL2NkbmpzLmNsb3VkZmxhcmUuY29tL2FqYXgvbGlicy9MZWFmbGV0LmF3ZXNvbWUtbWFya2Vycy8yLjAuMi9sZWFmbGV0LmF3ZXNvbWUtbWFya2Vycy5jc3MiLz4KICAgIDxsaW5rIHJlbD0ic3R5bGVzaGVldCIgaHJlZj0iaHR0cHM6Ly9yYXdnaXQuY29tL3B5dGhvbi12aXN1YWxpemF0aW9uL2ZvbGl1bS9tYXN0ZXIvZm9saXVtL3RlbXBsYXRlcy9sZWFmbGV0LmF3ZXNvbWUucm90YXRlLmNzcyIvPgogICAgPHN0eWxlPmh0bWwsIGJvZHkge3dpZHRoOiAxMDAlO2hlaWdodDogMTAwJTttYXJnaW46IDA7cGFkZGluZzogMDt9PC9zdHlsZT4KICAgIDxzdHlsZT4jbWFwIHtwb3NpdGlvbjphYnNvbHV0ZTt0b3A6MDtib3R0b206MDtyaWdodDowO2xlZnQ6MDt9PC9zdHlsZT4KICAgIAogICAgICAgICAgICA8c3R5bGU+ICNtYXBfNjg5OGY4OTk3MDhhNGYwNDg5MzdkNzc0OWU5ZTA3OTYgewogICAgICAgICAgICAgICAgcG9zaXRpb24gOiByZWxhdGl2ZTsKICAgICAgICAgICAgICAgIHdpZHRoIDogMTAwLjAlOwogICAgICAgICAgICAgICAgaGVpZ2h0OiAxMDAuMCU7CiAgICAgICAgICAgICAgICBsZWZ0OiAwLjAlOwogICAgICAgICAgICAgICAgdG9wOiAwLjAlOwogICAgICAgICAgICAgICAgfQogICAgICAgICAgICA8L3N0eWxlPgogICAgICAgIAo8L2hlYWQ+Cjxib2R5PiAgICAKICAgIAogICAgICAgICAgICA8ZGl2IGNsYXNzPSJmb2xpdW0tbWFwIiBpZD0ibWFwXzY4OThmODk5NzA4YTRmMDQ4OTM3ZDc3NDllOWUwNzk2IiA+PC9kaXY+CiAgICAgICAgCjwvYm9keT4KPHNjcmlwdD4gICAgCiAgICAKCiAgICAgICAgICAgIAogICAgICAgICAgICAgICAgdmFyIGJvdW5kcyA9IG51bGw7CiAgICAgICAgICAgIAoKICAgICAgICAgICAgdmFyIG1hcF82ODk4Zjg5OTcwOGE0ZjA0ODkzN2Q3NzQ5ZTllMDc5NiA9IEwubWFwKAogICAgICAgICAgICAgICAgICAgICAgICAgICAgICAgICAgJ21hcF82ODk4Zjg5OTcwOGE0ZjA0ODkzN2Q3NzQ5ZTllMDc5NicsCiAgICAgICAgICAgICAgICAgICAgICAgICAgICAgICAgICB7Y2VudGVyOiBbNDAuNzU4OSwtNzMuOTg1MV0sCiAgICAgICAgICAgICAgICAgICAgICAgICAgICAgICAgICB6b29tOiAxMywKICAgICAgICAgICAgICAgICAgICAgICAgICAgICAgICAgIG1heEJvdW5kczogYm91bmRzLAogICAgICAgICAgICAgICAgICAgICAgICAgICAgICAgICAgbGF5ZXJzOiBbXSwKICAgICAgICAgICAgICAgICAgICAgICAgICAgICAgICAgIHdvcmxkQ29weUp1bXA6IGZhbHNlLAogICAgICAgICAgICAgICAgICAgICAgICAgICAgICAgICAgY3JzOiBMLkNSUy5FUFNHMzg1NwogICAgICAgICAgICAgICAgICAgICAgICAgICAgICAgICB9KTsKICAgICAgICAgICAgCiAgICAgICAgCiAgICAKICAgICAgICAgICAgdmFyIHRpbGVfbGF5ZXJfMTdjZmEyMWE2Njg0NDA5NjgzZmQyMzEwYTI4MjU1YzQgPSBMLnRpbGVMYXllcigKICAgICAgICAgICAgICAgICdodHRwczovL3tzfS50aWxlLm9wZW5zdHJlZXRtYXAub3JnL3t6fS97eH0ve3l9LnBuZycsCiAgICAgICAgICAgICAgICB7CiAgImF0dHJpYnV0aW9uIjogbnVsbCwKICAiZGV0ZWN0UmV0aW5hIjogZmFsc2UsCiAgIm1heFpvb20iOiAxOCwKICAibWluWm9vbSI6IDEsCiAgIm5vV3JhcCI6IGZhbHNlLAogICJzdWJkb21haW5zIjogImFiYyIKfQogICAgICAgICAgICAgICAgKS5hZGRUbyhtYXBfNjg5OGY4OTk3MDhhNGYwNDg5MzdkNzc0OWU5ZTA3OTYpOwogICAgICAgIAogICAgCiAgICAgICAgICAgIHZhciBjaXJjbGVfbWFya2VyX2M1YjlhYTExZGU2NDRjYjU4ZmE5MmM0NDU0NzBlMWQ0ID0gTC5jaXJjbGVNYXJrZXIoCiAgICAgICAgICAgICAgICBbNDAuNjQ0OTksLTczLjc4MTE1XSwKICAgICAgICAgICAgICAgIHsKICAiYnViYmxpbmdNb3VzZUV2ZW50cyI6IHRydWUsCiAgImNvbG9yIjogIiMzMzg4ZmYiLAogICJkYXNoQXJyYXkiOiBudWxsLAogICJkYXNoT2Zmc2V0IjogbnVsbCwKICAiZmlsbCI6IGZhbHNlLAogICJmaWxsQ29sb3IiOiAiIzMzODhmZiIsCiAgImZpbGxPcGFjaXR5IjogMC4yLAogICJmaWxsUnVsZSI6ICJldmVub2RkIiwKICAibGluZUNhcCI6ICJyb3VuZCIsCiAgImxpbmVKb2luIjogInJvdW5kIiwKICAib3BhY2l0eSI6IDEuMCwKICAicmFkaXVzIjogNiwKICAic3Ryb2tlIjogdHJ1ZSwKICAid2VpZ2h0IjogMwp9CiAgICAgICAgICAgICAgICApLmFkZFRvKG1hcF82ODk4Zjg5OTcwOGE0ZjA0ODkzN2Q3NzQ5ZTllMDc5Nik7CiAgICAgICAgICAgIAo8L3NjcmlwdD4=\" style=\"position:absolute;width:100%;height:100%;left:0;top:0;border:none !important;\" allowfullscreen webkitallowfullscreen mozallowfullscreen></iframe></div></div>"
      ],
      "text/plain": [
       "<folium.folium.Map at 0x7f9f4b146940>"
      ]
     },
     "execution_count": 63,
     "metadata": {},
     "output_type": "execute_result"
    }
   ],
   "source": [
    "map_with_markers"
   ]
  },
  {
   "cell_type": "markdown",
   "metadata": {},
   "source": [
    "### Using Nearest Neighbors"
   ]
  },
  {
   "cell_type": "markdown",
   "metadata": {},
   "source": [
    "Ok, let's write a function that given a latitude and longitude will predict the distance for us.  We'll do this by first finding the nearest trips given a latitude and longitude. "
   ]
  },
  {
   "cell_type": "markdown",
   "metadata": {},
   "source": [
    "Here we once again apply the nearest neighbors formula. As a first step, write a function named `distance_location` that calculates the distance in pickup location between two trips."
   ]
  },
  {
   "cell_type": "code",
   "execution_count": 69,
   "metadata": {},
   "outputs": [],
   "source": [
    "import math\n",
    "\n",
    "def distance_location(selected_trip, neighbor_trip):\n",
    "    #use pythagorean to calculate hypotenuse a2+b2=c2 c= sqrt\n",
    "    a= abs(selected_trip['pickup_latitude']-neighbor_trip['pickup_latitude'])\n",
    "    b= abs(selected_trip['pickup_longitude']-neighbor_trip['pickup_longitude'])\n",
    "    distance = math.sqrt((a*a)+(b*b))\n",
    "    return distance"
   ]
  },
  {
   "cell_type": "code",
   "execution_count": 70,
   "metadata": {},
   "outputs": [
    {
     "data": {
      "text/plain": [
       "0.235"
      ]
     },
     "execution_count": 70,
     "metadata": {},
     "output_type": "execute_result"
    }
   ],
   "source": [
    "first_trip = {'pickup_latitude': 40.64499, 'pickup_longitude': -73.78115, 'trip_distance': 18.38}\n",
    "second_trip = {'pickup_latitude': 40.766931, 'pickup_longitude': -73.982098, 'trip_distance': 1.3}\n",
    "distance_first_and_second = distance_location(first_trip, second_trip)\n",
    "\n",
    "distance_first_and_second and round(distance_first_and_second, 3) # 0.235"
   ]
  },
  {
   "cell_type": "markdown",
   "metadata": {},
   "source": [
    "Ok, next write a function called `distance_between_neighbors` that adds a new key-value pair, called `distance_from_selected`, that calculates the distance of the `neighbor_trip` from the `selected_trip`."
   ]
  },
  {
   "cell_type": "code",
   "execution_count": 71,
   "metadata": {},
   "outputs": [],
   "source": [
    "def distance_between_neighbors(selected_trip, neighbor_trip):\n",
    "    neighbor_trip['distance_from_selected'] = distance_location(selected_trip, neighbor_trip)\n",
    "    return neighbor_trip"
   ]
  },
  {
   "cell_type": "code",
   "execution_count": 73,
   "metadata": {},
   "outputs": [
    {
     "data": {
      "text/plain": [
       "{'pickup_latitude': 40.766931,\n",
       " 'pickup_longitude': -73.982098,\n",
       " 'trip_distance': 1.3,\n",
       " 'distance_from_selected': 0.23505256047318146}"
      ]
     },
     "execution_count": 73,
     "metadata": {},
     "output_type": "execute_result"
    }
   ],
   "source": [
    "distance_between_neighbors(first_trip, second_trip)\n",
    "\n",
    "# {'distance_from_selected': 0.23505256047318146,\n",
    "#  'pickup_latitude': 40.766931,\n",
    "#  'pickup_longitude': -73.982098,\n",
    "#  'trip_distance': 1.3}"
   ]
  },
  {
   "cell_type": "markdown",
   "metadata": {},
   "source": [
    "Ok, now our `neighbor_trip` has another attribute called `distance_from_selected`, that indicates the distance from the `neighbor_trip`'s pickup location from the `selected_trip`."
   ]
  },
  {
   "cell_type": "markdown",
   "metadata": {},
   "source": [
    "> ** Understand the data:** Our dictionary now has a few attributes, two of which say distance.  Let's make sure we understand the difference. \n",
    "> * **`distance_from_selected`:** This is our calculation of the distance of the neighbor's pickup location from the selected trip.\n",
    "> * **`trip_distance`:** This is the attribute we were provided initially.  It tells us the length of the neighbor's taxi trip from pickup to drop-off.  "
   ]
  },
  {
   "cell_type": "markdown",
   "metadata": {},
   "source": [
    "Next, write a function called `distance_all` that provided a list of neighbors, returns each of those neighbors with their respective `distance_from_selected` numbers."
   ]
  },
  {
   "cell_type": "code",
   "execution_count": 76,
   "metadata": {},
   "outputs": [],
   "source": [
    "def distance_all(selected_individual, neighbors):\n",
    "    remaining_neighbors = filter(lambda neighbor: neighbor != selected_individual, neighbors)\n",
    "\n",
    "    return list(map(lambda neighbor: distance_between_neighbors(selected_individual, neigbor), neighbors))\n",
    "    return list(map(lambda neighbor: distance_between_neighbors(selected_individual, neighbor), remaining_neighbors))\n"
   ]
  },
  {
   "cell_type": "code",
   "execution_count": 77,
   "metadata": {},
   "outputs": [
    {
     "data": {
      "text/plain": [
       "[{'trip_distance': 18.38,\n",
       "  'pickup_latitude': 40.64499,\n",
       "  'pickup_longitude': -73.78115,\n",
       "  'distance_from_selected': 0.0},\n",
       " {'trip_distance': 1.3,\n",
       "  'pickup_latitude': 40.766931,\n",
       "  'pickup_longitude': -73.982098,\n",
       "  'distance_from_selected': 0.23505256047318146},\n",
       " {'trip_distance': 4.5,\n",
       "  'pickup_latitude': 40.77773,\n",
       "  'pickup_longitude': -73.951902,\n",
       "  'distance_from_selected': 0.2162779533470808},\n",
       " {'trip_distance': 2.4,\n",
       "  'pickup_latitude': 40.795678,\n",
       "  'pickup_longitude': -73.971049,\n",
       "  'distance_from_selected': 0.24242215976473674}]"
      ]
     },
     "execution_count": 77,
     "metadata": {},
     "output_type": "execute_result"
    }
   ],
   "source": [
    "cleaned_trips and distance_all(first_trip, cleaned_trips[0:4])"
   ]
  },
  {
   "cell_type": "markdown",
   "metadata": {},
   "source": [
    "Now write the nearest neighbors formula to calculate the distance of the `selected_trip` from all of the `cleaned_trips` in our dataset.  If no number is provided, it should return the top 3 neighbors."
   ]
  },
  {
   "cell_type": "code",
   "execution_count": 83,
   "metadata": {},
   "outputs": [],
   "source": [
    "def nearest_neighbors(selected_trip, trips, number = 3):\n",
    "    number = number or len(neighbors)\n",
    "    neighbor_distances = distance_all(selected_trip, trips)\n",
    "    sorted_neighbors = sorted(neighbor_distances, key=lambda trip: trip['trip_distance'])\n",
    "    return sorted_neighbors[:number]\n",
    "    "
   ]
  },
  {
   "cell_type": "code",
   "execution_count": 84,
   "metadata": {},
   "outputs": [
    {
     "data": {
      "text/plain": [
       "[{'trip_distance': 0.0,\n",
       "  'pickup_latitude': 40.80726,\n",
       "  'pickup_longitude': -73.954179,\n",
       "  'distance_from_selected': 0.23721422331091302},\n",
       " {'trip_distance': 0.0,\n",
       "  'pickup_latitude': 40.760644,\n",
       "  'pickup_longitude': -73.984531,\n",
       "  'distance_from_selected': 0.2339651232064361},\n",
       " {'trip_distance': 0.0,\n",
       "  'pickup_latitude': 40.732893,\n",
       "  'pickup_longitude': -73.974918,\n",
       "  'distance_from_selected': 0.2127744703506549}]"
      ]
     },
     "execution_count": 84,
     "metadata": {},
     "output_type": "execute_result"
    }
   ],
   "source": [
    "new_trip = {'pickup_latitude': 40.64499,\n",
    "'pickup_longitude': -73.78115,\n",
    "'trip_distance': 18.38}\n",
    "\n",
    "nearest_three_neighbors = nearest_neighbors(new_trip, cleaned_trips or [], number = 3)\n",
    "nearest_three_neighbors\n",
    "# [{'distance_from_selected': 0.0004569288784918792,\n",
    "#   'pickup_latitude': 40.64483,\n",
    "#   'pickup_longitude': -73.781578,\n",
    "#   'trip_distance': 7.78},\n",
    "#  {'distance_from_selected': 0.0011292165425673159,\n",
    "#   'pickup_latitude': 40.644657,\n",
    "#   'pickup_longitude': -73.782229,\n",
    "#   'trip_distance': 12.7},\n",
    "#  {'distance_from_selected': 0.0042359798158141185,\n",
    "#   'pickup_latitude': 40.648509,\n",
    "#   'pickup_longitude': -73.783508,\n",
    "#   'trip_distance': 17.3}]"
   ]
  },
  {
   "cell_type": "markdown",
   "metadata": {},
   "source": [
    "Ok great! Now that we can provide a new trip location, and find the distances of the three nearest trips, we can take  calculate an estimate of the trip distance for that new trip location.  \n",
    "\n",
    "We do so simply by calculating the average of it's nearest neighbors."
   ]
  },
  {
   "cell_type": "code",
   "execution_count": null,
   "metadata": {},
   "outputs": [],
   "source": [
    "import statistics\n",
    "def mean_distance(neighbors):\n",
    "    nearest_distances = list(map(lambda neighbor: neighbor['trip_distance'], neighbors))\n",
    "    return round(statistics.mean(nearest_distances), 3)\n",
    "\n",
    "nearest_three_neighbors = nearest_neighbors(new_trip, cleaned_trips or [], number = 3)\n",
    "distance_estimate_of_selected_trip = mean_distance(nearest_three_neighbors) # 12.593\n",
    "distance_estimate_of_selected_trip"
   ]
  },
  {
   "cell_type": "markdown",
   "metadata": {},
   "source": [
    "### Choosing the correct number of neighbors"
   ]
  },
  {
   "cell_type": "markdown",
   "metadata": {},
   "source": [
    "Now, as we know from the last lesson, one tricky element is to determine how many neighbors to choose, our $k$ value,  before calculating the average.  We want to choose our value of $k$ such that it properly matches actual data, and so that it applies to new data.  There are fancy formulas to ensure that we **train** our algorithm so that our formula is optimized for all data, but here let's see different $k$ values manually.  This is the gist of choosing our $k$ value:\n",
    "\n",
    "* If we choose a $k$ value too low, our formula will be too heavily influenced by a single neighbor, whereas if our $k$ value is too high, we will be choosing so many neighbors that our nearest neighbors formula will not be adjust enough according to locations.\n",
    "\n",
    "Ok, let's experiment with this."
   ]
  },
  {
   "cell_type": "markdown",
   "metadata": {},
   "source": [
    "First, let's choose a midtown location, to see what the trip distance would be.  A Google search reveals the coordinates of 51st and 7th avenue to be the following."
   ]
  },
  {
   "cell_type": "code",
   "execution_count": null,
   "metadata": {},
   "outputs": [],
   "source": [
    "midtown_trip = dict(pickup_latitude=40.761710, pickup_longitude=-73.982760)"
   ]
  },
  {
   "cell_type": "code",
   "execution_count": null,
   "metadata": {},
   "outputs": [],
   "source": [
    "seven_closest = nearest_neighbors(midtown_trip, cleaned_trips, number = 7)\n",
    "seven_closest\n",
    "# [{'trip_distance': 0.58,\n",
    "#   'pickup_latitude': 40.761372,\n",
    "#   'pickup_longitude': -73.982602,\n",
    "#   'distance_from_selected': 0.00037310588309379025},\n",
    "#  {'trip_distance': 0.8,\n",
    "#   'pickup_latitude': 40.762444,\n",
    "#   'pickup_longitude': -73.98244,\n",
    "#   'distance_from_selected': 0.00080072217404248},\n",
    "#  {'trip_distance': 1.4,\n",
    "#   'pickup_latitude': 40.762767,\n",
    "#   'pickup_longitude': -73.982293,\n",
    "#   'distance_from_selected': 0.0011555682584735844},\n",
    "#  {'trip_distance': 8.3,\n",
    "#   'pickup_latitude': 40.762868,\n",
    "#   'pickup_longitude': -73.983233,\n",
    "#   'distance_from_selected': 0.0012508768924205918},\n",
    "#  {'trip_distance': 1.26,\n",
    "#   'pickup_latitude': 40.760057,\n",
    "#   'pickup_longitude': -73.983502,\n",
    "#   'distance_from_selected': 0.0018118976240381972},\n",
    "#  {'trip_distance': 0.0,\n",
    "#   'pickup_latitude': 40.760644,\n",
    "#   'pickup_longitude': -73.984531,\n",
    "#   'distance_from_selected': 0.002067074502774709},\n",
    "#  {'trip_distance': 1.72,\n",
    "#   'pickup_latitude': 40.762107,\n",
    "#   'pickup_longitude': -73.98479,\n",
    "#   'distance_from_selected': 0.0020684557041472677}]"
   ]
  },
  {
   "cell_type": "markdown",
   "metadata": {},
   "source": [
    "Looking at the `distance_from_selected` it appears that our our trips are still fairly close to our selected trip.  Notice that most of the data is within a distance of .002 away, so going to the top 7 nearest neighbors didn't seem to give us neighbors too far from each other, which is a good sign.\n",
    "\n",
    "Still, it's hard to know what distance in latitude and longitude really look like, so let's map the data. "
   ]
  },
  {
   "cell_type": "code",
   "execution_count": null,
   "metadata": {},
   "outputs": [],
   "source": [
    "midtown_location = location(midtown_trip) # [40.76171, -73.98276]\n",
    "midtown_map = map_from(midtown_location, 16)\n",
    "closest_markers = markers_from_trips(seven_closest)\n",
    "\n",
    "add_markers(closest_markers, midtown_map)"
   ]
  },
  {
   "cell_type": "markdown",
   "metadata": {},
   "source": [
    "Ok.  These locations stay fairly close to our estimated location of 51st street and 7th Avenue.  So they could be a good estimate of a trip distance."
   ]
  },
  {
   "cell_type": "code",
   "execution_count": null,
   "metadata": {},
   "outputs": [],
   "source": [
    "mean_distance(seven_closest) # 2.009"
   ]
  },
  {
   "cell_type": "markdown",
   "metadata": {},
   "source": [
    "Ok, now let's try a different location"
   ]
  },
  {
   "cell_type": "code",
   "execution_count": null,
   "metadata": {},
   "outputs": [],
   "source": [
    "charging_bull_closest = nearest_neighbors({'pickup_latitude': 40.7049, 'pickup_longitude': -74.0137}, cleaned_trips, number = 12)"
   ]
  },
  {
   "cell_type": "code",
   "execution_count": null,
   "metadata": {
    "scrolled": true
   },
   "outputs": [],
   "source": [
    "mean_distance(charging_bull_closest) # 3.145"
   ]
  },
  {
   "cell_type": "markdown",
   "metadata": {},
   "source": [
    "Ok, so there appears to be a significant difference between choosing a location near Times Square versus choosing a location at Wall Street."
   ]
  },
  {
   "cell_type": "markdown",
   "metadata": {},
   "source": [
    "### Summary"
   ]
  },
  {
   "cell_type": "markdown",
   "metadata": {},
   "source": [
    "In this lab, we used the nearest neighbors function to predict the length of a taxi ride.  To do so, we selected a location, then found a number of taxi rides closest to that location, and finally took the average trip lengths of the nearest taxi rides to find an estimate of the new ride's trip length.  You can see that even with just a little bit of math and programming we can begin to make meaningful predictions with data."
   ]
  }
 ],
 "metadata": {
  "kernelspec": {
   "display_name": "Python 3",
   "language": "python",
   "name": "python3"
  },
  "language_info": {
   "codemirror_mode": {
    "name": "ipython",
    "version": 3
   },
   "file_extension": ".py",
   "mimetype": "text/x-python",
   "name": "python",
   "nbconvert_exporter": "python",
   "pygments_lexer": "ipython3",
   "version": "3.6.4"
  }
 },
 "nbformat": 4,
 "nbformat_minor": 2
}
