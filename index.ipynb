{
 "cells": [
  {
   "cell_type": "markdown",
   "metadata": {},
   "source": [
    "# Nearest Neighbors Lab"
   ]
  },
  {
   "cell_type": "markdown",
   "metadata": {},
   "source": [
    "### Introduction\n",
    "\n",
    "In this lab, you apply nearest neighbors technique to help a taxi company predict the length of their rides.  Imagine that we are hired to consult for LiftOff, a limo and taxi service that is just opening up in NYC.  Liftoff wants it's taxi drivers to target longer rides, as the longer the ride the more money it makes.  LiftOff has the following theory:\n",
    "\n",
    "* the pickup location of a taxi ride can help predict the length of the ride.  \n",
    "\n",
    "\n",
    "\n",
    "LiftOff asks us to do some analysis to write a function that will allow it to **predict the length of a taxi ride for any given location **.\n",
    "\n",
    "Our technique will be the following:\n",
    "  * **Collect** Obtain the data containing all of the taxi information, and only select the attributes of taxi trips that we need \n",
    "  * ** Explore ** Examine the attributes of our data, and plot some of our data on a map\n",
    "  * ** Train ** Write our nearest neighbors formula, and change the number of nearby trips to predict the length of a new trip\n",
    "  * ** Predict ** Use our function to predict trip lengths of new locations"
   ]
  },
  {
   "cell_type": "markdown",
   "metadata": {},
   "source": [
    "### Collect and Explore the data"
   ]
  },
  {
   "cell_type": "markdown",
   "metadata": {},
   "source": [
    "#### Collect the Data"
   ]
  },
  {
   "cell_type": "markdown",
   "metadata": {},
   "source": [
    "Luckily for us, [NYC Open Data](https://opendata.cityofnewyork.us/) collects information about NYC taxi trips and provides this data on [its website](https://data.cityofnewyork.us/Transportation/2014-Yellow-Taxi-Trip-Data/gn7m-em8n)."
   ]
  },
  {
   "cell_type": "markdown",
   "metadata": {},
   "source": [
    "![](./nyc-taxi.png)"
   ]
  },
  {
   "cell_type": "markdown",
   "metadata": {},
   "source": [
    "For your reading pleasure, the data has already been downloaded into the [trips.json](https://github.com/learn-co-curriculum/nearest-neighbors-lab/blob/master/trips.json) file in this lab which you can find here.  We'll use Python's `json` library to take the data from the `trips.json` file and store it as a variable in our notebook."
   ]
  },
  {
   "cell_type": "code",
   "execution_count": 1,
   "metadata": {},
   "outputs": [],
   "source": [
    "import json\n",
    "# First, read the file\n",
    "trips_file = open('trips.json')\n",
    "# Then, convert contents to list of dictionaries \n",
    "trips = json.load(trips_file)"
   ]
  },
  {
   "cell_type": "markdown",
   "metadata": {},
   "source": [
    "> Press shift + enter"
   ]
  },
  {
   "cell_type": "markdown",
   "metadata": {},
   "source": [
    "#### Explore the data"
   ]
  },
  {
   "cell_type": "markdown",
   "metadata": {},
   "source": [
    "The next step is to explore the data.  First, let's see how many trips we have."
   ]
  },
  {
   "cell_type": "code",
   "execution_count": 2,
   "metadata": {},
   "outputs": [
    {
     "data": {
      "text/plain": [
       "1000"
      ]
     },
     "execution_count": 2,
     "metadata": {},
     "output_type": "execute_result"
    }
   ],
   "source": [
    "len(trips)"
   ]
  },
  {
   "cell_type": "markdown",
   "metadata": {},
   "source": [
    "Not bad at all.  Now let's see what each individual trip looks like.  Each trip is a dictionary, so we can see the attributes of each trip with the `keys` function."
   ]
  },
  {
   "cell_type": "code",
   "execution_count": 3,
   "metadata": {
    "scrolled": true
   },
   "outputs": [
    {
     "data": {
      "text/plain": [
       "dict_keys(['dropoff_datetime', 'dropoff_latitude', 'dropoff_longitude', 'fare_amount', 'imp_surcharge', 'mta_tax', 'passenger_count', 'payment_type', 'pickup_datetime', 'pickup_latitude', 'pickup_longitude', 'rate_code', 'tip_amount', 'tolls_amount', 'total_amount', 'trip_distance', 'vendor_id'])"
      ]
     },
     "execution_count": 3,
     "metadata": {},
     "output_type": "execute_result"
    }
   ],
   "source": [
    "trips[0].keys()"
   ]
  },
  {
   "cell_type": "markdown",
   "metadata": {},
   "source": [
    "#### Limit our data"
   ]
  },
  {
   "cell_type": "markdown",
   "metadata": {},
   "source": [
    "Ok, now that we have explored some of our data, let's begin to think through what data is relevant for our task."
   ]
  },
  {
   "cell_type": "markdown",
   "metadata": {
    "collapsed": true
   },
   "source": [
    "Remember that our task is to **use the trip location to predict the length of a trip**.  So let's select the `pickup_latitude`, `pickup_longitude`, and `trip_distance` from each trip.  That will give us the trip location and related `trip_distance` for each trip.  Then based on these **actual** trip distances we can use nearest neighbors to predict an **expected** trip distance for a trip, provided an **actual** location."
   ]
  },
  {
   "cell_type": "markdown",
   "metadata": {},
   "source": [
    "** Add in about trip distance ** "
   ]
  },
  {
   "cell_type": "markdown",
   "metadata": {},
   "source": [
    "Write a function called `parse_trips(trips)` that returns a list of the trips with only the following attributes: \n",
    "* `trip_distance`\n",
    "* `pickup_latitude`\n",
    "* `pickup_longitude`"
   ]
  },
  {
   "cell_type": "code",
   "execution_count": 4,
   "metadata": {},
   "outputs": [],
   "source": [
    "def parse_trips(trips):\n",
    "    return list(map(lambda trip: {'trip_distance': trip['trip_distance'], 'pickup_latitude': trip['pickup_latitude'], 'pickup_longitude': trip['pickup_longitude']}, trips))\n",
    "\n"
   ]
  },
  {
   "cell_type": "code",
   "execution_count": 5,
   "metadata": {},
   "outputs": [
    {
     "data": {
      "text/plain": [
       "{'trip_distance': '18.379999999999999',\n",
       " 'pickup_latitude': '40.64499',\n",
       " 'pickup_longitude': '-73.781149999999997'}"
      ]
     },
     "execution_count": 5,
     "metadata": {},
     "output_type": "execute_result"
    }
   ],
   "source": [
    "parsed_trips = parse_trips(trips)\n",
    "\n",
    "parsed_trips and parsed_trips[0]\n",
    "\n",
    "# {'pickup_latitude': '40.64499',\n",
    "#  'pickup_longitude': '-73.78115',\n",
    "#  'trip_distance': '18.38'}"
   ]
  },
  {
   "cell_type": "markdown",
   "metadata": {},
   "source": [
    "Now, there's just one change to make.  If you look at one of the trips, all of the values are strings.  Let's change them to be floats."
   ]
  },
  {
   "cell_type": "code",
   "execution_count": 6,
   "metadata": {},
   "outputs": [],
   "source": [
    "def float_values(trips):    \n",
    "    for trip in trips:\n",
    "        trip['pickup_latitude'] = float(trip['pickup_latitude'])\n",
    "        trip['pickup_longitude'] = float(trip['pickup_longitude'])\n",
    "        trip['trip_distance'] = float(trip['trip_distance'])\n",
    "    return trips"
   ]
  },
  {
   "cell_type": "code",
   "execution_count": 7,
   "metadata": {},
   "outputs": [],
   "source": [
    "cleaned_trips = float_values(parsed_trips)"
   ]
  },
  {
   "cell_type": "code",
   "execution_count": 8,
   "metadata": {},
   "outputs": [
    {
     "data": {
      "text/plain": [
       "{'trip_distance': 18.38,\n",
       " 'pickup_latitude': 40.64499,\n",
       " 'pickup_longitude': -73.78115}"
      ]
     },
     "execution_count": 8,
     "metadata": {},
     "output_type": "execute_result"
    }
   ],
   "source": [
    "cleaned_trips[0]\n",
    "\n",
    "# {'pickup_latitude': 40.64499,\n",
    "#  'pickup_longitude': -73.78115,\n",
    "#  'trip_distance': 18.38}"
   ]
  },
  {
   "cell_type": "markdown",
   "metadata": {},
   "source": [
    "### Exploring the Data"
   ]
  },
  {
   "cell_type": "markdown",
   "metadata": {},
   "source": [
    "Now that we have paired down our data, let's get a sense of our trip data.  We can use the `folium` Python library to plot a map of Manhattan, and our data.  First we must import `folium`, and then use the `Map` function to pass through a `location`, and `zoom_start`.  If a map isn't showing up below, copy and paste the command `pip install -r requirements.txt` into your terminal to install `folium` then try again."
   ]
  },
  {
   "cell_type": "code",
   "execution_count": 9,
   "metadata": {},
   "outputs": [],
   "source": [
    "import folium\n",
    "manhattan_map = folium.Map(location=[40.7589, -73.9851], zoom_start=11)"
   ]
  },
  {
   "cell_type": "code",
   "execution_count": 10,
   "metadata": {
    "scrolled": true
   },
   "outputs": [
    {
     "data": {
      "text/html": [
       "<div style=\"width:100%;\"><div style=\"position:relative;width:100%;height:0;padding-bottom:60%;\"><iframe src=\"data:text/html;charset=utf-8;base64,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\" style=\"position:absolute;width:100%;height:100%;left:0;top:0;border:none !important;\" allowfullscreen webkitallowfullscreen mozallowfullscreen></iframe></div></div>"
      ],
      "text/plain": [
       "<folium.folium.Map at 0x7fdf04021a20>"
      ]
     },
     "execution_count": 10,
     "metadata": {},
     "output_type": "execute_result"
    }
   ],
   "source": [
    "manhattan_map"
   ]
  },
  {
   "cell_type": "markdown",
   "metadata": {},
   "source": [
    "Ok, now let's see how we could add a dot to mark a specific location.  We'll start with Times Square."
   ]
  },
  {
   "cell_type": "code",
   "execution_count": 11,
   "metadata": {},
   "outputs": [
    {
     "data": {
      "text/plain": [
       "<folium.features.CircleMarker at 0x7fdede859f60>"
      ]
     },
     "execution_count": 11,
     "metadata": {},
     "output_type": "execute_result"
    }
   ],
   "source": [
    "marker = folium.CircleMarker(location = [40.7589, -73.9851], radius=10)\n",
    "marker.add_to(manhattan_map)"
   ]
  },
  {
   "cell_type": "markdown",
   "metadata": {},
   "source": [
    "Above, we first create a marker.  Then we add that circle marker to the `manhattan_map` we created earlier. "
   ]
  },
  {
   "cell_type": "code",
   "execution_count": 12,
   "metadata": {
    "scrolled": false
   },
   "outputs": [
    {
     "data": {
      "text/html": [
       "<div style=\"width:100%;\"><div style=\"position:relative;width:100%;height:0;padding-bottom:60%;\"><iframe src=\"data:text/html;charset=utf-8;base64,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\" style=\"position:absolute;width:100%;height:100%;left:0;top:0;border:none !important;\" allowfullscreen webkitallowfullscreen mozallowfullscreen></iframe></div></div>"
      ],
      "text/plain": [
       "<folium.folium.Map at 0x7fdf04021a20>"
      ]
     },
     "execution_count": 12,
     "metadata": {},
     "output_type": "execute_result"
    }
   ],
   "source": [
    "manhattan_map"
   ]
  },
  {
   "cell_type": "markdown",
   "metadata": {},
   "source": [
    "Do you see that blue dot near Time's Square?  That is our marker.  \n",
    "\n",
    "So now that we can plot one marker on a map, we should have a sense of how we can plot many markers on a map to display our taxi ride data.  We simply plot a map, and then we add a marker for each location of a taxi trip.\n",
    "\n",
    "Now let's write some functions to allow us to plot maps and add markers a little more easily.  "
   ]
  },
  {
   "cell_type": "markdown",
   "metadata": {},
   "source": [
    "#### Writing some map plotting functions"
   ]
  },
  {
   "cell_type": "markdown",
   "metadata": {},
   "source": [
    "As a first step towards this, note that the functions to create both a marker and map each take in a location as two element list, representing the latitude and longitude values.  Take another look:\n",
    "\n",
    "```python\n",
    "marker = folium.CircleMarker(location = [40.7589, -73.9851])\n",
    "manhattan_map = folium.Map(location=[40.7589, -73.9851])\n",
    "```\n",
    "\n",
    "So let's write a function called to create this two element list from a trip.  Write a function called `location` that  takes in a trip as an argument and returns a list where the first element is the latitude and the second is the longitude.  Remember that a location looks like the following:"
   ]
  },
  {
   "cell_type": "code",
   "execution_count": 13,
   "metadata": {},
   "outputs": [
    {
     "data": {
      "text/plain": [
       "{'pickup_latitude': 40.64499,\n",
       " 'pickup_longitude': -73.78115,\n",
       " 'trip_distance': 18.38}"
      ]
     },
     "execution_count": 13,
     "metadata": {},
     "output_type": "execute_result"
    }
   ],
   "source": [
    "first_trip = {'pickup_latitude': 40.64499, 'pickup_longitude': -73.78115,  'trip_distance': 18.38}\n",
    "first_trip"
   ]
  },
  {
   "cell_type": "code",
   "execution_count": 14,
   "metadata": {},
   "outputs": [],
   "source": [
    "def location(trip):\n",
    "    return [trip['pickup_latitude'], trip['pickup_longitude']]"
   ]
  },
  {
   "cell_type": "code",
   "execution_count": 15,
   "metadata": {},
   "outputs": [
    {
     "data": {
      "text/plain": [
       "[40.64499, -73.78115]"
      ]
     },
     "execution_count": 15,
     "metadata": {},
     "output_type": "execute_result"
    }
   ],
   "source": [
    "first_location = location(first_trip) # [40.64499, -73.78115]\n",
    "first_location # [40.64499, -73.78115]"
   ]
  },
  {
   "cell_type": "markdown",
   "metadata": {},
   "source": [
    "Ok, now that we can turn a trip into a location, let's turn a location into a marker.  Write a function called `to_marker` that takes in a location (in the form of a list) as an argument, and returns a folium `circleMarker` for that location.  The radius of the marker should always equal 6."
   ]
  },
  {
   "cell_type": "code",
   "execution_count": 16,
   "metadata": {},
   "outputs": [],
   "source": [
    "def to_marker(location_list):\n",
    "    circleMarker = folium.CircleMarker(location = location_list, radius=6)\n",
    "    return circleMarker"
   ]
  },
  {
   "cell_type": "code",
   "execution_count": 17,
   "metadata": {},
   "outputs": [
    {
     "data": {
      "text/plain": [
       "6"
      ]
     },
     "execution_count": 17,
     "metadata": {},
     "output_type": "execute_result"
    }
   ],
   "source": [
    "import json\n",
    "times_square_marker = to_marker([40.7589, -73.9851])\n",
    "\n",
    "times_square_marker and times_square_marker.location # [40.7589, -73.9851]\n",
    "times_square_marker and json.loads(times_square_marker.options)['radius'] # 6"
   ]
  },
  {
   "cell_type": "markdown",
   "metadata": {},
   "source": [
    "Ok, now that we know how to produce a single marker, let's write a function to produce lots.  We can write a function called `markers_from_trips` that takes in a list of trips, and returns a marker object for each trip.  "
   ]
  },
  {
   "cell_type": "code",
   "execution_count": 18,
   "metadata": {},
   "outputs": [
    {
     "data": {
      "text/plain": [
       "[<folium.features.CircleMarker at 0x7fdede7fb710>,\n",
       " <folium.features.CircleMarker at 0x7fdede7fbf28>,\n",
       " <folium.features.CircleMarker at 0x7fdede7fbcc0>,\n",
       " <folium.features.CircleMarker at 0x7fdede859320>,\n",
       " <folium.features.CircleMarker at 0x7fdede859198>,\n",
       " <folium.features.CircleMarker at 0x7fdede7fb9e8>,\n",
       " <folium.features.CircleMarker at 0x7fdede7fb860>,\n",
       " <folium.features.CircleMarker at 0x7fdede7fbc88>,\n",
       " <folium.features.CircleMarker at 0x7fdede7f71d0>,\n",
       " <folium.features.CircleMarker at 0x7fdede7f7748>,\n",
       " <folium.features.CircleMarker at 0x7fdede7f7dd8>,\n",
       " <folium.features.CircleMarker at 0x7fdede7f7390>,\n",
       " <folium.features.CircleMarker at 0x7fdede7f7710>,\n",
       " <folium.features.CircleMarker at 0x7fdede7fb898>,\n",
       " <folium.features.CircleMarker at 0x7fdede7f72e8>,\n",
       " <folium.features.CircleMarker at 0x7fdede7f7198>,\n",
       " <folium.features.CircleMarker at 0x7fdede7f7c50>,\n",
       " <folium.features.CircleMarker at 0x7fdede7f70f0>,\n",
       " <folium.features.CircleMarker at 0x7fdede7f7d30>,\n",
       " <folium.features.CircleMarker at 0x7fdede7f7128>,\n",
       " <folium.features.CircleMarker at 0x7fdede7f7ef0>,\n",
       " <folium.features.CircleMarker at 0x7fdede7f79b0>,\n",
       " <folium.features.CircleMarker at 0x7fdede7f75c0>,\n",
       " <folium.features.CircleMarker at 0x7fdede7f7b38>,\n",
       " <folium.features.CircleMarker at 0x7fdede807da0>,\n",
       " <folium.features.CircleMarker at 0x7fdede7fb908>,\n",
       " <folium.features.CircleMarker at 0x7fdede7fb828>,\n",
       " <folium.features.CircleMarker at 0x7fdede7fb7f0>,\n",
       " <folium.features.CircleMarker at 0x7fdede7fb940>,\n",
       " <folium.features.CircleMarker at 0x7fdede807208>,\n",
       " <folium.features.CircleMarker at 0x7fdede807e10>,\n",
       " <folium.features.CircleMarker at 0x7fdede8079e8>,\n",
       " <folium.features.CircleMarker at 0x7fdede807278>,\n",
       " <folium.features.CircleMarker at 0x7fdede7fbe10>,\n",
       " <folium.features.CircleMarker at 0x7fdede807be0>,\n",
       " <folium.features.CircleMarker at 0x7fdede807048>,\n",
       " <folium.features.CircleMarker at 0x7fdede8075f8>,\n",
       " <folium.features.CircleMarker at 0x7fdede807240>,\n",
       " <folium.features.CircleMarker at 0x7fdede807630>,\n",
       " <folium.features.CircleMarker at 0x7fdede807978>,\n",
       " <folium.features.CircleMarker at 0x7fdede7fbd30>,\n",
       " <folium.features.CircleMarker at 0x7fdede7f7048>,\n",
       " <folium.features.CircleMarker at 0x7fdede7f7fd0>,\n",
       " <folium.features.CircleMarker at 0x7fdede807358>,\n",
       " <folium.features.CircleMarker at 0x7fdede807eb8>,\n",
       " <folium.features.CircleMarker at 0x7fdede7b6c18>,\n",
       " <folium.features.CircleMarker at 0x7fdede7b6e10>,\n",
       " <folium.features.CircleMarker at 0x7fdede7b6ba8>,\n",
       " <folium.features.CircleMarker at 0x7fdede7b66a0>,\n",
       " <folium.features.CircleMarker at 0x7fdede7b6208>,\n",
       " <folium.features.CircleMarker at 0x7fdede7f74e0>,\n",
       " <folium.features.CircleMarker at 0x7fdede807080>,\n",
       " <folium.features.CircleMarker at 0x7fdede807b70>,\n",
       " <folium.features.CircleMarker at 0x7fdede807128>,\n",
       " <folium.features.CircleMarker at 0x7fdede807a90>,\n",
       " <folium.features.CircleMarker at 0x7fdede807470>,\n",
       " <folium.features.CircleMarker at 0x7fdede7b64e0>,\n",
       " <folium.features.CircleMarker at 0x7fdede7cea90>,\n",
       " <folium.features.CircleMarker at 0x7fdede7ce940>,\n",
       " <folium.features.CircleMarker at 0x7fdede7cef60>,\n",
       " <folium.features.CircleMarker at 0x7fdede7ce358>,\n",
       " <folium.features.CircleMarker at 0x7fdede7ce208>,\n",
       " <folium.features.CircleMarker at 0x7fdede7ce6d8>,\n",
       " <folium.features.CircleMarker at 0x7fdede7ce400>,\n",
       " <folium.features.CircleMarker at 0x7fdede7b6dd8>,\n",
       " <folium.features.CircleMarker at 0x7fdede7b6be0>,\n",
       " <folium.features.CircleMarker at 0x7fdede7b6048>,\n",
       " <folium.features.CircleMarker at 0x7fdede7b6710>,\n",
       " <folium.features.CircleMarker at 0x7fdede7b6da0>,\n",
       " <folium.features.CircleMarker at 0x7fdede7b6748>,\n",
       " <folium.features.CircleMarker at 0x7fdede7b6f28>,\n",
       " <folium.features.CircleMarker at 0x7fdede7f7358>,\n",
       " <folium.features.CircleMarker at 0x7fdede7b6f98>,\n",
       " <folium.features.CircleMarker at 0x7fdede7b6550>,\n",
       " <folium.features.CircleMarker at 0x7fdede7b6cc0>,\n",
       " <folium.features.CircleMarker at 0x7fdede7ce710>,\n",
       " <folium.features.CircleMarker at 0x7fdede7ce390>,\n",
       " <folium.features.CircleMarker at 0x7fdede775710>,\n",
       " <folium.features.CircleMarker at 0x7fdede775d68>,\n",
       " <folium.features.CircleMarker at 0x7fdede775198>,\n",
       " <folium.features.CircleMarker at 0x7fdede775fd0>,\n",
       " <folium.features.CircleMarker at 0x7fdede775128>,\n",
       " <folium.features.CircleMarker at 0x7fdede7754a8>,\n",
       " <folium.features.CircleMarker at 0x7fdede7756d8>,\n",
       " <folium.features.CircleMarker at 0x7fdede7cebe0>,\n",
       " <folium.features.CircleMarker at 0x7fdede7ce3c8>,\n",
       " <folium.features.CircleMarker at 0x7fdede7ce518>,\n",
       " <folium.features.CircleMarker at 0x7fdede7cef28>,\n",
       " <folium.features.CircleMarker at 0x7fdede7ceb00>,\n",
       " <folium.features.CircleMarker at 0x7fdede7ced68>,\n",
       " <folium.features.CircleMarker at 0x7fdede7ceb70>,\n",
       " <folium.features.CircleMarker at 0x7fdede76cf28>,\n",
       " <folium.features.CircleMarker at 0x7fdede7ce550>,\n",
       " <folium.features.CircleMarker at 0x7fdede7ce4a8>,\n",
       " <folium.features.CircleMarker at 0x7fdede7756a0>,\n",
       " <folium.features.CircleMarker at 0x7fdede775550>,\n",
       " <folium.features.CircleMarker at 0x7fdede775f28>,\n",
       " <folium.features.CircleMarker at 0x7fdede775da0>,\n",
       " <folium.features.CircleMarker at 0x7fdede76c668>,\n",
       " <folium.features.CircleMarker at 0x7fdede76c7f0>,\n",
       " <folium.features.CircleMarker at 0x7fdede76c278>,\n",
       " <folium.features.CircleMarker at 0x7fdede76ce80>,\n",
       " <folium.features.CircleMarker at 0x7fdede76cf60>,\n",
       " <folium.features.CircleMarker at 0x7fdede7754e0>,\n",
       " <folium.features.CircleMarker at 0x7fdede7f74a8>,\n",
       " <folium.features.CircleMarker at 0x7fdede7b62e8>,\n",
       " <folium.features.CircleMarker at 0x7fdede7b6358>,\n",
       " <folium.features.CircleMarker at 0x7fdede807ac8>,\n",
       " <folium.features.CircleMarker at 0x7fdede7757f0>,\n",
       " <folium.features.CircleMarker at 0x7fdede775240>,\n",
       " <folium.features.CircleMarker at 0x7fdede76c7b8>,\n",
       " <folium.features.CircleMarker at 0x7fdede76c4a8>,\n",
       " <folium.features.CircleMarker at 0x7fdede7a2e10>,\n",
       " <folium.features.CircleMarker at 0x7fdede7a2dd8>,\n",
       " <folium.features.CircleMarker at 0x7fdede7fbbe0>,\n",
       " <folium.features.CircleMarker at 0x7fdede807160>,\n",
       " <folium.features.CircleMarker at 0x7fdede775630>,\n",
       " <folium.features.CircleMarker at 0x7fdede775828>,\n",
       " <folium.features.CircleMarker at 0x7fdede76c780>,\n",
       " <folium.features.CircleMarker at 0x7fdede76c2b0>,\n",
       " <folium.features.CircleMarker at 0x7fdede7a25f8>,\n",
       " <folium.features.CircleMarker at 0x7fdede7a22e8>,\n",
       " <folium.features.CircleMarker at 0x7fdede7a20b8>,\n",
       " <folium.features.CircleMarker at 0x7fdede7a2da0>,\n",
       " <folium.features.CircleMarker at 0x7fdede7a2ef0>,\n",
       " <folium.features.CircleMarker at 0x7fdede775048>,\n",
       " <folium.features.CircleMarker at 0x7fdede76ccc0>,\n",
       " <folium.features.CircleMarker at 0x7fdede76c8d0>,\n",
       " <folium.features.CircleMarker at 0x7fdede76c6a0>,\n",
       " <folium.features.CircleMarker at 0x7fdede76c630>,\n",
       " <folium.features.CircleMarker at 0x7fdede76c400>,\n",
       " <folium.features.CircleMarker at 0x7fdede7a2d30>,\n",
       " <folium.features.CircleMarker at 0x7fdede739780>,\n",
       " <folium.features.CircleMarker at 0x7fdede739a90>,\n",
       " <folium.features.CircleMarker at 0x7fdede7397b8>,\n",
       " <folium.features.CircleMarker at 0x7fdede739c88>,\n",
       " <folium.features.CircleMarker at 0x7fdede7391d0>,\n",
       " <folium.features.CircleMarker at 0x7fdede739550>,\n",
       " <folium.features.CircleMarker at 0x7fdede739c50>,\n",
       " <folium.features.CircleMarker at 0x7fdede7a22b0>,\n",
       " <folium.features.CircleMarker at 0x7fdede7a2a20>,\n",
       " <folium.features.CircleMarker at 0x7fdede7a2278>,\n",
       " <folium.features.CircleMarker at 0x7fdede7a2748>,\n",
       " <folium.features.CircleMarker at 0x7fdede7a2978>,\n",
       " <folium.features.CircleMarker at 0x7fdede7a2b38>,\n",
       " <folium.features.CircleMarker at 0x7fdede7a26d8>,\n",
       " <folium.features.CircleMarker at 0x7fdede76cba8>,\n",
       " <folium.features.CircleMarker at 0x7fdede7a23c8>,\n",
       " <folium.features.CircleMarker at 0x7fdede7a2cc0>,\n",
       " <folium.features.CircleMarker at 0x7fdede7a2908>,\n",
       " <folium.features.CircleMarker at 0x7fdede7396a0>,\n",
       " <folium.features.CircleMarker at 0x7fdede739b38>,\n",
       " <folium.features.CircleMarker at 0x7fdede750ef0>,\n",
       " <folium.features.CircleMarker at 0x7fdede750588>,\n",
       " <folium.features.CircleMarker at 0x7fdede750128>,\n",
       " <folium.features.CircleMarker at 0x7fdede750f98>,\n",
       " <folium.features.CircleMarker at 0x7fdede750c50>,\n",
       " <folium.features.CircleMarker at 0x7fdede750240>,\n",
       " <folium.features.CircleMarker at 0x7fdede739f98>,\n",
       " <folium.features.CircleMarker at 0x7fdede7500f0>,\n",
       " <folium.features.CircleMarker at 0x7fdede7509e8>,\n",
       " <folium.features.CircleMarker at 0x7fdede750e48>,\n",
       " <folium.features.CircleMarker at 0x7fdede750160>,\n",
       " <folium.features.CircleMarker at 0x7fdede750400>,\n",
       " <folium.features.CircleMarker at 0x7fdede750208>,\n",
       " <folium.features.CircleMarker at 0x7fdede729d68>,\n",
       " <folium.features.CircleMarker at 0x7fdede729828>,\n",
       " <folium.features.CircleMarker at 0x7fdede729e48>,\n",
       " <folium.features.CircleMarker at 0x7fdede729278>,\n",
       " <folium.features.CircleMarker at 0x7fdede7298d0>,\n",
       " <folium.features.CircleMarker at 0x7fdede739f28>,\n",
       " <folium.features.CircleMarker at 0x7fdede739d68>,\n",
       " <folium.features.CircleMarker at 0x7fdede739860>,\n",
       " <folium.features.CircleMarker at 0x7fdede7399b0>,\n",
       " <folium.features.CircleMarker at 0x7fdede739940>,\n",
       " <folium.features.CircleMarker at 0x7fdede739cc0>,\n",
       " <folium.features.CircleMarker at 0x7fdede739390>,\n",
       " <folium.features.CircleMarker at 0x7fdede729668>,\n",
       " <folium.features.CircleMarker at 0x7fdede729fd0>,\n",
       " <folium.features.CircleMarker at 0x7fdede729f98>,\n",
       " <folium.features.CircleMarker at 0x7fdede729780>,\n",
       " <folium.features.CircleMarker at 0x7fdede729320>,\n",
       " <folium.features.CircleMarker at 0x7fdede729978>,\n",
       " <folium.features.CircleMarker at 0x7fdede729240>,\n",
       " <folium.features.CircleMarker at 0x7fdede729b70>,\n",
       " <folium.features.CircleMarker at 0x7fdede6ffe10>,\n",
       " <folium.features.CircleMarker at 0x7fdede6ffeb8>,\n",
       " <folium.features.CircleMarker at 0x7fdede6ff438>,\n",
       " <folium.features.CircleMarker at 0x7fdede6fff28>,\n",
       " <folium.features.CircleMarker at 0x7fdede729ac8>,\n",
       " <folium.features.CircleMarker at 0x7fdede729470>,\n",
       " <folium.features.CircleMarker at 0x7fdede729550>,\n",
       " <folium.features.CircleMarker at 0x7fdede6ff6a0>,\n",
       " <folium.features.CircleMarker at 0x7fdede6ffa90>,\n",
       " <folium.features.CircleMarker at 0x7fdede6ff828>,\n",
       " <folium.features.CircleMarker at 0x7fdede6ff630>,\n",
       " <folium.features.CircleMarker at 0x7fdede6ff6d8>,\n",
       " <folium.features.CircleMarker at 0x7fdede6ffba8>,\n",
       " <folium.features.CircleMarker at 0x7fdede6f52e8>,\n",
       " <folium.features.CircleMarker at 0x7fdede6f52b0>,\n",
       " <folium.features.CircleMarker at 0x7fdede7296a0>,\n",
       " <folium.features.CircleMarker at 0x7fdede6f5f98>,\n",
       " <folium.features.CircleMarker at 0x7fdede750e10>,\n",
       " <folium.features.CircleMarker at 0x7fdede750438>,\n",
       " <folium.features.CircleMarker at 0x7fdede750a58>,\n",
       " <folium.features.CircleMarker at 0x7fdede750908>,\n",
       " <folium.features.CircleMarker at 0x7fdede6ffd68>,\n",
       " <folium.features.CircleMarker at 0x7fdede6ff5c0>,\n",
       " <folium.features.CircleMarker at 0x7fdede6ff9e8>,\n",
       " <folium.features.CircleMarker at 0x7fdede729d30>,\n",
       " <folium.features.CircleMarker at 0x7fdede6ff470>,\n",
       " <folium.features.CircleMarker at 0x7fdede6f5358>,\n",
       " <folium.features.CircleMarker at 0x7fdede6f5550>,\n",
       " <folium.features.CircleMarker at 0x7fdede6f5128>,\n",
       " <folium.features.CircleMarker at 0x7fdede6f5470>,\n",
       " <folium.features.CircleMarker at 0x7fdede6f5668>,\n",
       " <folium.features.CircleMarker at 0x7fdede6f59b0>,\n",
       " <folium.features.CircleMarker at 0x7fdede6f5ac8>,\n",
       " <folium.features.CircleMarker at 0x7fdede71eef0>,\n",
       " <folium.features.CircleMarker at 0x7fdede71ef60>,\n",
       " <folium.features.CircleMarker at 0x7fdede71ee48>,\n",
       " <folium.features.CircleMarker at 0x7fdede71e9e8>,\n",
       " <folium.features.CircleMarker at 0x7fdede71e828>,\n",
       " <folium.features.CircleMarker at 0x7fdede6f5b38>,\n",
       " <folium.features.CircleMarker at 0x7fdede71e470>,\n",
       " <folium.features.CircleMarker at 0x7fdede71ecf8>,\n",
       " <folium.features.CircleMarker at 0x7fdede71e5f8>,\n",
       " <folium.features.CircleMarker at 0x7fdede71e4e0>,\n",
       " <folium.features.CircleMarker at 0x7fdede71e2b0>,\n",
       " <folium.features.CircleMarker at 0x7fdede71e160>,\n",
       " <folium.features.CircleMarker at 0x7fdede71ee80>,\n",
       " <folium.features.CircleMarker at 0x7fdede71ea20>,\n",
       " <folium.features.CircleMarker at 0x7fdede71e198>,\n",
       " <folium.features.CircleMarker at 0x7fdede71ed68>,\n",
       " <folium.features.CircleMarker at 0x7fdede71ea90>,\n",
       " <folium.features.CircleMarker at 0x7fdede71e128>,\n",
       " <folium.features.CircleMarker at 0x7fdede71ec50>,\n",
       " <folium.features.CircleMarker at 0x7fdede71e908>,\n",
       " <folium.features.CircleMarker at 0x7fdede6f54a8>,\n",
       " <folium.features.CircleMarker at 0x7fdede6aeb00>,\n",
       " <folium.features.CircleMarker at 0x7fdede6ae358>,\n",
       " <folium.features.CircleMarker at 0x7fdede6ae4e0>,\n",
       " <folium.features.CircleMarker at 0x7fdede7a2cf8>,\n",
       " <folium.features.CircleMarker at 0x7fdede7a2048>,\n",
       " <folium.features.CircleMarker at 0x7fdede6ff780>,\n",
       " <folium.features.CircleMarker at 0x7fdede6aea58>,\n",
       " <folium.features.CircleMarker at 0x7fdede6f56a0>,\n",
       " <folium.features.CircleMarker at 0x7fdede6ffbe0>,\n",
       " <folium.features.CircleMarker at 0x7fdede6f5cf8>,\n",
       " <folium.features.CircleMarker at 0x7fdede6f5be0>,\n",
       " <folium.features.CircleMarker at 0x7fdede6f5f28>,\n",
       " <folium.features.CircleMarker at 0x7fdede6aebe0>,\n",
       " <folium.features.CircleMarker at 0x7fdede6f5160>,\n",
       " <folium.features.CircleMarker at 0x7fdede6ffdd8>,\n",
       " <folium.features.CircleMarker at 0x7fdede6ff8d0>,\n",
       " <folium.features.CircleMarker at 0x7fdede750eb8>,\n",
       " <folium.features.CircleMarker at 0x7fdede7506d8>,\n",
       " <folium.features.CircleMarker at 0x7fdede6ae320>,\n",
       " <folium.features.CircleMarker at 0x7fdede6ae080>,\n",
       " <folium.features.CircleMarker at 0x7fdede6dacc0>,\n",
       " <folium.features.CircleMarker at 0x7fdede6daf28>,\n",
       " <folium.features.CircleMarker at 0x7fdede6da2e8>,\n",
       " <folium.features.CircleMarker at 0x7fdede6daa90>,\n",
       " <folium.features.CircleMarker at 0x7fdede6daa20>,\n",
       " <folium.features.CircleMarker at 0x7fdede6da198>,\n",
       " <folium.features.CircleMarker at 0x7fdede6da898>,\n",
       " <folium.features.CircleMarker at 0x7fdede6ae9e8>,\n",
       " <folium.features.CircleMarker at 0x7fdede6aefd0>,\n",
       " <folium.features.CircleMarker at 0x7fdede6ae5f8>,\n",
       " <folium.features.CircleMarker at 0x7fdede6ae160>,\n",
       " <folium.features.CircleMarker at 0x7fdede6ae438>,\n",
       " <folium.features.CircleMarker at 0x7fdede6ae550>,\n",
       " <folium.features.CircleMarker at 0x7fdede6aef28>,\n",
       " <folium.features.CircleMarker at 0x7fdede6c2e80>,\n",
       " <folium.features.CircleMarker at 0x7fdede6c27b8>,\n",
       " <folium.features.CircleMarker at 0x7fdede6c2320>,\n",
       " <folium.features.CircleMarker at 0x7fdede6c2fd0>,\n",
       " <folium.features.CircleMarker at 0x7fdede6ae908>,\n",
       " <folium.features.CircleMarker at 0x7fdede6aeda0>,\n",
       " <folium.features.CircleMarker at 0x7fdede6ae390>,\n",
       " <folium.features.CircleMarker at 0x7fdede6da7f0>,\n",
       " <folium.features.CircleMarker at 0x7fdede6c2c50>,\n",
       " <folium.features.CircleMarker at 0x7fdede6c2ef0>,\n",
       " <folium.features.CircleMarker at 0x7fdede6c2278>,\n",
       " <folium.features.CircleMarker at 0x7fdede6c2390>,\n",
       " <folium.features.CircleMarker at 0x7fdede6c20f0>,\n",
       " <folium.features.CircleMarker at 0x7fdede6c2eb8>,\n",
       " <folium.features.CircleMarker at 0x7fdede66b080>,\n",
       " <folium.features.CircleMarker at 0x7fdede66b240>,\n",
       " <folium.features.CircleMarker at 0x7fdede66bf28>,\n",
       " <folium.features.CircleMarker at 0x7fdede66bfd0>,\n",
       " <folium.features.CircleMarker at 0x7fdede66bbe0>,\n",
       " <folium.features.CircleMarker at 0x7fdede6da0b8>,\n",
       " <folium.features.CircleMarker at 0x7fdede6da5f8>,\n",
       " <folium.features.CircleMarker at 0x7fdede6dae10>,\n",
       " <folium.features.CircleMarker at 0x7fdede6c2908>,\n",
       " <folium.features.CircleMarker at 0x7fdede6c2b00>,\n",
       " <folium.features.CircleMarker at 0x7fdede6c2160>,\n",
       " <folium.features.CircleMarker at 0x7fdede6c2978>,\n",
       " <folium.features.CircleMarker at 0x7fdede6c22e8>,\n",
       " <folium.features.CircleMarker at 0x7fdede6c2518>,\n",
       " <folium.features.CircleMarker at 0x7fdede66b5f8>,\n",
       " <folium.features.CircleMarker at 0x7fdede6dab38>,\n",
       " <folium.features.CircleMarker at 0x7fdede6da2b0>,\n",
       " <folium.features.CircleMarker at 0x7fdede66bb70>,\n",
       " <folium.features.CircleMarker at 0x7fdede66b9e8>,\n",
       " <folium.features.CircleMarker at 0x7fdede66b518>,\n",
       " <folium.features.CircleMarker at 0x7fdede66bd68>,\n",
       " <folium.features.CircleMarker at 0x7fdede68e978>,\n",
       " <folium.features.CircleMarker at 0x7fdede68ed30>,\n",
       " <folium.features.CircleMarker at 0x7fdede68e550>,\n",
       " <folium.features.CircleMarker at 0x7fdede68efd0>,\n",
       " <folium.features.CircleMarker at 0x7fdede6c25c0>,\n",
       " <folium.features.CircleMarker at 0x7fdede68e160>,\n",
       " <folium.features.CircleMarker at 0x7fdede68e198>,\n",
       " <folium.features.CircleMarker at 0x7fdede66bc50>,\n",
       " <folium.features.CircleMarker at 0x7fdede68ecf8>,\n",
       " <folium.features.CircleMarker at 0x7fdede68e128>,\n",
       " <folium.features.CircleMarker at 0x7fdede68e240>,\n",
       " <folium.features.CircleMarker at 0x7fdede68eb38>,\n",
       " <folium.features.CircleMarker at 0x7fdede68e470>,\n",
       " <folium.features.CircleMarker at 0x7fdede68e710>,\n",
       " <folium.features.CircleMarker at 0x7fdede69f400>,\n",
       " <folium.features.CircleMarker at 0x7fdede69f080>,\n",
       " <folium.features.CircleMarker at 0x7fdede6da8d0>,\n",
       " <folium.features.CircleMarker at 0x7fdede69f828>,\n",
       " <folium.features.CircleMarker at 0x7fdede69f240>,\n",
       " <folium.features.CircleMarker at 0x7fdede69f4a8>,\n",
       " <folium.features.CircleMarker at 0x7fdede66b438>,\n",
       " <folium.features.CircleMarker at 0x7fdede66be10>,\n",
       " <folium.features.CircleMarker at 0x7fdede66b4a8>,\n",
       " <folium.features.CircleMarker at 0x7fdede66b320>,\n",
       " <folium.features.CircleMarker at 0x7fdede66b940>,\n",
       " <folium.features.CircleMarker at 0x7fdede66b0b8>,\n",
       " <folium.features.CircleMarker at 0x7fdede66bd30>,\n",
       " <folium.features.CircleMarker at 0x7fdede68e668>,\n",
       " <folium.features.CircleMarker at 0x7fdede68e588>,\n",
       " <folium.features.CircleMarker at 0x7fdede69f3c8>,\n",
       " <folium.features.CircleMarker at 0x7fdede69fdd8>,\n",
       " <folium.features.CircleMarker at 0x7fdede69f6d8>,\n",
       " <folium.features.CircleMarker at 0x7fdede69fbe0>,\n",
       " <folium.features.CircleMarker at 0x7fdede69f8d0>,\n",
       " <folium.features.CircleMarker at 0x7fdede69f278>,\n",
       " <folium.features.CircleMarker at 0x7fdede63df60>,\n",
       " <folium.features.CircleMarker at 0x7fdede63d780>,\n",
       " <folium.features.CircleMarker at 0x7fdede63d8d0>,\n",
       " <folium.features.CircleMarker at 0x7fdede63d240>,\n",
       " <folium.features.CircleMarker at 0x7fdede63d668>,\n",
       " <folium.features.CircleMarker at 0x7fdede63deb8>,\n",
       " <folium.features.CircleMarker at 0x7fdede63d358>,\n",
       " <folium.features.CircleMarker at 0x7fdede69f0f0>,\n",
       " <folium.features.CircleMarker at 0x7fdede63d6d8>,\n",
       " <folium.features.CircleMarker at 0x7fdede63d978>,\n",
       " <folium.features.CircleMarker at 0x7fdede63da58>,\n",
       " <folium.features.CircleMarker at 0x7fdede63d3c8>,\n",
       " <folium.features.CircleMarker at 0x7fdede63dcc0>,\n",
       " <folium.features.CircleMarker at 0x7fdede63df28>,\n",
       " <folium.features.CircleMarker at 0x7fdede62d630>,\n",
       " <folium.features.CircleMarker at 0x7fdede62d208>,\n",
       " <folium.features.CircleMarker at 0x7fdede62de48>,\n",
       " <folium.features.CircleMarker at 0x7fdede62def0>,\n",
       " <folium.features.CircleMarker at 0x7fdede62da90>,\n",
       " <folium.features.CircleMarker at 0x7fdede62d710>,\n",
       " <folium.features.CircleMarker at 0x7fdede69fa58>,\n",
       " <folium.features.CircleMarker at 0x7fdede62d9e8>,\n",
       " <folium.features.CircleMarker at 0x7fdede63d160>,\n",
       " <folium.features.CircleMarker at 0x7fdede63dd68>,\n",
       " <folium.features.CircleMarker at 0x7fdede63db00>,\n",
       " <folium.features.CircleMarker at 0x7fdede63d518>,\n",
       " <folium.features.CircleMarker at 0x7fdede63d7b8>,\n",
       " <folium.features.CircleMarker at 0x7fdede62d1d0>,\n",
       " <folium.features.CircleMarker at 0x7fdede6638d0>,\n",
       " <folium.features.CircleMarker at 0x7fdede62d128>,\n",
       " <folium.features.CircleMarker at 0x7fdede62d908>,\n",
       " <folium.features.CircleMarker at 0x7fdede66bba8>,\n",
       " <folium.features.CircleMarker at 0x7fdede68e5c0>,\n",
       " <folium.features.CircleMarker at 0x7fdede68ef98>,\n",
       " <folium.features.CircleMarker at 0x7fdede68e9b0>,\n",
       " <folium.features.CircleMarker at 0x7fdede69f630>,\n",
       " <folium.features.CircleMarker at 0x7fdede69fba8>,\n",
       " <folium.features.CircleMarker at 0x7fdede69f710>,\n",
       " <folium.features.CircleMarker at 0x7fdede69f668>,\n",
       " <folium.features.CircleMarker at 0x7fdede663320>,\n",
       " <folium.features.CircleMarker at 0x7fdede663518>,\n",
       " <folium.features.CircleMarker at 0x7fdede663b38>,\n",
       " <folium.features.CircleMarker at 0x7fdede663780>,\n",
       " <folium.features.CircleMarker at 0x7fdede6c2080>,\n",
       " <folium.features.CircleMarker at 0x7fdede68e320>,\n",
       " <folium.features.CircleMarker at 0x7fdede69f5f8>,\n",
       " <folium.features.CircleMarker at 0x7fdede62d7f0>,\n",
       " <folium.features.CircleMarker at 0x7fdede62d470>,\n",
       " <folium.features.CircleMarker at 0x7fdede62d3c8>,\n",
       " <folium.features.CircleMarker at 0x7fdede62d898>,\n",
       " <folium.features.CircleMarker at 0x7fdede62dbe0>,\n",
       " <folium.features.CircleMarker at 0x7fdede62de10>,\n",
       " <folium.features.CircleMarker at 0x7fdede62d860>,\n",
       " <folium.features.CircleMarker at 0x7fdede5f6438>,\n",
       " <folium.features.CircleMarker at 0x7fdede6aeb38>,\n",
       " <folium.features.CircleMarker at 0x7fdede6c2f98>,\n",
       " <folium.features.CircleMarker at 0x7fdede5f6390>,\n",
       " <folium.features.CircleMarker at 0x7fdede6dac50>,\n",
       " <folium.features.CircleMarker at 0x7fdede5f6080>,\n",
       " <folium.features.CircleMarker at 0x7fdede5f6978>,\n",
       " <folium.features.CircleMarker at 0x7fdede5f6278>,\n",
       " <folium.features.CircleMarker at 0x7fdede663208>,\n",
       " <folium.features.CircleMarker at 0x7fdede6637b8>,\n",
       " <folium.features.CircleMarker at 0x7fdede663a58>,\n",
       " <folium.features.CircleMarker at 0x7fdede6630f0>,\n",
       " <folium.features.CircleMarker at 0x7fdede663b70>,\n",
       " <folium.features.CircleMarker at 0x7fdede663a90>,\n",
       " <folium.features.CircleMarker at 0x7fdede63d198>,\n",
       " <folium.features.CircleMarker at 0x7fdede663978>,\n",
       " <folium.features.CircleMarker at 0x7fdede663128>,\n",
       " <folium.features.CircleMarker at 0x7fdede663940>,\n",
       " <folium.features.CircleMarker at 0x7fdede5f67b8>,\n",
       " <folium.features.CircleMarker at 0x7fdede5f6748>,\n",
       " <folium.features.CircleMarker at 0x7fdede5f6f98>,\n",
       " <folium.features.CircleMarker at 0x7fdede608c88>,\n",
       " <folium.features.CircleMarker at 0x7fdede608b00>,\n",
       " <folium.features.CircleMarker at 0x7fdede608dd8>,\n",
       " <folium.features.CircleMarker at 0x7fdede608860>,\n",
       " <folium.features.CircleMarker at 0x7fdede6ae0b8>,\n",
       " <folium.features.CircleMarker at 0x7fdede6088d0>,\n",
       " <folium.features.CircleMarker at 0x7fdede663f60>,\n",
       " <folium.features.CircleMarker at 0x7fdede608400>,\n",
       " <folium.features.CircleMarker at 0x7fdede5f6ac8>,\n",
       " <folium.features.CircleMarker at 0x7fdede5f64e0>,\n",
       " <folium.features.CircleMarker at 0x7fdede5f6908>,\n",
       " <folium.features.CircleMarker at 0x7fdede5f6b70>,\n",
       " <folium.features.CircleMarker at 0x7fdede5f6160>,\n",
       " <folium.features.CircleMarker at 0x7fdede5f60b8>,\n",
       " <folium.features.CircleMarker at 0x7fdede61fcf8>,\n",
       " <folium.features.CircleMarker at 0x7fdede61f390>,\n",
       " <folium.features.CircleMarker at 0x7fdede61fc88>,\n",
       " <folium.features.CircleMarker at 0x7fdede5f6668>,\n",
       " <folium.features.CircleMarker at 0x7fdede6da400>,\n",
       " <folium.features.CircleMarker at 0x7fdede6dac18>,\n",
       " <folium.features.CircleMarker at 0x7fdede61f588>,\n",
       " <folium.features.CircleMarker at 0x7fdede61f9e8>,\n",
       " <folium.features.CircleMarker at 0x7fdede608438>,\n",
       " <folium.features.CircleMarker at 0x7fdede608fd0>,\n",
       " <folium.features.CircleMarker at 0x7fdede608a58>,\n",
       " <folium.features.CircleMarker at 0x7fdede6080f0>,\n",
       " <folium.features.CircleMarker at 0x7fdede608a90>,\n",
       " <folium.features.CircleMarker at 0x7fdede6085f8>,\n",
       " <folium.features.CircleMarker at 0x7fdede608748>,\n",
       " <folium.features.CircleMarker at 0x7fdede61f438>,\n",
       " <folium.features.CircleMarker at 0x7fdede61fcc0>,\n",
       " <folium.features.CircleMarker at 0x7fdede61f668>,\n",
       " <folium.features.CircleMarker at 0x7fdede61f860>,\n",
       " <folium.features.CircleMarker at 0x7fdede61f630>,\n",
       " <folium.features.CircleMarker at 0x7fdede61f6a0>,\n",
       " <folium.features.CircleMarker at 0x7fdede5e7e48>,\n",
       " <folium.features.CircleMarker at 0x7fdede5e7390>,\n",
       " <folium.features.CircleMarker at 0x7fdede5e7748>,\n",
       " <folium.features.CircleMarker at 0x7fdede5e7128>,\n",
       " <folium.features.CircleMarker at 0x7fdede5e7dd8>,\n",
       " <folium.features.CircleMarker at 0x7fdede5e78d0>,\n",
       " <folium.features.CircleMarker at 0x7fdede61f128>,\n",
       " <folium.features.CircleMarker at 0x7fdede5f6358>,\n",
       " <folium.features.CircleMarker at 0x7fdede61fac8>,\n",
       " <folium.features.CircleMarker at 0x7fdede6089e8>,\n",
       " <folium.features.CircleMarker at 0x7fdede608898>,\n",
       " <folium.features.CircleMarker at 0x7fdede608e48>,\n",
       " <folium.features.CircleMarker at 0x7fdede61f5f8>,\n",
       " <folium.features.CircleMarker at 0x7fdede61f7f0>,\n",
       " <folium.features.CircleMarker at 0x7fdede5b4cf8>,\n",
       " <folium.features.CircleMarker at 0x7fdede5b4240>,\n",
       " <folium.features.CircleMarker at 0x7fdede5b4f28>,\n",
       " <folium.features.CircleMarker at 0x7fdede5b4748>,\n",
       " <folium.features.CircleMarker at 0x7fdede61f550>,\n",
       " <folium.features.CircleMarker at 0x7fdede61f240>,\n",
       " <folium.features.CircleMarker at 0x7fdede5b47f0>,\n",
       " <folium.features.CircleMarker at 0x7fdede5b41d0>,\n",
       " <folium.features.CircleMarker at 0x7fdede5e72b0>,\n",
       " <folium.features.CircleMarker at 0x7fdede5e7908>,\n",
       " <folium.features.CircleMarker at 0x7fdede5e7a20>,\n",
       " <folium.features.CircleMarker at 0x7fdede5e7be0>,\n",
       " <folium.features.CircleMarker at 0x7fdede5e7b00>,\n",
       " <folium.features.CircleMarker at 0x7fdede5e74e0>,\n",
       " <folium.features.CircleMarker at 0x7fdede5e7eb8>,\n",
       " <folium.features.CircleMarker at 0x7fdede5e7828>,\n",
       " <folium.features.CircleMarker at 0x7fdede5e7cf8>,\n",
       " <folium.features.CircleMarker at 0x7fdede5e7208>,\n",
       " <folium.features.CircleMarker at 0x7fdede5e74a8>,\n",
       " <folium.features.CircleMarker at 0x7fdede5e7e80>,\n",
       " <folium.features.CircleMarker at 0x7fdede5b4668>,\n",
       " <folium.features.CircleMarker at 0x7fdede5b4550>,\n",
       " <folium.features.CircleMarker at 0x7fdede5ac2b0>,\n",
       " <folium.features.CircleMarker at 0x7fdede5ac2e8>,\n",
       " <folium.features.CircleMarker at 0x7fdede5aca58>,\n",
       " <folium.features.CircleMarker at 0x7fdede5ac208>,\n",
       " <folium.features.CircleMarker at 0x7fdede5acdd8>,\n",
       " <folium.features.CircleMarker at 0x7fdede5ac160>,\n",
       " <folium.features.CircleMarker at 0x7fdede5ac710>,\n",
       " <folium.features.CircleMarker at 0x7fdede5b4eb8>,\n",
       " <folium.features.CircleMarker at 0x7fdede5b46a0>,\n",
       " <folium.features.CircleMarker at 0x7fdede5b40b8>,\n",
       " <folium.features.CircleMarker at 0x7fdede5b4208>,\n",
       " <folium.features.CircleMarker at 0x7fdede5b4be0>,\n",
       " <folium.features.CircleMarker at 0x7fdede5b4ba8>,\n",
       " <folium.features.CircleMarker at 0x7fdede5d15f8>,\n",
       " <folium.features.CircleMarker at 0x7fdede5d1208>,\n",
       " <folium.features.CircleMarker at 0x7fdede5d1f28>,\n",
       " <folium.features.CircleMarker at 0x7fdede5d1be0>,\n",
       " <folium.features.CircleMarker at 0x7fdede5d1eb8>,\n",
       " <folium.features.CircleMarker at 0x7fdede5d1550>,\n",
       " <folium.features.CircleMarker at 0x7fdede5d1588>,\n",
       " <folium.features.CircleMarker at 0x7fdede5d17b8>,\n",
       " <folium.features.CircleMarker at 0x7fdede5ace80>,\n",
       " <folium.features.CircleMarker at 0x7fdede5ac1d0>,\n",
       " <folium.features.CircleMarker at 0x7fdede5ac9e8>,\n",
       " <folium.features.CircleMarker at 0x7fdede5acfd0>,\n",
       " <folium.features.CircleMarker at 0x7fdede5acb00>,\n",
       " <folium.features.CircleMarker at 0x7fdede5ac4e0>,\n",
       " <folium.features.CircleMarker at 0x7fdede5aca90>,\n",
       " <folium.features.CircleMarker at 0x7fdede572eb8>,\n",
       " <folium.features.CircleMarker at 0x7fdede572b38>,\n",
       " <folium.features.CircleMarker at 0x7fdede5723c8>,\n",
       " <folium.features.CircleMarker at 0x7fdede572a20>,\n",
       " <folium.features.CircleMarker at 0x7fdede572320>,\n",
       " <folium.features.CircleMarker at 0x7fdede572518>,\n",
       " <folium.features.CircleMarker at 0x7fdede5d1a58>,\n",
       " <folium.features.CircleMarker at 0x7fdede5d1b70>,\n",
       " <folium.features.CircleMarker at 0x7fdede608cf8>,\n",
       " <folium.features.CircleMarker at 0x7fdede5e7710>,\n",
       " <folium.features.CircleMarker at 0x7fdede61fda0>,\n",
       " <folium.features.CircleMarker at 0x7fdede5e7c18>,\n",
       " <folium.features.CircleMarker at 0x7fdede5b45f8>,\n",
       " <folium.features.CircleMarker at 0x7fdede5b4048>,\n",
       " <folium.features.CircleMarker at 0x7fdede5b4da0>,\n",
       " <folium.features.CircleMarker at 0x7fdede5ac748>,\n",
       " <folium.features.CircleMarker at 0x7fdede5acc18>,\n",
       " <folium.features.CircleMarker at 0x7fdede5ac4a8>,\n",
       " <folium.features.CircleMarker at 0x7fdede572cc0>,\n",
       " <folium.features.CircleMarker at 0x7fdede5721d0>,\n",
       " <folium.features.CircleMarker at 0x7fdede572d30>,\n",
       " <folium.features.CircleMarker at 0x7fdede572b00>,\n",
       " <folium.features.CircleMarker at 0x7fdede5722b0>,\n",
       " <folium.features.CircleMarker at 0x7fdede572e10>,\n",
       " <folium.features.CircleMarker at 0x7fdede587ac8>,\n",
       " <folium.features.CircleMarker at 0x7fdede5877f0>,\n",
       " <folium.features.CircleMarker at 0x7fdede5870f0>,\n",
       " <folium.features.CircleMarker at 0x7fdede5ac080>,\n",
       " <folium.features.CircleMarker at 0x7fdede5874a8>,\n",
       " <folium.features.CircleMarker at 0x7fdede5879e8>,\n",
       " <folium.features.CircleMarker at 0x7fdede572908>,\n",
       " <folium.features.CircleMarker at 0x7fdede587208>,\n",
       " <folium.features.CircleMarker at 0x7fdede587518>,\n",
       " <folium.features.CircleMarker at 0x7fdede5d1748>,\n",
       " <folium.features.CircleMarker at 0x7fdede5d1d30>,\n",
       " <folium.features.CircleMarker at 0x7fdede5d1390>,\n",
       " <folium.features.CircleMarker at 0x7fdede5d1898>,\n",
       " <folium.features.CircleMarker at 0x7fdede5d1630>,\n",
       " <folium.features.CircleMarker at 0x7fdede5d1f98>,\n",
       " <folium.features.CircleMarker at 0x7fdede663d68>,\n",
       " <folium.features.CircleMarker at 0x7fdede5f6b38>,\n",
       " <folium.features.CircleMarker at 0x7fdede5a1e48>,\n",
       " <folium.features.CircleMarker at 0x7fdede5a1550>,\n",
       " <folium.features.CircleMarker at 0x7fdede572e80>,\n",
       " <folium.features.CircleMarker at 0x7fdede572f28>,\n",
       " <folium.features.CircleMarker at 0x7fdede572898>,\n",
       " <folium.features.CircleMarker at 0x7fdede572748>,\n",
       " <folium.features.CircleMarker at 0x7fdede587e80>,\n",
       " <folium.features.CircleMarker at 0x7fdede587630>,\n",
       " <folium.features.CircleMarker at 0x7fdede587b00>,\n",
       " <folium.features.CircleMarker at 0x7fdede5ac6d8>,\n",
       " <folium.features.CircleMarker at 0x7fdede587080>,\n",
       " <folium.features.CircleMarker at 0x7fdede587908>,\n",
       " <folium.features.CircleMarker at 0x7fdede587240>,\n",
       " <folium.features.CircleMarker at 0x7fdede5a13c8>,\n",
       " <folium.features.CircleMarker at 0x7fdede5a16a0>,\n",
       " <folium.features.CircleMarker at 0x7fdede5a1a58>,\n",
       " <folium.features.CircleMarker at 0x7fdede5a1668>,\n",
       " <folium.features.CircleMarker at 0x7fdede5a10f0>,\n",
       " <folium.features.CircleMarker at 0x7fdede5a18d0>,\n",
       " <folium.features.CircleMarker at 0x7fdede536d30>,\n",
       " <folium.features.CircleMarker at 0x7fdede536668>,\n",
       " <folium.features.CircleMarker at 0x7fdede536c18>,\n",
       " <folium.features.CircleMarker at 0x7fdede5369b0>,\n",
       " <folium.features.CircleMarker at 0x7fdede536eb8>,\n",
       " <folium.features.CircleMarker at 0x7fdede663550>,\n",
       " <folium.features.CircleMarker at 0x7fdede5a1c50>,\n",
       " <folium.features.CircleMarker at 0x7fdede5a1390>,\n",
       " <folium.features.CircleMarker at 0x7fdede587dd8>,\n",
       " <folium.features.CircleMarker at 0x7fdede587a20>,\n",
       " <folium.features.CircleMarker at 0x7fdede5870b8>,\n",
       " <folium.features.CircleMarker at 0x7fdede587710>,\n",
       " <folium.features.CircleMarker at 0x7fdede587860>,\n",
       " <folium.features.CircleMarker at 0x7fdede5a1470>,\n",
       " <folium.features.CircleMarker at 0x7fdede5a1cf8>,\n",
       " <folium.features.CircleMarker at 0x7fdede536978>,\n",
       " <folium.features.CircleMarker at 0x7fdede5364e0>,\n",
       " <folium.features.CircleMarker at 0x7fdede536b00>,\n",
       " <folium.features.CircleMarker at 0x7fdede536cf8>,\n",
       " <folium.features.CircleMarker at 0x7fdede536208>,\n",
       " <folium.features.CircleMarker at 0x7fdede536b38>,\n",
       " <folium.features.CircleMarker at 0x7fdede531f28>,\n",
       " <folium.features.CircleMarker at 0x7fdede531390>,\n",
       " <folium.features.CircleMarker at 0x7fdede531128>,\n",
       " <folium.features.CircleMarker at 0x7fdede531240>,\n",
       " <folium.features.CircleMarker at 0x7fdede531898>,\n",
       " <folium.features.CircleMarker at 0x7fdede531550>,\n",
       " <folium.features.CircleMarker at 0x7fdede536898>,\n",
       " <folium.features.CircleMarker at 0x7fdede531b38>,\n",
       " <folium.features.CircleMarker at 0x7fdede536470>,\n",
       " <folium.features.CircleMarker at 0x7fdede536ba8>,\n",
       " <folium.features.CircleMarker at 0x7fdede536ac8>,\n",
       " <folium.features.CircleMarker at 0x7fdede536400>,\n",
       " <folium.features.CircleMarker at 0x7fdede5363c8>,\n",
       " <folium.features.CircleMarker at 0x7fdede5311d0>,\n",
       " <folium.features.CircleMarker at 0x7fdede559d30>,\n",
       " <folium.features.CircleMarker at 0x7fdede559780>,\n",
       " <folium.features.CircleMarker at 0x7fdede559c18>,\n",
       " <folium.features.CircleMarker at 0x7fdede559ef0>,\n",
       " <folium.features.CircleMarker at 0x7fdede5a1ac8>,\n",
       " <folium.features.CircleMarker at 0x7fdede536080>,\n",
       " <folium.features.CircleMarker at 0x7fdede5369e8>,\n",
       " <folium.features.CircleMarker at 0x7fdede5595c0>,\n",
       " <folium.features.CircleMarker at 0x7fdede5316a0>,\n",
       " <folium.features.CircleMarker at 0x7fdede5312e8>,\n",
       " <folium.features.CircleMarker at 0x7fdede531518>,\n",
       " <folium.features.CircleMarker at 0x7fdede531d30>,\n",
       " <folium.features.CircleMarker at 0x7fdede531048>,\n",
       " <folium.features.CircleMarker at 0x7fdede531d68>,\n",
       " <folium.features.CircleMarker at 0x7fdede4f7898>,\n",
       " <folium.features.CircleMarker at 0x7fdede531780>,\n",
       " <folium.features.CircleMarker at 0x7fdede531358>,\n",
       " <folium.features.CircleMarker at 0x7fdede5a1eb8>,\n",
       " <folium.features.CircleMarker at 0x7fdede5a1b00>,\n",
       " <folium.features.CircleMarker at 0x7fdede5a1ef0>,\n",
       " <folium.features.CircleMarker at 0x7fdede559fd0>,\n",
       " <folium.features.CircleMarker at 0x7fdede5598d0>,\n",
       " <folium.features.CircleMarker at 0x7fdede4f73c8>,\n",
       " <folium.features.CircleMarker at 0x7fdede4f74e0>,\n",
       " <folium.features.CircleMarker at 0x7fdede4f7eb8>,\n",
       " <folium.features.CircleMarker at 0x7fdede4f7e10>,\n",
       " <folium.features.CircleMarker at 0x7fdede4f71d0>,\n",
       " <folium.features.CircleMarker at 0x7fdede4f7710>,\n",
       " <folium.features.CircleMarker at 0x7fdede4f7d30>,\n",
       " <folium.features.CircleMarker at 0x7fdede559198>,\n",
       " <folium.features.CircleMarker at 0x7fdede5591d0>,\n",
       " <folium.features.CircleMarker at 0x7fdede559be0>,\n",
       " <folium.features.CircleMarker at 0x7fdede559978>,\n",
       " <folium.features.CircleMarker at 0x7fdede559470>,\n",
       " <folium.features.CircleMarker at 0x7fdede559f98>,\n",
       " <folium.features.CircleMarker at 0x7fdede4e7c18>,\n",
       " <folium.features.CircleMarker at 0x7fdede4e75f8>,\n",
       " <folium.features.CircleMarker at 0x7fdede4e78d0>,\n",
       " <folium.features.CircleMarker at 0x7fdede4e7ef0>,\n",
       " <folium.features.CircleMarker at 0x7fdede4e77f0>,\n",
       " <folium.features.CircleMarker at 0x7fdede4e7be0>,\n",
       " <folium.features.CircleMarker at 0x7fdede4e7588>,\n",
       " <folium.features.CircleMarker at 0x7fdede4e72b0>,\n",
       " <folium.features.CircleMarker at 0x7fdede4f7128>,\n",
       " <folium.features.CircleMarker at 0x7fdede4f7a90>,\n",
       " <folium.features.CircleMarker at 0x7fdede4f7320>,\n",
       " <folium.features.CircleMarker at 0x7fdede4f7588>,\n",
       " <folium.features.CircleMarker at 0x7fdede4f75c0>,\n",
       " <folium.features.CircleMarker at 0x7fdede4f7ef0>,\n",
       " <folium.features.CircleMarker at 0x7fdede4f2780>,\n",
       " <folium.features.CircleMarker at 0x7fdede4f2710>,\n",
       " <folium.features.CircleMarker at 0x7fdede4f2f60>,\n",
       " <folium.features.CircleMarker at 0x7fdede4f22e8>,\n",
       " <folium.features.CircleMarker at 0x7fdede4f2320>,\n",
       " <folium.features.CircleMarker at 0x7fdede4f2940>,\n",
       " <folium.features.CircleMarker at 0x7fdede4f2ac8>,\n",
       " <folium.features.CircleMarker at 0x7fdede4e7ba8>,\n",
       " <folium.features.CircleMarker at 0x7fdede4e7ac8>,\n",
       " <folium.features.CircleMarker at 0x7fdede4f7f28>,\n",
       " <folium.features.CircleMarker at 0x7fdede4f2908>,\n",
       " <folium.features.CircleMarker at 0x7fdede4f2b38>,\n",
       " <folium.features.CircleMarker at 0x7fdede559cf8>,\n",
       " <folium.features.CircleMarker at 0x7fdede4f7d68>,\n",
       " <folium.features.CircleMarker at 0x7fdede4f7f60>,\n",
       " <folium.features.CircleMarker at 0x7fdede559630>,\n",
       " <folium.features.CircleMarker at 0x7fdede5313c8>,\n",
       " <folium.features.CircleMarker at 0x7fdede531828>,\n",
       " <folium.features.CircleMarker at 0x7fdede4f2c18>,\n",
       " <folium.features.CircleMarker at 0x7fdede4f2d68>,\n",
       " <folium.features.CircleMarker at 0x7fdede4f2128>,\n",
       " <folium.features.CircleMarker at 0x7fdede4f2a20>,\n",
       " <folium.features.CircleMarker at 0x7fdede4f23c8>,\n",
       " <folium.features.CircleMarker at 0x7fdede4f2518>,\n",
       " <folium.features.CircleMarker at 0x7fdede4e5978>,\n",
       " <folium.features.CircleMarker at 0x7fdede4e5828>,\n",
       " <folium.features.CircleMarker at 0x7fdede4e5240>,\n",
       " <folium.features.CircleMarker at 0x7fdede4e5080>,\n",
       " <folium.features.CircleMarker at 0x7fdede4e5780>,\n",
       " <folium.features.CircleMarker at 0x7fdede536438>,\n",
       " <folium.features.CircleMarker at 0x7fdede559438>,\n",
       " <folium.features.CircleMarker at 0x7fdede4e56a0>,\n",
       " <folium.features.CircleMarker at 0x7fdede4e7048>,\n",
       " <folium.features.CircleMarker at 0x7fdede4e5278>,\n",
       " <folium.features.CircleMarker at 0x7fdede4e58d0>,\n",
       " <folium.features.CircleMarker at 0x7fdede4e5eb8>,\n",
       " <folium.features.CircleMarker at 0x7fdede4e50f0>,\n",
       " <folium.features.CircleMarker at 0x7fdede4e55f8>,\n",
       " <folium.features.CircleMarker at 0x7fdede4e5ef0>,\n",
       " <folium.features.CircleMarker at 0x7fdede559240>,\n",
       " <folium.features.CircleMarker at 0x7fdede4f7198>,\n",
       " <folium.features.CircleMarker at 0x7fdede4e76a0>,\n",
       " <folium.features.CircleMarker at 0x7fdede4e7278>,\n",
       " <folium.features.CircleMarker at 0x7fdede4e7b70>,\n",
       " <folium.features.CircleMarker at 0x7fdede4e7dd8>,\n",
       " <folium.features.CircleMarker at 0x7fdede4e7fd0>,\n",
       " <folium.features.CircleMarker at 0x7fdede4b33c8>,\n",
       " <folium.features.CircleMarker at 0x7fdede4b39b0>,\n",
       " <folium.features.CircleMarker at 0x7fdede4b3908>,\n",
       " <folium.features.CircleMarker at 0x7fdede4b3a20>,\n",
       " <folium.features.CircleMarker at 0x7fdede4b30f0>,\n",
       " <folium.features.CircleMarker at 0x7fdede4b3710>,\n",
       " <folium.features.CircleMarker at 0x7fdede4b3dd8>,\n",
       " <folium.features.CircleMarker at 0x7fdede4e5fd0>,\n",
       " <folium.features.CircleMarker at 0x7fdede4e5860>,\n",
       " <folium.features.CircleMarker at 0x7fdede4e50b8>,\n",
       " <folium.features.CircleMarker at 0x7fdede4e56d8>,\n",
       " <folium.features.CircleMarker at 0x7fdede4e5dd8>,\n",
       " <folium.features.CircleMarker at 0x7fdede4e52e8>,\n",
       " <folium.features.CircleMarker at 0x7fdede4b3048>,\n",
       " <folium.features.CircleMarker at 0x7fdede4d3550>,\n",
       " <folium.features.CircleMarker at 0x7fdede4d37b8>,\n",
       " <folium.features.CircleMarker at 0x7fdede4d3780>,\n",
       " <folium.features.CircleMarker at 0x7fdede4d3cc0>,\n",
       " <folium.features.CircleMarker at 0x7fdede4d3eb8>,\n",
       " <folium.features.CircleMarker at 0x7fdede4d3f98>,\n",
       " <folium.features.CircleMarker at 0x7fdede4b3128>,\n",
       " <folium.features.CircleMarker at 0x7fdede4b3278>,\n",
       " <folium.features.CircleMarker at 0x7fdede4d3198>,\n",
       " <folium.features.CircleMarker at 0x7fdede4d3668>,\n",
       " <folium.features.CircleMarker at 0x7fdede4d30f0>,\n",
       " <folium.features.CircleMarker at 0x7fdede4d3080>,\n",
       " <folium.features.CircleMarker at 0x7fdede4f2048>,\n",
       " <folium.features.CircleMarker at 0x7fdede4d3710>,\n",
       " <folium.features.CircleMarker at 0x7fdede4d7080>,\n",
       " <folium.features.CircleMarker at 0x7fdede4d7240>,\n",
       " <folium.features.CircleMarker at 0x7fdede4d7f28>,\n",
       " <folium.features.CircleMarker at 0x7fdede4f26d8>,\n",
       " <folium.features.CircleMarker at 0x7fdede4f2e80>,\n",
       " <folium.features.CircleMarker at 0x7fdede4b3630>,\n",
       " <folium.features.CircleMarker at 0x7fdede4b34e0>,\n",
       " <folium.features.CircleMarker at 0x7fdede4b3438>,\n",
       " <folium.features.CircleMarker at 0x7fdede4b37b8>,\n",
       " <folium.features.CircleMarker at 0x7fdede4b3f28>,\n",
       " <folium.features.CircleMarker at 0x7fdede4b3be0>,\n",
       " <folium.features.CircleMarker at 0x7fdede4d3160>,\n",
       " <folium.features.CircleMarker at 0x7fdede4d3940>,\n",
       " <folium.features.CircleMarker at 0x7fdede4e7780>,\n",
       " <folium.features.CircleMarker at 0x7fdede4d3b00>,\n",
       " <folium.features.CircleMarker at 0x7fdede4d71d0>,\n",
       " <folium.features.CircleMarker at 0x7fdede4d7470>,\n",
       " <folium.features.CircleMarker at 0x7fdede4d7be0>,\n",
       " <folium.features.CircleMarker at 0x7fdede4d7048>,\n",
       " <folium.features.CircleMarker at 0x7fdede4d7b70>,\n",
       " <folium.features.CircleMarker at 0x7fdede4d7d30>,\n",
       " <folium.features.CircleMarker at 0x7fdede471978>,\n",
       " <folium.features.CircleMarker at 0x7fdede471d30>,\n",
       " <folium.features.CircleMarker at 0x7fdede471550>,\n",
       " <folium.features.CircleMarker at 0x7fdede471fd0>,\n",
       " <folium.features.CircleMarker at 0x7fdede471b70>,\n",
       " <folium.features.CircleMarker at 0x7fdede4711d0>,\n",
       " <folium.features.CircleMarker at 0x7fdede471128>,\n",
       " <folium.features.CircleMarker at 0x7fdede4d7278>,\n",
       " <folium.features.CircleMarker at 0x7fdede4719b0>,\n",
       " <folium.features.CircleMarker at 0x7fdede471518>,\n",
       " <folium.features.CircleMarker at 0x7fdede471eb8>,\n",
       " <folium.features.CircleMarker at 0x7fdede471898>,\n",
       " <folium.features.CircleMarker at 0x7fdede4714a8>,\n",
       " <folium.features.CircleMarker at 0x7fdede4715c0>,\n",
       " <folium.features.CircleMarker at 0x7fdede492400>,\n",
       " <folium.features.CircleMarker at 0x7fdede492080>,\n",
       " <folium.features.CircleMarker at 0x7fdede492e48>,\n",
       " <folium.features.CircleMarker at 0x7fdede4929e8>,\n",
       " <folium.features.CircleMarker at 0x7fdede4924e0>,\n",
       " <folium.features.CircleMarker at 0x7fdede4d7518>,\n",
       " <folium.features.CircleMarker at 0x7fdede4d32b0>,\n",
       " <folium.features.CircleMarker at 0x7fdede4d3518>,\n",
       " <folium.features.CircleMarker at 0x7fdede4d3978>,\n",
       " <folium.features.CircleMarker at 0x7fdede471e80>,\n",
       " <folium.features.CircleMarker at 0x7fdede4717b8>,\n",
       " <folium.features.CircleMarker at 0x7fdede4710f0>,\n",
       " <folium.features.CircleMarker at 0x7fdede471710>,\n",
       " <folium.features.CircleMarker at 0x7fdede4d7320>,\n",
       " <folium.features.CircleMarker at 0x7fdede471198>,\n",
       " <folium.features.CircleMarker at 0x7fdede492e10>,\n",
       " <folium.features.CircleMarker at 0x7fdede4926a0>,\n",
       " <folium.features.CircleMarker at 0x7fdede492438>,\n",
       " <folium.features.CircleMarker at 0x7fdede4924a8>,\n",
       " <folium.features.CircleMarker at 0x7fdede4921d0>,\n",
       " <folium.features.CircleMarker at 0x7fdede492240>,\n",
       " <folium.features.CircleMarker at 0x7fdede46af60>,\n",
       " <folium.features.CircleMarker at 0x7fdede46a780>,\n",
       " <folium.features.CircleMarker at 0x7fdede46a8d0>,\n",
       " <folium.features.CircleMarker at 0x7fdede46a240>,\n",
       " <folium.features.CircleMarker at 0x7fdede46a668>,\n",
       " <folium.features.CircleMarker at 0x7fdede46aeb8>,\n",
       " <folium.features.CircleMarker at 0x7fdede46acc0>,\n",
       " <folium.features.CircleMarker at 0x7fdede492f60>,\n",
       " <folium.features.CircleMarker at 0x7fdede46ae80>,\n",
       " <folium.features.CircleMarker at 0x7fdede46a320>,\n",
       " <folium.features.CircleMarker at 0x7fdede46ada0>,\n",
       " <folium.features.CircleMarker at 0x7fdede46a160>,\n",
       " <folium.features.CircleMarker at 0x7fdede46a7b8>,\n",
       " <folium.features.CircleMarker at 0x7fdede46a390>,\n",
       " <folium.features.CircleMarker at 0x7fdede439630>,\n",
       " <folium.features.CircleMarker at 0x7fdede439208>,\n",
       " <folium.features.CircleMarker at 0x7fdede439e48>,\n",
       " <folium.features.CircleMarker at 0x7fdede439ef0>,\n",
       " <folium.features.CircleMarker at 0x7fdede439a90>,\n",
       " <folium.features.CircleMarker at 0x7fdede46ae48>,\n",
       " <folium.features.CircleMarker at 0x7fdede46ab00>,\n",
       " <folium.features.CircleMarker at 0x7fdede46a9b0>,\n",
       " <folium.features.CircleMarker at 0x7fdede46a860>,\n",
       " <folium.features.CircleMarker at 0x7fdede46ab38>,\n",
       " <folium.features.CircleMarker at 0x7fdede439898>,\n",
       " <folium.features.CircleMarker at 0x7fdede4e5438>,\n",
       " <folium.features.CircleMarker at 0x7fdede4d7828>,\n",
       " <folium.features.CircleMarker at 0x7fdede4d74a8>,\n",
       " <folium.features.CircleMarker at 0x7fdede4d75f8>,\n",
       " <folium.features.CircleMarker at 0x7fdede4d7630>,\n",
       " <folium.features.CircleMarker at 0x7fdede492d68>,\n",
       " <folium.features.CircleMarker at 0x7fdede4d7ba8>,\n",
       " <folium.features.CircleMarker at 0x7fdede471358>,\n",
       " <folium.features.CircleMarker at 0x7fdede492b00>,\n",
       " <folium.features.CircleMarker at 0x7fdf04021e80>,\n",
       " <folium.features.CircleMarker at 0x7fdede572080>,\n",
       " <folium.features.CircleMarker at 0x7fdede4e5940>,\n",
       " <folium.features.CircleMarker at 0x7fdede439240>,\n",
       " <folium.features.CircleMarker at 0x7fdede492a58>,\n",
       " <folium.features.CircleMarker at 0x7fdede492f28>,\n",
       " <folium.features.CircleMarker at 0x7fdede8596d8>,\n",
       " <folium.features.CircleMarker at 0x7fdede492a20>,\n",
       " <folium.features.CircleMarker at 0x7fdede859ac8>,\n",
       " <folium.features.CircleMarker at 0x7fdede4710b8>,\n",
       " <folium.features.CircleMarker at 0x7fdede439278>,\n",
       " <folium.features.CircleMarker at 0x7fdede4399e8>,\n",
       " <folium.features.CircleMarker at 0x7fdede4394a8>,\n",
       " <folium.features.CircleMarker at 0x7fdede439940>,\n",
       " <folium.features.CircleMarker at 0x7fdede439be0>,\n",
       " <folium.features.CircleMarker at 0x7fdede42b400>,\n",
       " <folium.features.CircleMarker at 0x7fdede587b70>,\n",
       " <folium.features.CircleMarker at 0x7fdede4b3470>,\n",
       " <folium.features.CircleMarker at 0x7fdede4f2278>,\n",
       " <folium.features.CircleMarker at 0x7fdede439c88>,\n",
       " <folium.features.CircleMarker at 0x7fdede42b198>,\n",
       " <folium.features.CircleMarker at 0x7fdede42b1d0>,\n",
       " <folium.features.CircleMarker at 0x7fdede42be80>,\n",
       " <folium.features.CircleMarker at 0x7fdede42b278>,\n",
       " <folium.features.CircleMarker at 0x7fdede859208>,\n",
       " <folium.features.CircleMarker at 0x7fdede42b710>,\n",
       " <folium.features.CircleMarker at 0x7fdede42bd68>,\n",
       " <folium.features.CircleMarker at 0x7fdede42be48>,\n",
       " <folium.features.CircleMarker at 0x7fdede42b898>,\n",
       " <folium.features.CircleMarker at 0x7fdede42b748>,\n",
       " <folium.features.CircleMarker at 0x7fdede42b240>,\n",
       " <folium.features.CircleMarker at 0x7fdede6da710>,\n",
       " <folium.features.CircleMarker at 0x7fdede859908>,\n",
       " <folium.features.CircleMarker at 0x7fdede859b00>,\n",
       " <folium.features.CircleMarker at 0x7fdede42bf28>,\n",
       " <folium.features.CircleMarker at 0x7fdede439d30>,\n",
       " <folium.features.CircleMarker at 0x7fdede45fdd8>,\n",
       " <folium.features.CircleMarker at 0x7fdede45ff60>,\n",
       " <folium.features.CircleMarker at 0x7fdede45f7b8>,\n",
       " <folium.features.CircleMarker at 0x7fdede45f7f0>,\n",
       " <folium.features.CircleMarker at 0x7fdede42b630>,\n",
       " <folium.features.CircleMarker at 0x7fdede42bb70>,\n",
       " <folium.features.CircleMarker at 0x7fdede42be10>,\n",
       " <folium.features.CircleMarker at 0x7fdede42bd30>,\n",
       " <folium.features.CircleMarker at 0x7fdede42b978>,\n",
       " <folium.features.CircleMarker at 0x7fdede45ff28>,\n",
       " <folium.features.CircleMarker at 0x7fdede4394e0>,\n",
       " <folium.features.CircleMarker at 0x7fdede439e10>,\n",
       " <folium.features.CircleMarker at 0x7fdede45f1d0>,\n",
       " <folium.features.CircleMarker at 0x7fdede45fba8>,\n",
       " <folium.features.CircleMarker at 0x7fdede45fb70>,\n",
       " <folium.features.CircleMarker at 0x7fdede425828>,\n",
       " <folium.features.CircleMarker at 0x7fdede4259e8>,\n",
       " <folium.features.CircleMarker at 0x7fdede4253c8>,\n",
       " <folium.features.CircleMarker at 0x7fdede425278>,\n",
       " <folium.features.CircleMarker at 0x7fdede425fd0>,\n",
       " <folium.features.CircleMarker at 0x7fdede45fc50>,\n",
       " <folium.features.CircleMarker at 0x7fdede45fe80>,\n",
       " <folium.features.CircleMarker at 0x7fdede45f860>,\n",
       " <folium.features.CircleMarker at 0x7fdede45fd68>,\n",
       " <folium.features.CircleMarker at 0x7fdede45fac8>,\n",
       " <folium.features.CircleMarker at 0x7fdede45fa20>,\n",
       " <folium.features.CircleMarker at 0x7fdede45fda0>,\n",
       " <folium.features.CircleMarker at 0x7fdede425dd8>,\n",
       " <folium.features.CircleMarker at 0x7fdede425198>,\n",
       " <folium.features.CircleMarker at 0x7fdede425710>,\n",
       " <folium.features.CircleMarker at 0x7fdede425c50>,\n",
       " <folium.features.CircleMarker at 0x7fdede3fdd68>,\n",
       " <folium.features.CircleMarker at 0x7fdede3fd240>,\n",
       " <folium.features.CircleMarker at 0x7fdede3fde48>,\n",
       " <folium.features.CircleMarker at 0x7fdede3fdef0>,\n",
       " <folium.features.CircleMarker at 0x7fdede3fdba8>,\n",
       " <folium.features.CircleMarker at 0x7fdede3fd1d0>,\n",
       " <folium.features.CircleMarker at 0x7fdede425518>,\n",
       " <folium.features.CircleMarker at 0x7fdede425da0>,\n",
       " <folium.features.CircleMarker at 0x7fdede425d68>,\n",
       " <folium.features.CircleMarker at 0x7fdede425860>,\n",
       " <folium.features.CircleMarker at 0x7fdede425e10>,\n",
       " <folium.features.CircleMarker at 0x7fdede425588>,\n",
       " <folium.features.CircleMarker at 0x7fdede419898>,\n",
       " <folium.features.CircleMarker at 0x7fdede3fd860>,\n",
       " <folium.features.CircleMarker at 0x7fdede3fda90>,\n",
       " <folium.features.CircleMarker at 0x7fdede3fd3c8>,\n",
       " <folium.features.CircleMarker at 0x7fdede3fd6d8>,\n",
       " <folium.features.CircleMarker at 0x7fdede3fd7b8>,\n",
       " <folium.features.CircleMarker at 0x7fdede3fd390>,\n",
       " <folium.features.CircleMarker at 0x7fdede4191d0>,\n",
       " <folium.features.CircleMarker at 0x7fdede419f60>,\n",
       " <folium.features.CircleMarker at 0x7fdede419828>,\n",
       " <folium.features.CircleMarker at 0x7fdede419b70>,\n",
       " <folium.features.CircleMarker at 0x7fdede4193c8>,\n",
       " <folium.features.CircleMarker at 0x7fdede3fda20>,\n",
       " <folium.features.CircleMarker at 0x7fdede45fc18>,\n",
       " <folium.features.CircleMarker at 0x7fdede3fdf60>,\n",
       " <folium.features.CircleMarker at 0x7fdede4198d0>,\n",
       " <folium.features.CircleMarker at 0x7fdede419400>,\n",
       " <folium.features.CircleMarker at 0x7fdede419080>,\n",
       " <folium.features.CircleMarker at 0x7fdede419630>,\n",
       " <folium.features.CircleMarker at 0x7fdede419a20>,\n",
       " <folium.features.CircleMarker at 0x7fdede419eb8>,\n",
       " <folium.features.CircleMarker at 0x7fdede3f9400>,\n",
       " <folium.features.CircleMarker at 0x7fdede42b5c0>,\n",
       " <folium.features.CircleMarker at 0x7fdede3f99b0>,\n",
       " <folium.features.CircleMarker at 0x7fdede425f60>,\n",
       " <folium.features.CircleMarker at 0x7fdede3f9e10>,\n",
       " <folium.features.CircleMarker at 0x7fdede3fdc50>,\n",
       " <folium.features.CircleMarker at 0x7fdede3fd198>,\n",
       " <folium.features.CircleMarker at 0x7fdede3fd780>,\n",
       " <folium.features.CircleMarker at 0x7fdede3fdf28>,\n",
       " <folium.features.CircleMarker at 0x7fdede3fd828>,\n",
       " <folium.features.CircleMarker at 0x7fdede419550>,\n",
       " <folium.features.CircleMarker at 0x7fdede419358>,\n",
       " <folium.features.CircleMarker at 0x7fdede42b860>,\n",
       " <folium.features.CircleMarker at 0x7fdede3f9358>,\n",
       " <folium.features.CircleMarker at 0x7fdede3f9860>,\n",
       " <folium.features.CircleMarker at 0x7fdede3f9630>,\n",
       " <folium.features.CircleMarker at 0x7fdede3f9278>,\n",
       " <folium.features.CircleMarker at 0x7fdede3f90f0>,\n",
       " <folium.features.CircleMarker at 0x7fdede3f9b38>,\n",
       " <folium.features.CircleMarker at 0x7fdede3f9080>,\n",
       " <folium.features.CircleMarker at 0x7fdede3bcef0>,\n",
       " <folium.features.CircleMarker at 0x7fdede3bcf60>,\n",
       " <folium.features.CircleMarker at 0x7fdede3bce48>,\n",
       " <folium.features.CircleMarker at 0x7fdede3bcd68>,\n",
       " <folium.features.CircleMarker at 0x7fdede3bcba8>,\n",
       " <folium.features.CircleMarker at 0x7fdede3bc358>,\n",
       " <folium.features.CircleMarker at 0x7fdede3f9f98>,\n",
       " <folium.features.CircleMarker at 0x7fdede3bc6a0>,\n",
       " <folium.features.CircleMarker at 0x7fdede3bc198>,\n",
       " <folium.features.CircleMarker at 0x7fdede3bceb8>,\n",
       " <folium.features.CircleMarker at 0x7fdede3bc550>,\n",
       " <folium.features.CircleMarker at 0x7fdede3bca58>,\n",
       " <folium.features.CircleMarker at 0x7fdede3bca20>,\n",
       " <folium.features.CircleMarker at 0x7fdede419860>,\n",
       " <folium.features.CircleMarker at 0x7fdede4190f0>,\n",
       " <folium.features.CircleMarker at 0x7fdede419128>,\n",
       " <folium.features.CircleMarker at 0x7fdede3bca90>,\n",
       " <folium.features.CircleMarker at 0x7fdede3bc780>,\n",
       " <folium.features.CircleMarker at 0x7fdede3bc208>,\n",
       " <folium.features.CircleMarker at 0x7fdede3ab978>,\n",
       " <folium.features.CircleMarker at 0x7fdede3ab4e0>,\n",
       " <folium.features.CircleMarker at 0x7fdede3ab358>,\n",
       " <folium.features.CircleMarker at 0x7fdede3ab9b0>,\n",
       " <folium.features.CircleMarker at 0x7fdede3bc7f0>,\n",
       " <folium.features.CircleMarker at 0x7fdede425c18>,\n",
       " <folium.features.CircleMarker at 0x7fdede4257f0>,\n",
       " <folium.features.CircleMarker at 0x7fdede3f9780>,\n",
       " <folium.features.CircleMarker at 0x7fdede3f9ef0>,\n",
       " <folium.features.CircleMarker at 0x7fdede3f9320>,\n",
       " <folium.features.CircleMarker at 0x7fdede3f9518>,\n",
       " <folium.features.CircleMarker at 0x7fdede3f9f28>,\n",
       " <folium.features.CircleMarker at 0x7fdede3aba90>,\n",
       " <folium.features.CircleMarker at 0x7fdede3ab2e8>,\n",
       " <folium.features.CircleMarker at 0x7fdede3b2eb8>,\n",
       " <folium.features.CircleMarker at 0x7fdede3b2be0>,\n",
       " <folium.features.CircleMarker at 0x7fdede3bc898>,\n",
       " <folium.features.CircleMarker at 0x7fdede3b2b00>,\n",
       " <folium.features.CircleMarker at 0x7fdede3b2780>,\n",
       " <folium.features.CircleMarker at 0x7fdede3b2a90>,\n",
       " <folium.features.CircleMarker at 0x7fdede3ab6d8>,\n",
       " <folium.features.CircleMarker at 0x7fdede3b2390>,\n",
       " <folium.features.CircleMarker at 0x7fdede3b22b0>,\n",
       " <folium.features.CircleMarker at 0x7fdede3b21d0>,\n",
       " <folium.features.CircleMarker at 0x7fdede3b2dd8>,\n",
       " <folium.features.CircleMarker at 0x7fdede3f90b8>,\n",
       " <folium.features.CircleMarker at 0x7fdede3f97f0>,\n",
       " <folium.features.CircleMarker at 0x7fdede3ab4a8>,\n",
       " <folium.features.CircleMarker at 0x7fdede3ab7b8>,\n",
       " <folium.features.CircleMarker at 0x7fdede3ab908>,\n",
       " <folium.features.CircleMarker at 0x7fdede3abf98>,\n",
       " <folium.features.CircleMarker at 0x7fdede3ab588>,\n",
       " <folium.features.CircleMarker at 0x7fdede3abd30>,\n",
       " <folium.features.CircleMarker at 0x7fdede371080>,\n",
       " <folium.features.CircleMarker at 0x7fdede371748>,\n",
       " <folium.features.CircleMarker at 0x7fdede371dd8>,\n",
       " <folium.features.CircleMarker at 0x7fdede3715c0>]"
      ]
     },
     "execution_count": 18,
     "metadata": {},
     "output_type": "execute_result"
    }
   ],
   "source": [
    "def markers_from_trips(trips):\n",
    "    #to_marker(trips)\n",
    "    return list(map(lambda trip: to_marker(location(trip)), trips))\n",
    "    \n",
    "        \n",
    "\n",
    "    \n",
    "\n",
    "markers_from_trips(cleaned_trips)\n",
    "#cleaned_trips[0]"
   ]
  },
  {
   "cell_type": "code",
   "execution_count": 19,
   "metadata": {},
   "outputs": [],
   "source": [
    "trip_markers = markers_from_trips(cleaned_trips)"
   ]
  },
  {
   "cell_type": "code",
   "execution_count": 20,
   "metadata": {},
   "outputs": [
    {
     "data": {
      "text/plain": [
       "[{'trip_distance': 18.38,\n",
       "  'pickup_latitude': 40.64499,\n",
       "  'pickup_longitude': -73.78115},\n",
       " {'trip_distance': 1.3,\n",
       "  'pickup_latitude': 40.766931,\n",
       "  'pickup_longitude': -73.982098},\n",
       " {'trip_distance': 4.5,\n",
       "  'pickup_latitude': 40.77773,\n",
       "  'pickup_longitude': -73.951902},\n",
       " {'trip_distance': 2.4,\n",
       "  'pickup_latitude': 40.795678,\n",
       "  'pickup_longitude': -73.971049}]"
      ]
     },
     "execution_count": 20,
     "metadata": {},
     "output_type": "execute_result"
    }
   ],
   "source": [
    "cleaned_trips[0:4]"
   ]
  },
  {
   "cell_type": "code",
   "execution_count": 21,
   "metadata": {},
   "outputs": [
    {
     "data": {
      "text/plain": [
       "[[40.64499, -73.78115],\n",
       " [40.766931, -73.982098],\n",
       " [40.77773, -73.951902],\n",
       " [40.795678, -73.971049]]"
      ]
     },
     "execution_count": 21,
     "metadata": {},
     "output_type": "execute_result"
    }
   ],
   "source": [
    "trip_markers and len(trip_markers) # 1000\n",
    "\n",
    "list(map(lambda marker: marker.location, trip_markers[0:4]))\n",
    "# [[40.64499, -73.78115],\n",
    "#  [40.766931, -73.982098],\n",
    "#  [40.77773, -73.951902],\n",
    "#  [40.795678, -73.971049]]"
   ]
  },
  {
   "cell_type": "markdown",
   "metadata": {},
   "source": [
    "Ok, now that we have a function that creates locations, and a function that creates markers, it is time to write a function to plot a map. \n",
    "\n",
    "Write a function called `map_from` that, provided the first argument of a list location and second argument an integer representing the `zoom_start`, returns a `folium` map the corresponding location and `zoom_start` attributes.\n",
    "\n",
    "> Hint: The following is how to write a map with folium:\n",
    "> ```python \n",
    "    folium.Map(location=location, zoom_start=zoom_amount)\n",
    "> ```"
   ]
  },
  {
   "cell_type": "code",
   "execution_count": 22,
   "metadata": {},
   "outputs": [],
   "source": [
    "            #list      #integer\n",
    "def map_from(location, zoom_amount):\n",
    "    return folium.Map(location=location, zoom_start=zoom_amount)"
   ]
  },
  {
   "cell_type": "code",
   "execution_count": 23,
   "metadata": {},
   "outputs": [
    {
     "data": {
      "text/plain": [
       "15"
      ]
     },
     "execution_count": 23,
     "metadata": {},
     "output_type": "execute_result"
    }
   ],
   "source": [
    "times_square_map = map_from([40.7589, -73.9851], 15)\n",
    "times_square_map and times_square_map.location # [40.7589, -73.9851]\n",
    "times_square_map and times_square_map.zoom_start # 15"
   ]
  },
  {
   "cell_type": "code",
   "execution_count": 24,
   "metadata": {
    "scrolled": true
   },
   "outputs": [
    {
     "data": {
      "text/html": [
       "<div style=\"width:100%;\"><div style=\"position:relative;width:100%;height:0;padding-bottom:60%;\"><iframe src=\"data:text/html;charset=utf-8;base64,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\" style=\"position:absolute;width:100%;height:100%;left:0;top:0;border:none !important;\" allowfullscreen webkitallowfullscreen mozallowfullscreen></iframe></div></div>"
      ],
      "text/plain": [
       "<folium.folium.Map at 0x7fdeddf267b8>"
      ]
     },
     "execution_count": 24,
     "metadata": {},
     "output_type": "execute_result"
    }
   ],
   "source": [
    "times_square_marker and times_square_marker.add_to(times_square_map)\n",
    "times_square_map"
   ]
  },
  {
   "cell_type": "markdown",
   "metadata": {},
   "source": [
    "Now that we have a marker and a map, now let's write a function that adds a lot of markers to a map.  This function should add each marker in the list to the map object then return the updated map object."
   ]
  },
  {
   "cell_type": "code",
   "execution_count": 25,
   "metadata": {},
   "outputs": [],
   "source": [
    "manhattan_map = map_from([40.7589, -73.9851], 13)"
   ]
  },
  {
   "cell_type": "code",
   "execution_count": 26,
   "metadata": {},
   "outputs": [],
   "source": [
    "def add_markers(markers, map_obj):\n",
    "    for marker in markers:\n",
    "        \n",
    "        marker and marker.add_to(manhattan_map)\n",
    "        return manhattan_map"
   ]
  },
  {
   "cell_type": "code",
   "execution_count": 27,
   "metadata": {
    "scrolled": false
   },
   "outputs": [],
   "source": [
    "map_with_markers = add_markers(trip_markers, manhattan_map)"
   ]
  },
  {
   "cell_type": "code",
   "execution_count": 28,
   "metadata": {},
   "outputs": [
    {
     "data": {
      "text/html": [
       "<div style=\"width:100%;\"><div style=\"position:relative;width:100%;height:0;padding-bottom:60%;\"><iframe src=\"data:text/html;charset=utf-8;base64,PCFET0NUWVBFIGh0bWw+CjxoZWFkPiAgICAKICAgIDxtZXRhIGh0dHAtZXF1aXY9ImNvbnRlbnQtdHlwZSIgY29udGVudD0idGV4dC9odG1sOyBjaGFyc2V0PVVURi04IiAvPgogICAgPHNjcmlwdD5MX1BSRUZFUl9DQU5WQVMgPSBmYWxzZTsgTF9OT19UT1VDSCA9IGZhbHNlOyBMX0RJU0FCTEVfM0QgPSBmYWxzZTs8L3NjcmlwdD4KICAgIDxzY3JpcHQgc3JjPSJodHRwczovL2Nkbi5qc2RlbGl2ci5uZXQvbnBtL2xlYWZsZXRAMS4yLjAvZGlzdC9sZWFmbGV0LmpzIj48L3NjcmlwdD4KICAgIDxzY3JpcHQgc3JjPSJodHRwczovL2FqYXguZ29vZ2xlYXBpcy5jb20vYWpheC9saWJzL2pxdWVyeS8xLjExLjEvanF1ZXJ5Lm1pbi5qcyI+PC9zY3JpcHQ+CiAgICA8c2NyaXB0IHNyYz0iaHR0cHM6Ly9tYXhjZG4uYm9vdHN0cmFwY2RuLmNvbS9ib290c3RyYXAvMy4yLjAvanMvYm9vdHN0cmFwLm1pbi5qcyI+PC9zY3JpcHQ+CiAgICA8c2NyaXB0IHNyYz0iaHR0cHM6Ly9jZG5qcy5jbG91ZGZsYXJlLmNvbS9hamF4L2xpYnMvTGVhZmxldC5hd2Vzb21lLW1hcmtlcnMvMi4wLjIvbGVhZmxldC5hd2Vzb21lLW1hcmtlcnMuanMiPjwvc2NyaXB0PgogICAgPGxpbmsgcmVsPSJzdHlsZXNoZWV0IiBocmVmPSJodHRwczovL2Nkbi5qc2RlbGl2ci5uZXQvbnBtL2xlYWZsZXRAMS4yLjAvZGlzdC9sZWFmbGV0LmNzcyIvPgogICAgPGxpbmsgcmVsPSJzdHlsZXNoZWV0IiBocmVmPSJodHRwczovL21heGNkbi5ib290c3RyYXBjZG4uY29tL2Jvb3RzdHJhcC8zLjIuMC9jc3MvYm9vdHN0cmFwLm1pbi5jc3MiLz4KICAgIDxsaW5rIHJlbD0ic3R5bGVzaGVldCIgaHJlZj0iaHR0cHM6Ly9tYXhjZG4uYm9vdHN0cmFwY2RuLmNvbS9ib290c3RyYXAvMy4yLjAvY3NzL2Jvb3RzdHJhcC10aGVtZS5taW4uY3NzIi8+CiAgICA8bGluayByZWw9InN0eWxlc2hlZXQiIGhyZWY9Imh0dHBzOi8vbWF4Y2RuLmJvb3RzdHJhcGNkbi5jb20vZm9udC1hd2Vzb21lLzQuNi4zL2Nzcy9mb250LWF3ZXNvbWUubWluLmNzcyIvPgogICAgPGxpbmsgcmVsPSJzdHlsZXNoZWV0IiBocmVmPSJodHRwczovL2NkbmpzLmNsb3VkZmxhcmUuY29tL2FqYXgvbGlicy9MZWFmbGV0LmF3ZXNvbWUtbWFya2Vycy8yLjAuMi9sZWFmbGV0LmF3ZXNvbWUtbWFya2Vycy5jc3MiLz4KICAgIDxsaW5rIHJlbD0ic3R5bGVzaGVldCIgaHJlZj0iaHR0cHM6Ly9yYXdnaXQuY29tL3B5dGhvbi12aXN1YWxpemF0aW9uL2ZvbGl1bS9tYXN0ZXIvZm9saXVtL3RlbXBsYXRlcy9sZWFmbGV0LmF3ZXNvbWUucm90YXRlLmNzcyIvPgogICAgPHN0eWxlPmh0bWwsIGJvZHkge3dpZHRoOiAxMDAlO2hlaWdodDogMTAwJTttYXJnaW46IDA7cGFkZGluZzogMDt9PC9zdHlsZT4KICAgIDxzdHlsZT4jbWFwIHtwb3NpdGlvbjphYnNvbHV0ZTt0b3A6MDtib3R0b206MDtyaWdodDowO2xlZnQ6MDt9PC9zdHlsZT4KICAgIAogICAgICAgICAgICA8c3R5bGU+ICNtYXBfNTVkM2UxODdhMDE3NDc2MDk0NjgzYzE2ZGU0OWVkNmQgewogICAgICAgICAgICAgICAgcG9zaXRpb24gOiByZWxhdGl2ZTsKICAgICAgICAgICAgICAgIHdpZHRoIDogMTAwLjAlOwogICAgICAgICAgICAgICAgaGVpZ2h0OiAxMDAuMCU7CiAgICAgICAgICAgICAgICBsZWZ0OiAwLjAlOwogICAgICAgICAgICAgICAgdG9wOiAwLjAlOwogICAgICAgICAgICAgICAgfQogICAgICAgICAgICA8L3N0eWxlPgogICAgICAgIAo8L2hlYWQ+Cjxib2R5PiAgICAKICAgIAogICAgICAgICAgICA8ZGl2IGNsYXNzPSJmb2xpdW0tbWFwIiBpZD0ibWFwXzU1ZDNlMTg3YTAxNzQ3NjA5NDY4M2MxNmRlNDllZDZkIiA+PC9kaXY+CiAgICAgICAgCjwvYm9keT4KPHNjcmlwdD4gICAgCiAgICAKCiAgICAgICAgICAgIAogICAgICAgICAgICAgICAgdmFyIGJvdW5kcyA9IG51bGw7CiAgICAgICAgICAgIAoKICAgICAgICAgICAgdmFyIG1hcF81NWQzZTE4N2EwMTc0NzYwOTQ2ODNjMTZkZTQ5ZWQ2ZCA9IEwubWFwKAogICAgICAgICAgICAgICAgICAgICAgICAgICAgICAgICAgJ21hcF81NWQzZTE4N2EwMTc0NzYwOTQ2ODNjMTZkZTQ5ZWQ2ZCcsCiAgICAgICAgICAgICAgICAgICAgICAgICAgICAgICAgICB7Y2VudGVyOiBbNDAuNzU4OSwtNzMuOTg1MV0sCiAgICAgICAgICAgICAgICAgICAgICAgICAgICAgICAgICB6b29tOiAxMywKICAgICAgICAgICAgICAgICAgICAgICAgICAgICAgICAgIG1heEJvdW5kczogYm91bmRzLAogICAgICAgICAgICAgICAgICAgICAgICAgICAgICAgICAgbGF5ZXJzOiBbXSwKICAgICAgICAgICAgICAgICAgICAgICAgICAgICAgICAgIHdvcmxkQ29weUp1bXA6IGZhbHNlLAogICAgICAgICAgICAgICAgICAgICAgICAgICAgICAgICAgY3JzOiBMLkNSUy5FUFNHMzg1NwogICAgICAgICAgICAgICAgICAgICAgICAgICAgICAgICB9KTsKICAgICAgICAgICAgCiAgICAgICAgCiAgICAKICAgICAgICAgICAgdmFyIHRpbGVfbGF5ZXJfYThjYjUwNGJlOWRlNDkyNTg3MDAzNjRhNTk3YmMyOTEgPSBMLnRpbGVMYXllcigKICAgICAgICAgICAgICAgICdodHRwczovL3tzfS50aWxlLm9wZW5zdHJlZXRtYXAub3JnL3t6fS97eH0ve3l9LnBuZycsCiAgICAgICAgICAgICAgICB7CiAgImF0dHJpYnV0aW9uIjogbnVsbCwKICAiZGV0ZWN0UmV0aW5hIjogZmFsc2UsCiAgIm1heFpvb20iOiAxOCwKICAibWluWm9vbSI6IDEsCiAgIm5vV3JhcCI6IGZhbHNlLAogICJzdWJkb21haW5zIjogImFiYyIKfQogICAgICAgICAgICAgICAgKS5hZGRUbyhtYXBfNTVkM2UxODdhMDE3NDc2MDk0NjgzYzE2ZGU0OWVkNmQpOwogICAgICAgIAogICAgCiAgICAgICAgICAgIHZhciBjaXJjbGVfbWFya2VyX2I0ODA4M2FhYjUzYjQ4ODhhN2U1NjExZGVkMDNlNzgyID0gTC5jaXJjbGVNYXJrZXIoCiAgICAgICAgICAgICAgICBbNDAuNjQ0OTksLTczLjc4MTE1XSwKICAgICAgICAgICAgICAgIHsKICAiYnViYmxpbmdNb3VzZUV2ZW50cyI6IHRydWUsCiAgImNvbG9yIjogIiMzMzg4ZmYiLAogICJkYXNoQXJyYXkiOiBudWxsLAogICJkYXNoT2Zmc2V0IjogbnVsbCwKICAiZmlsbCI6IGZhbHNlLAogICJmaWxsQ29sb3IiOiAiIzMzODhmZiIsCiAgImZpbGxPcGFjaXR5IjogMC4yLAogICJmaWxsUnVsZSI6ICJldmVub2RkIiwKICAibGluZUNhcCI6ICJyb3VuZCIsCiAgImxpbmVKb2luIjogInJvdW5kIiwKICAib3BhY2l0eSI6IDEuMCwKICAicmFkaXVzIjogNiwKICAic3Ryb2tlIjogdHJ1ZSwKICAid2VpZ2h0IjogMwp9CiAgICAgICAgICAgICAgICApLmFkZFRvKG1hcF81NWQzZTE4N2EwMTc0NzYwOTQ2ODNjMTZkZTQ5ZWQ2ZCk7CiAgICAgICAgICAgIAo8L3NjcmlwdD4=\" style=\"position:absolute;width:100%;height:100%;left:0;top:0;border:none !important;\" allowfullscreen webkitallowfullscreen mozallowfullscreen></iframe></div></div>"
      ],
      "text/plain": [
       "<folium.folium.Map at 0x7fdeddf38048>"
      ]
     },
     "execution_count": 28,
     "metadata": {},
     "output_type": "execute_result"
    }
   ],
   "source": [
    "map_with_markers"
   ]
  },
  {
   "cell_type": "markdown",
   "metadata": {},
   "source": [
    "### Using Nearest Neighbors"
   ]
  },
  {
   "cell_type": "markdown",
   "metadata": {},
   "source": [
    "Ok, let's write a function that given a latitude and longitude will predict the distance for us.  We'll do this by first finding the nearest trips given a latitude and longitude. "
   ]
  },
  {
   "cell_type": "markdown",
   "metadata": {},
   "source": [
    "Here we once again apply the nearest neighbors formula. As a first step, write a function named `distance_location` that calculates the distance in pickup location between two trips."
   ]
  },
  {
   "cell_type": "code",
   "execution_count": 29,
   "metadata": {},
   "outputs": [],
   "source": [
    "import math\n",
    "\n",
    "def distance_location(selected_trip, neighbor_trip):\n",
    "    #use pythagorean to calculate hypotenuse a2+b2=c2 c= sqrt\n",
    "    a= abs(selected_trip['pickup_latitude']-neighbor_trip['pickup_latitude'])\n",
    "    b= abs(selected_trip['pickup_longitude']-neighbor_trip['pickup_longitude'])\n",
    "    distance = math.sqrt((a*a)+(b*b))\n",
    "    return distance"
   ]
  },
  {
   "cell_type": "code",
   "execution_count": 30,
   "metadata": {},
   "outputs": [
    {
     "data": {
      "text/plain": [
       "0.235"
      ]
     },
     "execution_count": 30,
     "metadata": {},
     "output_type": "execute_result"
    }
   ],
   "source": [
    "first_trip = {'pickup_latitude': 40.64499, 'pickup_longitude': -73.78115, 'trip_distance': 18.38}\n",
    "second_trip = {'pickup_latitude': 40.766931, 'pickup_longitude': -73.982098, 'trip_distance': 1.3}\n",
    "distance_first_and_second = distance_location(first_trip, second_trip)\n",
    "\n",
    "distance_first_and_second and round(distance_first_and_second, 3) # 0.235"
   ]
  },
  {
   "cell_type": "markdown",
   "metadata": {},
   "source": [
    "Ok, next write a function called `distance_between_neighbors` that adds a new key-value pair, called `distance_from_selected`, that calculates the distance of the `neighbor_trip` from the `selected_trip`."
   ]
  },
  {
   "cell_type": "code",
   "execution_count": 31,
   "metadata": {},
   "outputs": [],
   "source": [
    "def distance_between_neighbors(selected_trip, neighbor_trip):\n",
    "    neighbor_trip['distance_from_selected'] = distance_location(selected_trip, neighbor_trip)\n",
    "    return neighbor_trip"
   ]
  },
  {
   "cell_type": "code",
   "execution_count": 32,
   "metadata": {},
   "outputs": [
    {
     "data": {
      "text/plain": [
       "{'pickup_latitude': 40.766931,\n",
       " 'pickup_longitude': -73.982098,\n",
       " 'trip_distance': 1.3,\n",
       " 'distance_from_selected': 0.23505256047318146}"
      ]
     },
     "execution_count": 32,
     "metadata": {},
     "output_type": "execute_result"
    }
   ],
   "source": [
    "distance_between_neighbors(first_trip, second_trip)\n",
    "\n",
    "# {'distance_from_selected': 0.23505256047318146,\n",
    "#  'pickup_latitude': 40.766931,\n",
    "#  'pickup_longitude': -73.982098,\n",
    "#  'trip_distance': 1.3}"
   ]
  },
  {
   "cell_type": "markdown",
   "metadata": {},
   "source": [
    "Ok, now our `neighbor_trip` has another attribute called `distance_from_selected`, that indicates the distance from the `neighbor_trip`'s pickup location from the `selected_trip`."
   ]
  },
  {
   "cell_type": "markdown",
   "metadata": {},
   "source": [
    "> ** Understand the data:** Our dictionary now has a few attributes, two of which say distance.  Let's make sure we understand the difference. \n",
    "> * **`distance_from_selected`:** This is our calculation of the distance of the neighbor's pickup location from the selected trip.\n",
    "> * **`trip_distance`:** This is the attribute we were provided initially.  It tells us the length of the neighbor's taxi trip from pickup to drop-off.  "
   ]
  },
  {
   "cell_type": "markdown",
   "metadata": {},
   "source": [
    "Next, write a function called `distance_all` that provided a list of neighbors, returns each of those neighbors with their respective `distance_from_selected` numbers."
   ]
  },
  {
   "cell_type": "code",
   "execution_count": 34,
   "metadata": {},
   "outputs": [],
   "source": [
    "def distance_all(selected_individual, neighbors):\n",
    "    remaining_neighbors = filter(lambda neighbor: neighbor != selected_individual, neighbors)\n",
    "\n",
    "    return list(map(lambda neighbor: distance_between_neighbors(selected_individual, neighbor), remaining_neighbors))\n"
   ]
  },
  {
   "cell_type": "code",
   "execution_count": 35,
   "metadata": {},
   "outputs": [
    {
     "data": {
      "text/plain": [
       "[{'trip_distance': 1.3,\n",
       "  'pickup_latitude': 40.766931,\n",
       "  'pickup_longitude': -73.982098,\n",
       "  'distance_from_selected': 0.23505256047318146},\n",
       " {'trip_distance': 4.5,\n",
       "  'pickup_latitude': 40.77773,\n",
       "  'pickup_longitude': -73.951902,\n",
       "  'distance_from_selected': 0.2162779533470808},\n",
       " {'trip_distance': 2.4,\n",
       "  'pickup_latitude': 40.795678,\n",
       "  'pickup_longitude': -73.971049,\n",
       "  'distance_from_selected': 0.24242215976473674}]"
      ]
     },
     "execution_count": 35,
     "metadata": {},
     "output_type": "execute_result"
    }
   ],
   "source": [
    "cleaned_trips and distance_all(first_trip, cleaned_trips[0:4])"
   ]
  },
  {
   "cell_type": "markdown",
   "metadata": {},
   "source": [
    "Now write the nearest neighbors formula to calculate the distance of the `selected_trip` from all of the `cleaned_trips` in our dataset.  If no number is provided, it should return the top 3 neighbors."
   ]
  },
  {
   "cell_type": "code",
   "execution_count": 42,
   "metadata": {},
   "outputs": [],
   "source": [
    "def nearest_neighbors(selected_trip, trips, number = 3):\n",
    "    #number = number or len(neighbors)\n",
    "    neighbor_distances = distance_all(selected_trip, trips)\n",
    "    sorted_neighbors = sorted(neighbor_distances, key=lambda trip: trip['distance_from_selected'])\n",
    "    return sorted_neighbors[:number]\n",
    "    "
   ]
  },
  {
   "cell_type": "code",
   "execution_count": 43,
   "metadata": {},
   "outputs": [
    {
     "data": {
      "text/plain": [
       "[{'trip_distance': 7.78,\n",
       "  'pickup_latitude': 40.64483,\n",
       "  'pickup_longitude': -73.781578,\n",
       "  'distance_from_selected': 0.0004569288784918792},\n",
       " {'trip_distance': 12.7,\n",
       "  'pickup_latitude': 40.644657,\n",
       "  'pickup_longitude': -73.782229,\n",
       "  'distance_from_selected': 0.0011292165425673159},\n",
       " {'trip_distance': 17.3,\n",
       "  'pickup_latitude': 40.648509,\n",
       "  'pickup_longitude': -73.783508,\n",
       "  'distance_from_selected': 0.0042359798158141185}]"
      ]
     },
     "execution_count": 43,
     "metadata": {},
     "output_type": "execute_result"
    }
   ],
   "source": [
    "new_trip = {'pickup_latitude': 40.64499,\n",
    "'pickup_longitude': -73.78115,\n",
    "'trip_distance': 18.38}\n",
    "\n",
    "nearest_three_neighbors = nearest_neighbors(new_trip, cleaned_trips or [], number = 3)\n",
    "nearest_three_neighbors\n",
    "# [{'distance_from_selected': 0.0004569288784918792,\n",
    "#   'pickup_latitude': 40.64483,\n",
    "#   'pickup_longitude': -73.781578,\n",
    "#   'trip_distance': 7.78},\n",
    "#  {'distance_from_selected': 0.0011292165425673159,\n",
    "#   'pickup_latitude': 40.644657,\n",
    "#   'pickup_longitude': -73.782229,\n",
    "#   'trip_distance': 12.7},\n",
    "#  {'distance_from_selected': 0.0042359798158141185,\n",
    "#   'pickup_latitude': 40.648509,\n",
    "#   'pickup_longitude': -73.783508,\n",
    "#   'trip_distance': 17.3}]"
   ]
  },
  {
   "cell_type": "markdown",
   "metadata": {},
   "source": [
    "Ok great! Now that we can provide a new trip location, and find the distances of the three nearest trips, we can take  calculate an estimate of the trip distance for that new trip location.  \n",
    "\n",
    "We do so simply by calculating the average of it's nearest neighbors."
   ]
  },
  {
   "cell_type": "code",
   "execution_count": null,
   "metadata": {},
   "outputs": [],
   "source": [
    "import statistics\n",
    "def mean_distance(neighbors):\n",
    "    nearest_distances = list(map(lambda neighbor: neighbor['trip_distance'], neighbors))\n",
    "    return round(statistics.mean(nearest_distances), 3)\n",
    "\n",
    "nearest_three_neighbors = nearest_neighbors(new_trip, cleaned_trips or [], number = 3)\n",
    "distance_estimate_of_selected_trip = mean_distance(nearest_three_neighbors) # 12.593\n",
    "distance_estimate_of_selected_trip"
   ]
  },
  {
   "cell_type": "markdown",
   "metadata": {},
   "source": [
    "### Choosing the correct number of neighbors"
   ]
  },
  {
   "cell_type": "markdown",
   "metadata": {},
   "source": [
    "Now, as we know from the last lesson, one tricky element is to determine how many neighbors to choose, our $k$ value,  before calculating the average.  We want to choose our value of $k$ such that it properly matches actual data, and so that it applies to new data.  There are fancy formulas to ensure that we **train** our algorithm so that our formula is optimized for all data, but here let's see different $k$ values manually.  This is the gist of choosing our $k$ value:\n",
    "\n",
    "* If we choose a $k$ value too low, our formula will be too heavily influenced by a single neighbor, whereas if our $k$ value is too high, we will be choosing so many neighbors that our nearest neighbors formula will not be adjust enough according to locations.\n",
    "\n",
    "Ok, let's experiment with this."
   ]
  },
  {
   "cell_type": "markdown",
   "metadata": {},
   "source": [
    "First, let's choose a midtown location, to see what the trip distance would be.  A Google search reveals the coordinates of 51st and 7th avenue to be the following."
   ]
  },
  {
   "cell_type": "code",
   "execution_count": null,
   "metadata": {},
   "outputs": [],
   "source": [
    "midtown_trip = dict(pickup_latitude=40.761710, pickup_longitude=-73.982760)"
   ]
  },
  {
   "cell_type": "code",
   "execution_count": null,
   "metadata": {},
   "outputs": [],
   "source": [
    "seven_closest = nearest_neighbors(midtown_trip, cleaned_trips, number = 7)\n",
    "seven_closest\n",
    "# [{'trip_distance': 0.58,\n",
    "#   'pickup_latitude': 40.761372,\n",
    "#   'pickup_longitude': -73.982602,\n",
    "#   'distance_from_selected': 0.00037310588309379025},\n",
    "#  {'trip_distance': 0.8,\n",
    "#   'pickup_latitude': 40.762444,\n",
    "#   'pickup_longitude': -73.98244,\n",
    "#   'distance_from_selected': 0.00080072217404248},\n",
    "#  {'trip_distance': 1.4,\n",
    "#   'pickup_latitude': 40.762767,\n",
    "#   'pickup_longitude': -73.982293,\n",
    "#   'distance_from_selected': 0.0011555682584735844},\n",
    "#  {'trip_distance': 8.3,\n",
    "#   'pickup_latitude': 40.762868,\n",
    "#   'pickup_longitude': -73.983233,\n",
    "#   'distance_from_selected': 0.0012508768924205918},\n",
    "#  {'trip_distance': 1.26,\n",
    "#   'pickup_latitude': 40.760057,\n",
    "#   'pickup_longitude': -73.983502,\n",
    "#   'distance_from_selected': 0.0018118976240381972},\n",
    "#  {'trip_distance': 0.0,\n",
    "#   'pickup_latitude': 40.760644,\n",
    "#   'pickup_longitude': -73.984531,\n",
    "#   'distance_from_selected': 0.002067074502774709},\n",
    "#  {'trip_distance': 1.72,\n",
    "#   'pickup_latitude': 40.762107,\n",
    "#   'pickup_longitude': -73.98479,\n",
    "#   'distance_from_selected': 0.0020684557041472677}]"
   ]
  },
  {
   "cell_type": "markdown",
   "metadata": {},
   "source": [
    "Looking at the `distance_from_selected` it appears that our our trips are still fairly close to our selected trip.  Notice that most of the data is within a distance of .002 away, so going to the top 7 nearest neighbors didn't seem to give us neighbors too far from each other, which is a good sign.\n",
    "\n",
    "Still, it's hard to know what distance in latitude and longitude really look like, so let's map the data. "
   ]
  },
  {
   "cell_type": "code",
   "execution_count": null,
   "metadata": {},
   "outputs": [],
   "source": [
    "midtown_location = location(midtown_trip) # [40.76171, -73.98276]\n",
    "midtown_map = map_from(midtown_location, 16)\n",
    "closest_markers = markers_from_trips(seven_closest)\n",
    "\n",
    "add_markers(closest_markers, midtown_map)"
   ]
  },
  {
   "cell_type": "markdown",
   "metadata": {},
   "source": [
    "Ok.  These locations stay fairly close to our estimated location of 51st street and 7th Avenue.  So they could be a good estimate of a trip distance."
   ]
  },
  {
   "cell_type": "code",
   "execution_count": null,
   "metadata": {},
   "outputs": [],
   "source": [
    "mean_distance(seven_closest) # 2.009"
   ]
  },
  {
   "cell_type": "markdown",
   "metadata": {},
   "source": [
    "Ok, now let's try a different location"
   ]
  },
  {
   "cell_type": "code",
   "execution_count": null,
   "metadata": {},
   "outputs": [],
   "source": [
    "charging_bull_closest = nearest_neighbors({'pickup_latitude': 40.7049, 'pickup_longitude': -74.0137}, cleaned_trips, number = 12)"
   ]
  },
  {
   "cell_type": "code",
   "execution_count": null,
   "metadata": {
    "scrolled": true
   },
   "outputs": [],
   "source": [
    "mean_distance(charging_bull_closest) # 3.145"
   ]
  },
  {
   "cell_type": "markdown",
   "metadata": {},
   "source": [
    "Ok, so there appears to be a significant difference between choosing a location near Times Square versus choosing a location at Wall Street."
   ]
  },
  {
   "cell_type": "markdown",
   "metadata": {},
   "source": [
    "### Summary"
   ]
  },
  {
   "cell_type": "markdown",
   "metadata": {},
   "source": [
    "In this lab, we used the nearest neighbors function to predict the length of a taxi ride.  To do so, we selected a location, then found a number of taxi rides closest to that location, and finally took the average trip lengths of the nearest taxi rides to find an estimate of the new ride's trip length.  You can see that even with just a little bit of math and programming we can begin to make meaningful predictions with data."
   ]
  }
 ],
 "metadata": {
  "kernelspec": {
   "display_name": "Python 3",
   "language": "python",
   "name": "python3"
  },
  "language_info": {
   "codemirror_mode": {
    "name": "ipython",
    "version": 3
   },
   "file_extension": ".py",
   "mimetype": "text/x-python",
   "name": "python",
   "nbconvert_exporter": "python",
   "pygments_lexer": "ipython3",
   "version": "3.6.4"
  }
 },
 "nbformat": 4,
 "nbformat_minor": 2
}
